{
 "cells": [
  {
   "cell_type": "markdown",
   "id": "6040dee2-6a37-4512-8366-f373f46a9bce",
   "metadata": {},
   "source": [
    "<h2><b>Factorial of Number Using Recursion:</b></h2>"
   ]
  },
  {
   "cell_type": "code",
   "execution_count": 13,
   "id": "5505f5bf-2e35-41c5-a78f-a4719c7a29c5",
   "metadata": {},
   "outputs": [
    {
     "data": {
      "text/plain": [
       "720"
      ]
     },
     "execution_count": 13,
     "metadata": {},
     "output_type": "execute_result"
    }
   ],
   "source": [
    "def factorial(n):\n",
    "    \"\"\"\n",
    "    Function to calculate the factorial of a non-negative integer n using recursion.\n",
    "    \n",
    "    Parameters:\n",
    "    n (int): The non-negative integer for which the factorial is to be calculated.\n",
    "    \n",
    "    Returns:\n",
    "    int: The factorial of n.\n",
    "    \"\"\"\n",
    "    # Your code here\n",
    "    if n<=1:\n",
    "        return 1\n",
    "    return n*factorial(n-1)\n",
    "\n",
    "factorial(6)"
   ]
  },
  {
   "cell_type": "markdown",
   "id": "93d154c8-b605-4b7b-8356-aa1a164ea4b3",
   "metadata": {},
   "source": [
    "<h2><b>Sum of N natural number Using Recursion:</b></h2>"
   ]
  },
  {
   "cell_type": "code",
   "execution_count": 21,
   "id": "a2dda7c4-305e-43c0-a127-66d933e178b2",
   "metadata": {},
   "outputs": [
    {
     "data": {
      "text/plain": [
       "55"
      ]
     },
     "execution_count": 21,
     "metadata": {},
     "output_type": "execute_result"
    }
   ],
   "source": [
    "def sum_of_natural_numbers(n):\n",
    "    \"\"\"\n",
    "    Function to calculate the sum of the first n natural numbers using recursion.\n",
    "    \n",
    "    Parameters:\n",
    "    n (int): The non-negative integer for which the sum is to be calculated.\n",
    "    \n",
    "    Returns:\n",
    "    int: The sum of the first n natural numbers.\n",
    "    \"\"\"\n",
    "    # Your code here\n",
    "    if n<=1:\n",
    "        return n\n",
    "    return n+sum_of_natural_numbers(n-1)\n",
    "\n",
    "sum_of_natural_numbers(10)"
   ]
  },
  {
   "cell_type": "markdown",
   "id": "ab82e44f-d267-4592-997f-1778cfc737cb",
   "metadata": {},
   "source": [
    "<h2><b>Number of digits in a number Using Recursion:</b></h2>"
   ]
  },
  {
   "cell_type": "code",
   "execution_count": 32,
   "id": "aabd24a7-eb86-49fd-b8a6-c14959c515f2",
   "metadata": {},
   "outputs": [
    {
     "data": {
      "text/plain": [
       "4"
      ]
     },
     "execution_count": 32,
     "metadata": {},
     "output_type": "execute_result"
    }
   ],
   "source": [
    "def count_digits(n):\n",
    "    \"\"\"\n",
    "    Function to find the number of digits in a number using recursion.\n",
    "    \n",
    "    Parameters:\n",
    "    n (int): The positive integer whose digits are to be counted.\n",
    "    \n",
    "    Returns:\n",
    "    int: The number of digits in the integer.\n",
    "    \"\"\"\n",
    "    # Your code here\n",
    "    if n>=1 and n<=9:\n",
    "        return 1\n",
    "    if n==0:\n",
    "        return 1\n",
    "    rec_ans=count_digits(int(n/10))\n",
    "    return 1+rec_ans\n",
    "\n",
    "count_digits(6969)"
   ]
  },
  {
   "cell_type": "markdown",
   "id": "23fee87a-fd0c-4141-99ef-e9813c6c99b6",
   "metadata": {},
   "source": [
    "<h2><b>nth number in Fibonacci Series Using Recursion:</b></h2>"
   ]
  },
  {
   "cell_type": "code",
   "execution_count": 40,
   "id": "afc6c762-9ad3-43f0-a526-b2857356f14c",
   "metadata": {},
   "outputs": [
    {
     "data": {
      "text/plain": [
       "5"
      ]
     },
     "execution_count": 40,
     "metadata": {},
     "output_type": "execute_result"
    }
   ],
   "source": [
    "def fibonacci(n):\n",
    "    \"\"\"\n",
    "    Function to calculate the nth Fibonacci number using recursion.\n",
    "    \n",
    "    Parameters:\n",
    "    n (int): The non-negative integer for which the Fibonacci number is to be calculated.\n",
    "    \n",
    "    Returns:\n",
    "    int: The nth Fibonacci number.\n",
    "    \"\"\"\n",
    "    # Your code here\n",
    "    if n<=1:\n",
    "        return n\n",
    "\n",
    "    return fibonacci(n-1)+fibonacci(n-2)\n",
    "\n",
    "fibonacci(5)"
   ]
  },
  {
   "cell_type": "markdown",
   "id": "09e251e2-f990-4a74-8e6c-84f7682547c5",
   "metadata": {},
   "source": [
    "<h2><b>Printing 1 to N Using Recursion:</b></h2>"
   ]
  },
  {
   "cell_type": "code",
   "execution_count": 70,
   "id": "3bc2c900-7e4f-45fe-b0b7-a211c500a446",
   "metadata": {},
   "outputs": [
    {
     "data": {
      "text/plain": [
       "[1, 2, 3, 4, 5]"
      ]
     },
     "execution_count": 70,
     "metadata": {},
     "output_type": "execute_result"
    }
   ],
   "source": [
    "def count_to_n(n,lst=[]):\n",
    "    \"\"\"\n",
    "    Function to return a list of integers from 1 to n using recursion.\n",
    "    \n",
    "    Parameters:\n",
    "    n (int): The positive integer representing the upper limit of the range.\n",
    "    \n",
    "    Returns:\n",
    "    list: A list of integers from 1 to n.\n",
    "    \"\"\"\n",
    "    # Your code here\n",
    "    if n<=0:\n",
    "        return []\n",
    "    count_to_n(n-1,lst)\n",
    "    lst.append(n)\n",
    "    return lst\n",
    "\n",
    "count_to_n(5)"
   ]
  },
  {
   "cell_type": "code",
   "execution_count": 74,
   "id": "8896d7fa-17e4-43b3-9b26-f6fd131bc4b6",
   "metadata": {},
   "outputs": [
    {
     "data": {
      "text/plain": [
       "[1, 2, 3, 4, 5]"
      ]
     },
     "execution_count": 74,
     "metadata": {},
     "output_type": "execute_result"
    }
   ],
   "source": [
    "#another solution:\n",
    "def count_to_n(n,lst=[]):\n",
    "    \"\"\"\n",
    "    Function to return a list of integers from 1 to n using recursion.\n",
    "    \n",
    "    Parameters:\n",
    "    n (int): The positive integer representing the upper limit of the range.\n",
    "    \n",
    "    Returns:\n",
    "    list: A list of integers from 1 to n.\n",
    "    \"\"\"\n",
    "    # Your code here\n",
    "    if n==1:\n",
    "        return [1]\n",
    "    rec_elems=count_to_n(n-1)\n",
    "    return rec_elems+[n]\n",
    "\n",
    "count_to_n(5)"
   ]
  },
  {
   "cell_type": "markdown",
   "id": "35b0625f-a3fb-45de-9ec2-333c5cadc271",
   "metadata": {},
   "source": [
    "<h2><b>Printing N to 1 Using Recursion:</b></h2>"
   ]
  },
  {
   "cell_type": "code",
   "execution_count": 85,
   "id": "f244f185-9aea-4ff9-8ab2-ebed0b5d00a4",
   "metadata": {},
   "outputs": [
    {
     "data": {
      "text/plain": [
       "[3, 2, 1]"
      ]
     },
     "execution_count": 85,
     "metadata": {},
     "output_type": "execute_result"
    }
   ],
   "source": [
    "def count_down(n):\n",
    "    \"\"\"\n",
    "    Function to return a list of integers from n to 1 using recursion.\n",
    "    \n",
    "    Parameters:\n",
    "    n (int): The positive integer representing the starting point of the range.\n",
    "    \n",
    "    Returns:\n",
    "    list: A list of integers from n to 1.\n",
    "    \"\"\"\n",
    "    # Your code here\n",
    "    if n==1:\n",
    "        return [1]\n",
    "    rec_elems=count_down(n-1)\n",
    "    return [n] + rec_elems\n",
    "\n",
    "count_down(3)"
   ]
  },
  {
   "cell_type": "markdown",
   "id": "b6cba590-c1ab-4633-87f4-84e654eb949b",
   "metadata": {},
   "source": [
    "<h2><b>Sum of Digits of a number Using Recursion:</b></h2>"
   ]
  },
  {
   "cell_type": "code",
   "execution_count": 101,
   "id": "852bb4a3-f547-44a8-903b-2daea95e6616",
   "metadata": {},
   "outputs": [
    {
     "data": {
      "text/plain": [
       "54"
      ]
     },
     "execution_count": 101,
     "metadata": {},
     "output_type": "execute_result"
    }
   ],
   "source": [
    "def sum_of_digits(n):\n",
    "    if n>=0 and n<=9:\n",
    "        return n\n",
    "    rec_value=sum_of_digits(int(n/10))\n",
    "    actual_ans=rec_value+(n%10)\n",
    "    return actual_ans\n",
    "sum_of_digits(6969345435)"
   ]
  },
  {
   "cell_type": "markdown",
   "id": "54457c31-cf85-409d-85fd-ad86c8a96cd7",
   "metadata": {},
   "source": [
    "<h2><b>Power of a number Using Recursion:</b></h2>"
   ]
  },
  {
   "cell_type": "code",
   "execution_count": 115,
   "id": "618ff055-780d-450f-a4a1-7bc10953888a",
   "metadata": {},
   "outputs": [
    {
     "data": {
      "text/plain": [
       "36"
      ]
     },
     "execution_count": 115,
     "metadata": {},
     "output_type": "execute_result"
    }
   ],
   "source": [
    "def power(base,exp):\n",
    "    if base==0:\n",
    "        return 0\n",
    "    if exp==0:\n",
    "        return 1\n",
    "    return base*power(base,exp-1)\n",
    "\n",
    "power(6,2)"
   ]
  },
  {
   "cell_type": "markdown",
   "id": "e72630c4-8fd9-4fb1-8624-eb08c4486597",
   "metadata": {},
   "source": [
    "<h2><b>Sum of an Array using Recursion:</b></h2>"
   ]
  },
  {
   "cell_type": "code",
   "execution_count": 156,
   "id": "9262508d-ebcd-44c3-94ed-66544b147311",
   "metadata": {},
   "outputs": [
    {
     "data": {
      "text/plain": [
       "15"
      ]
     },
     "execution_count": 156,
     "metadata": {},
     "output_type": "execute_result"
    }
   ],
   "source": [
    "def recursive_sum(arr):\n",
    "    \"\"\"\n",
    "    Function to calculate the sum of an array using recursion.\n",
    "    \n",
    "    Paraameters:\n",
    "    arr (list of int): The array of integers.\n",
    "    \n",
    "    Returns:\n",
    "    int: The sum of the array elements.\n",
    "    \"\"\"\n",
    "    # Your code here\n",
    "    if len(arr)==0:\n",
    "        return 0\n",
    "    return arr[0]+recursive_sum(arr[1:])\n",
    "\n",
    "recursive_sum([1,2,3,4,5])"
   ]
  },
  {
   "cell_type": "markdown",
   "id": "cad8be1a-996d-4109-82a9-3abe5cfc417a",
   "metadata": {},
   "source": [
    "<h2><b>First Index of an Element using Recursion:</b></h2>"
   ]
  },
  {
   "cell_type": "code",
   "execution_count": 176,
   "id": "59bc283e-54ab-4f99-8b4a-797960b92aeb",
   "metadata": {},
   "outputs": [
    {
     "data": {
      "text/plain": [
       "-1"
      ]
     },
     "execution_count": 176,
     "metadata": {},
     "output_type": "execute_result"
    }
   ],
   "source": [
    "def find_first_index(arr, element):\n",
    "    \"\"\"\n",
    "    Function to find the first index of a given element in an array using recursion.\n",
    "    \n",
    "    Parameters:\n",
    "    arr (list of int): The array to search through.\n",
    "    element (int): The element to find.\n",
    "    \n",
    "    Returns:\n",
    "    int: The first index of the element in the array, or -1 if not found.\n",
    "    \"\"\"\n",
    "    # Your code here\n",
    "    if len(arr)==0:\n",
    "        return -1\n",
    "    if arr[0]==element:\n",
    "        return 0\n",
    "    rec_ans=find_first_index(arr[1:],element)\n",
    "    if rec_ans==-1:\n",
    "        return -1\n",
    "    else:\n",
    "        return rec_ans+1\n",
    "\n",
    "find_first_index([1,2,3,4,5,3,1,3],10)"
   ]
  },
  {
   "cell_type": "markdown",
   "id": "0b37ff71-eb25-42d8-b63a-ca724db53b27",
   "metadata": {},
   "source": [
    "<h2><b>Print all Index of Element using Recursion:</b></h2>"
   ]
  },
  {
   "cell_type": "code",
   "execution_count": 241,
   "id": "0c18c947-9340-4fb0-a43b-e5f4dfc45281",
   "metadata": {},
   "outputs": [
    {
     "data": {
      "text/plain": [
       "[1, 3, 5]"
      ]
     },
     "execution_count": 241,
     "metadata": {},
     "output_type": "execute_result"
    }
   ],
   "source": [
    "def find_indices(arr, element):\n",
    "    \"\"\"\n",
    "    Function to find all indices of a given element in an array using recursion.\n",
    "    \n",
    "    Parameters:\n",
    "    arr (list of int): The array to search through.\n",
    "    element (int): The element to find.\n",
    "    \n",
    "    Returns:\n",
    "    list of int: A list containing all indices of the element in the array.\n",
    "    \"\"\"\n",
    "    # Your code here\n",
    "\n",
    "    def find_indices_helper(arr,element,index=0,lst=[]):\n",
    "        if index==len(arr):\n",
    "            return lst\n",
    "        if arr[index]==element:\n",
    "            lst.append(index)\n",
    "        return find_indices_helper(arr,element,index+1,lst)\n",
    "    \n",
    "    return find_indices_helper(arr,element)\n",
    "\n",
    "(find_indices([1, 2, 3, 2, 4, 2],2))"
   ]
  },
  {
   "cell_type": "markdown",
   "id": "43157e72-70db-4c75-9448-36394132e19a",
   "metadata": {},
   "source": [
    "<h2><b>Linear Search using Recursion:</b></h2>"
   ]
  },
  {
   "cell_type": "code",
   "execution_count": 248,
   "id": "56ca415e-fd87-40e6-be3a-6d4d6fb12b78",
   "metadata": {},
   "outputs": [
    {
     "data": {
      "text/plain": [
       "False"
      ]
     },
     "execution_count": 248,
     "metadata": {},
     "output_type": "execute_result"
    }
   ],
   "source": [
    "def linear_search(arr, target):\n",
    "    \"\"\"\n",
    "    Function to perform linear search on an array using recursion.\n",
    "    \n",
    "    Parameters:\n",
    "    arr (list of int): The array of integers.\n",
    "    target (int): The element to search for.\n",
    "    \n",
    "    Returns:\n",
    "    bool: True if target is found, False otherwise.\n",
    "    \"\"\"\n",
    "    # Your code here\n",
    "    if len(arr)==0:\n",
    "        return False\n",
    "    rec_ans=linear_search(arr[1:],target)\n",
    "    return arr[0]==target or rec_ans\n",
    "\n",
    "linear_search([10,20,30,40,50],25)"
   ]
  },
  {
   "cell_type": "code",
   "execution_count": 278,
   "id": "25be0ae6-f15e-4e5b-8a63-bee0953f6af8",
   "metadata": {},
   "outputs": [
    {
     "data": {
      "text/plain": [
       "True"
      ]
     },
     "execution_count": 278,
     "metadata": {},
     "output_type": "execute_result"
    }
   ],
   "source": [
    "#another implementation:\n",
    "def linear_search(arr, target,index=0):\n",
    "    \"\"\"\n",
    "    Function to perform linear search on an array using recursion.\n",
    "    \n",
    "    Parameters:\n",
    "    arr (list of int): The array of integers.\n",
    "    target (int): The element to search for.\n",
    "    \n",
    "    Returns:\n",
    "    bool: True if target is found, False otherwise.\n",
    "    \"\"\"\n",
    "    # Your code here\n",
    "    if len(arr)==index:\n",
    "        return False\n",
    "    if arr[index]==target:\n",
    "        return True\n",
    "    return linear_search(arr,target,index+1)\n",
    "        \n",
    "\n",
    "linear_search([3, 5, 1, 7, 9],1)"
   ]
  },
  {
   "cell_type": "markdown",
   "id": "4a12c5fa-4f4b-423a-92bd-fed752aac008",
   "metadata": {},
   "source": [
    "<h2><b>Merge Sort using Recursion:</b></h2>\n",
    "Visualization tool: https://opendsa-server.cs.vt.edu/embed/mergesortAV"
   ]
  },
  {
   "cell_type": "code",
   "execution_count": 40,
   "id": "fb969156-eba6-475d-b9ce-35e0fc628d97",
   "metadata": {},
   "outputs": [
    {
     "name": "stdout",
     "output_type": "stream",
     "text": [
      "[1, 2, 5, 5, 6, 9]\n"
     ]
    }
   ],
   "source": [
    "def merge_sort(arr):\n",
    "    \"\"\"\n",
    "    Function to perform merge sort on a list of integers using recursion.\n",
    "    \n",
    "    Parameters:\n",
    "    arr (list of int): The list to be sorted.\n",
    "    \n",
    "    Returns:\n",
    "    list of int: The sorted list.\n",
    "    \"\"\"\n",
    "    \n",
    "    def Merge(arr, s, m, e):\n",
    "        i = s\n",
    "        j = m + 1\n",
    "        array = []\n",
    "\n",
    "        while i <= m and j <= e:\n",
    "            if arr[i] < arr[j]:\n",
    "                array.append(arr[i])\n",
    "                i += 1\n",
    "            else:\n",
    "                array.append(arr[j])\n",
    "                j += 1\n",
    "\n",
    "        # Add remaining elements from left subarray\n",
    "        while i <= m:\n",
    "            array.append(arr[i])\n",
    "            i += 1\n",
    "\n",
    "        # Add remaining elements from right subarray\n",
    "        while j <= e:\n",
    "            array.append(arr[j])\n",
    "            j += 1\n",
    "\n",
    "        # Copy sorted elements back to original array\n",
    "        start_mylist = s\n",
    "        for val in array:\n",
    "            arr[start_mylist] = val\n",
    "            start_mylist += 1\n",
    "\n",
    "    def merge_sort_helper(arr, s=0, e=len(arr) - 1):\n",
    "        if s >= e:\n",
    "            return\n",
    "\n",
    "        m = s + (e - s) // 2\n",
    "        merge_sort_helper(arr, s, m)\n",
    "        merge_sort_helper(arr, m + 1, e)\n",
    "\n",
    "        Merge(arr, s, m, e)\n",
    "\n",
    "    merge_sort_helper(arr)\n",
    "    return arr  # Return sorted array\n",
    "\n",
    "# Testing the corrected function\n",
    "print(merge_sort([5, 2, 9, 1, 5, 6]))"
   ]
  },
  {
   "cell_type": "markdown",
   "id": "42e328ca-5c44-45e0-a1df-7a957183cab2",
   "metadata": {},
   "source": [
    "<h2><b>Quick Sort using Recursion:</b></h2>\n",
    "Visualization tool: https://opendsa-server.cs.vt.edu/embed/quicksortAV"
   ]
  },
  {
   "cell_type": "code",
   "execution_count": 75,
   "id": "b0e399d4-f08f-4aed-b462-87553981d8fa",
   "metadata": {},
   "outputs": [
    {
     "data": {
      "text/plain": [
       "[1, 2, 5, 5, 6, 9]"
      ]
     },
     "execution_count": 75,
     "metadata": {},
     "output_type": "execute_result"
    }
   ],
   "source": [
    "def quick_sort(arr):\n",
    "    \"\"\"\n",
    "    Function to perform quick sort on a list of integers using recursion.\n",
    "    \n",
    "    Parameters:\n",
    "    arr (list of int): The list to be sorted.\n",
    "    \n",
    "    Returns:\n",
    "    list of int: The sorted list.\n",
    "    \"\"\"\n",
    "    # Your code here\n",
    "    if len(arr)==0:\n",
    "        return []\n",
    "    if len(arr)==1:\n",
    "        return arr\n",
    "    def partitionFunction(arr,s,e):\n",
    "        pivot=arr[e]\n",
    "        i=s\n",
    "        right_position=s\n",
    "        \n",
    "        while (i<e):\n",
    "            if arr[i]<pivot:\n",
    "                right_position+=1\n",
    "            i+=1\n",
    "        arr[right_position],arr[e]=arr[e],arr[right_position]\n",
    "\n",
    "        pivotIndex=right_position\n",
    "        start=s\n",
    "        end=e\n",
    "        \n",
    "        while (start<pivotIndex) and (end>pivotIndex):\n",
    "            if arr[start]<pivot:\n",
    "                start+=1\n",
    "            elif arr[end]>= pivot:\n",
    "                end-=1\n",
    "            else:\n",
    "                arr[start],arr[end]=arr[end],arr[start]\n",
    "        return pivotIndex\n",
    "        \n",
    "    \n",
    "    def quick_sort_helper(arr,s=0,e=len(arr)-1):\n",
    "        if s>=e:\n",
    "            return\n",
    "        pivotIndex=partitionFunction(arr,s,e)\n",
    "\n",
    "        quick_sort_helper(arr,s,pivotIndex-1)\n",
    "        quick_sort_helper(arr,pivotIndex+1,e)\n",
    "        return arr\n",
    "\n",
    "    \n",
    "    return quick_sort_helper(arr)\n",
    "    \n",
    "quick_sort([5, 2, 9, 1, 5, 6])"
   ]
  },
  {
   "cell_type": "markdown",
   "id": "a8fd9073-dfb3-430a-8be7-bc2e4461ed7b",
   "metadata": {},
   "source": [
    "<h1><b>String Problems:</b></h1>"
   ]
  },
  {
   "cell_type": "markdown",
   "id": "6e9d15a3-af28-44a4-9917-0200848e501b",
   "metadata": {},
   "source": [
    "<h2><b>Problem 1:</b></h2>\n",
    "You are given a string. Your task is to check if the string is a palindrome using recursion. A palindrome is a string that reads the same forward and backward.\n",
    "Input: A string s.\n",
    "Output: A boolean indicating whether the string is a palindrome.\n",
    "Example:\n",
    "Input: s = \"radar\"\n",
    "Output: True"
   ]
  },
  {
   "cell_type": "code",
   "execution_count": 87,
   "id": "4aabbc94-756f-4136-ae9d-9ac0917fac77",
   "metadata": {},
   "outputs": [
    {
     "data": {
      "text/plain": [
       "False"
      ]
     },
     "execution_count": 87,
     "metadata": {},
     "output_type": "execute_result"
    }
   ],
   "source": [
    "def is_palindrome(s):\n",
    "    \"\"\"\n",
    "    Function to check if a string is a palindrome using recursion.\n",
    "    \n",
    "    Parameters:\n",
    "    s (str): The string to check.\n",
    "    \n",
    "    Returns:\n",
    "    bool: True if the string is a palindrome, False otherwise.\n",
    "    \"\"\"\n",
    "    # Your code here\n",
    "    if len(s)==0 or s=='':\n",
    "        return True\n",
    "    if s[0]!=s[-1]:\n",
    "        return False\n",
    "    return is_palindrome(s[1:len(s)-1])\n",
    "\n",
    "is_palindrome('nitie')"
   ]
  },
  {
   "cell_type": "markdown",
   "id": "06e96765-b39b-42c6-89e9-ee6cf8079b95",
   "metadata": {},
   "source": [
    "<h2><b>Problem 2:</b></h2>\n",
    "You are given a string. Your task is to return all possible subsequences of that string using recursion. A subsequence is a sequence that can be derived from another sequence by deleting some elements without changing the order of the remaining elements.\n",
    "Input: A string s\n",
    "Output: A list of all possible subsequences of the string.\n",
    "Example:\n",
    "Input: s = \"abc\"\n",
    "Output: ['', 'c', 'b', 'bc', 'a', 'ac', 'ab', 'abc']"
   ]
  },
  {
   "cell_type": "code",
   "execution_count": 105,
   "id": "3d08dacd-86c5-4705-a2df-c4d6c32ce73f",
   "metadata": {},
   "outputs": [
    {
     "data": {
      "text/plain": [
       "['', 'c', 'b', 'bc', 'a', 'ac', 'ab', 'abc']"
      ]
     },
     "execution_count": 105,
     "metadata": {},
     "output_type": "execute_result"
    }
   ],
   "source": [
    "def subsequences(s):\n",
    "    \"\"\"\n",
    "    Function to generate all subsequences of a string using recursion.\n",
    "    \n",
    "    Parameters:\n",
    "    s (str): The string to generate subsequences from.\n",
    "    \n",
    "    Returns:\n",
    "    list of str: A list containing all subsequences of the string.\n",
    "    \"\"\"\n",
    "    # Your code here\n",
    "    if s=='':\n",
    "        return ['']\n",
    "    small_ans=subsequences(s[1:])\n",
    "    ans=small_ans.copy()\n",
    "    for item in small_ans:\n",
    "        ans.append(s[0]+item)\n",
    "    return ans\n",
    "        \n",
    "subsequences('abc')"
   ]
  },
  {
   "cell_type": "markdown",
   "id": "edf15532-4796-4747-a66d-deb32c12bc02",
   "metadata": {},
   "source": [
    "<h2><b>Problem 3:</b></h2>\n",
    "You are given a string. Your task is to return all possible permutations of that string using recursion. A permutation of a string is a rearrangement of its characters in all possible ways.\n",
    "Input: A string s.\n",
    "Output: A list of all possible permutations of the string.\n",
    "Example:\n",
    "Input: s = \"abc\"\n",
    "Output: ['abc', 'acb', 'bac', 'bca', 'cab', 'cba']"
   ]
  },
  {
   "cell_type": "code",
   "execution_count": 113,
   "id": "fbb1e24f-8554-411e-b73b-68d883e49d2c",
   "metadata": {},
   "outputs": [
    {
     "data": {
      "text/plain": [
       "['abc', 'bac', 'bca', 'acb', 'cab', 'cba']"
      ]
     },
     "execution_count": 113,
     "metadata": {},
     "output_type": "execute_result"
    }
   ],
   "source": [
    "def permutations(s):\n",
    "    \"\"\"\n",
    "    Function to generate all permutations of a string using recursion.\n",
    "    \n",
    "    Parameters:\n",
    "    s (str): The string to generate permutations from.\n",
    "    \n",
    "    Returns:\n",
    "    list of str: A list containing all permutations of the string.\n",
    "    \"\"\"\n",
    "    # Your code here\n",
    "    if s=='' or len(s)==0:\n",
    "        return ['']\n",
    "    currentChar=s[0]\n",
    "    small_ans=permutations(s[1:])\n",
    "    all_permutations=[]\n",
    "    for eachPermutation in small_ans:\n",
    "        for position in range(len(eachPermutation)+1):\n",
    "            all_permutations.append(eachPermutation[:position]+currentChar+eachPermutation[position:])\n",
    "    return all_permutations\n",
    "\n",
    "permutations('abc')"
   ]
  }
 ],
 "metadata": {
  "kernelspec": {
   "display_name": "Python 3 (ipykernel)",
   "language": "python",
   "name": "python3"
  },
  "language_info": {
   "codemirror_mode": {
    "name": "ipython",
    "version": 3
   },
   "file_extension": ".py",
   "mimetype": "text/x-python",
   "name": "python",
   "nbconvert_exporter": "python",
   "pygments_lexer": "ipython3",
   "version": "3.12.7"
  }
 },
 "nbformat": 4,
 "nbformat_minor": 5
}
