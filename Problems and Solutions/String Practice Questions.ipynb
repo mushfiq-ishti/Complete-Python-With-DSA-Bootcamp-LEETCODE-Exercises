{
 "cells": [
  {
   "cell_type": "markdown",
   "id": "b7482517-798b-492f-9d48-9db985bb6492",
   "metadata": {},
   "source": [
    "<h2><b>Question-1:</b></h2>\n",
    "You are given a string s. Your task is to return the reversed version of the string.\n",
    "Input: A single string s, where the length of s is between 1 and 1000.\n",
    "Output: A single string that is the reverse of the input string.\n",
    "Example:\n",
    "Input: \"hello\"\n",
    "Output: \"olleh\""
   ]
  },
  {
   "cell_type": "code",
   "execution_count": null,
   "id": "7401d49a-8aec-4d75-8b0b-62aadbd0f10e",
   "metadata": {},
   "outputs": [],
   "source": [
    "def reverse_string(s):\n",
    "    \"\"\"\n",
    "    Function to return the reversed version of the input string.\n",
    "    \n",
    "    Parameters:\n",
    "    s (str): The input string to be reversed.\n",
    "    \n",
    "    Returns:\n",
    "    str: The reversed string.\n",
    "    \"\"\"\n",
    "    # Your code here\n",
    "    return s[::-1]"
   ]
  },
  {
   "cell_type": "markdown",
   "id": "f095a3ed-050a-4441-9182-33b92736a545",
   "metadata": {},
   "source": [
    "<h2><b>Question-2:</b></h2>\n",
    "You are given a string s. Your task is to count the number of vowels (both uppercase and lowercase) in the string and return the total count.\n",
    "Input: A single string s, where the length of s is between 1 and 1000.\n",
    "Output: An integer representing the total count of vowels in the input string.\n",
    "Example:\n",
    "Input: \"Hello, World!\"\n",
    "Output: 3"
   ]
  },
  {
   "cell_type": "code",
   "execution_count": 29,
   "id": "316dc1bc-7696-4fea-8a83-ed33aab08f8a",
   "metadata": {},
   "outputs": [
    {
     "data": {
      "text/plain": [
       "3"
      ]
     },
     "execution_count": 29,
     "metadata": {},
     "output_type": "execute_result"
    }
   ],
   "source": [
    "def count_vowels(s):\n",
    "    \"\"\"\n",
    "    Function to count the number of vowels in the input string.\n",
    "    \n",
    "    Parameters:\n",
    "    s (str): The input string to check for vowels.\n",
    "    \n",
    "    Returns:\n",
    "    int: The count of vowels in the input string.\n",
    "    \"\"\"\n",
    "    # Your code here\n",
    "    s=s.lower()\n",
    "    return sum([1  for x in s if x=='a'or x=='e' or x=='i'or x=='o' or x=='u'])    \n",
    "count_vowels(\"Hello, World!\")"
   ]
  },
  {
   "cell_type": "markdown",
   "id": "a1ee5dd3-2ae5-4013-b078-083128d440f7",
   "metadata": {},
   "source": [
    "<h2><b>Question-3:</b></h2>\n",
    "You are given two strings s and t. Your task is to check if the two strings are equal. Two strings are considered equal if they have the same length and the same characters at each position. You are not allowed to use any built-in string comparison functions.\n",
    "Input: Two strings s and t, where 1 <= len(s), len(t) <= 1000.\n",
    "Output: A boolean value (True or False) indicating whether the two strings are equal.\n",
    "Example:\n",
    "Input: s = \"hello\", t = \"hello\"\n",
    "Output: True"
   ]
  },
  {
   "cell_type": "code",
   "execution_count": 33,
   "id": "8ac64f0b-98d4-47f0-860a-2de360193639",
   "metadata": {},
   "outputs": [
    {
     "data": {
      "text/plain": [
       "True"
      ]
     },
     "execution_count": 33,
     "metadata": {},
     "output_type": "execute_result"
    }
   ],
   "source": [
    "def are_equal_strings(s, t):\n",
    "    \"\"\"\n",
    "    Function to check if two strings are equal without using built-in functions.\n",
    "    \n",
    "    Parameters:\n",
    "    s (str): The first string.\n",
    "    t (str): The second string.\n",
    "    \n",
    "    Returns:\n",
    "    bool: True if the strings are equal, False otherwise.\n",
    "    \"\"\"\n",
    "    # Your code here\n",
    "    return s==t\n",
    "\n",
    "s = \"hello\";t = \"hello\"\n",
    "are_equal_strings(s,t)"
   ]
  },
  {
   "cell_type": "markdown",
   "id": "4552d5c9-ead1-45bd-9d1b-c77747827553",
   "metadata": {},
   "source": [
    "<h2><b>Question-4:</b></h2>\n",
    "You are given a string s. Your task is to check if the string is a palindrome. A string is considered a palindrome if it reads the same forward and backward, ignoring spaces, punctuation, and case.\n",
    "Input: A single string s, where the length of s is between 1 and 1000.\n",
    "Output: A boolean value: True if the string is a palindrome, and False otherwise.\n",
    "Example:\n",
    "Input: \"A man a plan a canal Panama\"\n",
    "Output: True"
   ]
  },
  {
   "cell_type": "code",
   "execution_count": 49,
   "id": "91cffea6-fb26-485f-b051-6e44de396d27",
   "metadata": {},
   "outputs": [
    {
     "data": {
      "text/plain": [
       "True"
      ]
     },
     "execution_count": 49,
     "metadata": {},
     "output_type": "execute_result"
    }
   ],
   "source": [
    "def is_palindrome(s):\n",
    "    \"\"\"\n",
    "    Function to check if the input string is a palindrome.\n",
    "    \n",
    "    Parameters:\n",
    "    s (str): The input string to check.\n",
    "    \n",
    "    Returns:\n",
    "    bool: True if the string is a palindrome, False otherwise.\n",
    "    \"\"\"\n",
    "    # Your code here\n",
    "    s=s.lower()\n",
    "    s=s.replace(' ','')\n",
    "    s=s.replace(',','')\n",
    "    s=s.replace('!','')\n",
    "    s=s.replace('.','')\n",
    "    return s==s[::-1]\n",
    "\n",
    "is_palindrome(\"A man a plan a canal Panama\")"
   ]
  },
  {
   "cell_type": "markdown",
   "id": "2f44b3af-de8c-4690-be33-6b86f5c6a4f4",
   "metadata": {},
   "source": [
    "<h2><b>Question-5:</b></h2>\n",
    "You are given a string s. Your task is to count the number of words in the string and return the total count. A word is defined as a sequence of characters separated by spaces.\n",
    "Input: A single string s, where the length of s is between 1 and 1000.\n",
    "Output: An integer representing the total count of words in the input string.\n",
    "Example:\n",
    "Input: \"Hello, World!\"\n",
    "Output: 2"
   ]
  },
  {
   "cell_type": "code",
   "execution_count": 55,
   "id": "a5fa2901-2d09-4604-b224-6f9b78dbba46",
   "metadata": {},
   "outputs": [
    {
     "data": {
      "text/plain": [
       "2"
      ]
     },
     "execution_count": 55,
     "metadata": {},
     "output_type": "execute_result"
    }
   ],
   "source": [
    "def count_words(s):\n",
    "    \"\"\"\n",
    "    Function to count the number of words in the input string.\n",
    "    \n",
    "    Parameters:\n",
    "    s (str): The input string to check for words.\n",
    "    \n",
    "    Returns:\n",
    "    int: The count of words in the input string.\n",
    "    \"\"\"\n",
    "    # Your code here\n",
    "    s=s.split()\n",
    "    return len(s)\n",
    "\n",
    "count_words(\"Hello, World!\")"
   ]
  },
  {
   "cell_type": "markdown",
   "id": "534dc700-973b-4a59-be1d-73cc9419878d",
   "metadata": {},
   "source": [
    "<h2><b>Question-6:</b></h2>\n",
    "You are given a string s. Your task is to remove duplicate characters from the string while preserving the order of the first occurrences and return the modified string.\n",
    "Input: A single string s, where the length of s is between 1 and 1000.\n",
    "Output: A string that contains only the first occurrence of each character from the input string.\n",
    "Example:\n",
    "Input: \"programming\"\n",
    "Output: \"progamin\""
   ]
  },
  {
   "cell_type": "code",
   "execution_count": 67,
   "id": "949a90d2-8c97-41eb-b76f-edacd29daaa9",
   "metadata": {},
   "outputs": [
    {
     "data": {
      "text/plain": [
       "'progamin'"
      ]
     },
     "execution_count": 67,
     "metadata": {},
     "output_type": "execute_result"
    }
   ],
   "source": [
    "def remove_duplicates(s):\n",
    "    \"\"\"\n",
    "    Function to remove duplicate characters from the input string.\n",
    "    \n",
    "    Parameters:\n",
    "    s (str): The input string from which duplicates need to be removed.\n",
    "    \n",
    "    Returns:\n",
    "    str: The modified string with duplicates removed.\n",
    "    \"\"\"\n",
    "    # Your code here\n",
    "    new_str=\"\"\n",
    "    for letter in s:\n",
    "        if not letter in new_str:\n",
    "            new_str+=letter\n",
    "    return new_str\n",
    "\n",
    "remove_duplicates(\"programming\")"
   ]
  },
  {
   "cell_type": "markdown",
   "id": "d1e9ef10-5ee0-4561-8775-cde00ae3af51",
   "metadata": {},
   "source": [
    "<h2><b>Question-7:</b></h2>\n",
    "You are given a string s. Your task is to count the number of consonants in the string and return the total count. A consonant is any alphabetic character that is not a vowel (a, e, i, o, u).\n",
    "Input: A single string s, where the length of s is between 1 and 1000.\n",
    "Output: An integer representing the total count of consonants in the input string.\n",
    "Example:\n",
    "Input: \"Hello, World!\"\n",
    "Output: 7"
   ]
  },
  {
   "cell_type": "code",
   "execution_count": 73,
   "id": "a18cb7c6-d391-4be9-be71-1ca79922ee65",
   "metadata": {},
   "outputs": [
    {
     "data": {
      "text/plain": [
       "7"
      ]
     },
     "execution_count": 73,
     "metadata": {},
     "output_type": "execute_result"
    }
   ],
   "source": [
    "def count_consonants(s):\n",
    "    \"\"\"\n",
    "    Function to count the number of consonants in the input string.\n",
    "    \n",
    "    Parameters:\n",
    "    s (str): The input string to check for consonants.\n",
    "    \n",
    "    Returns:\n",
    "    int: The count of consonants in the input string.\n",
    "    \"\"\"\n",
    "    # Your code here\n",
    "    s=s.lower()\n",
    "    s=s.replace(' ','')\n",
    "    s=s.replace(',','')\n",
    "    s=s.replace('!','')\n",
    "    s=s.replace('.','')\n",
    "    return len(s)-sum([1  for x in s if x=='a'or x=='e' or x=='i'or x=='o' or x=='u'])\n",
    "\n",
    "count_consonants(\"Hello, World!\")"
   ]
  },
  {
   "cell_type": "markdown",
   "id": "751ebed5-dd62-41ed-a11c-6cb62e45efcf",
   "metadata": {},
   "source": [
    "<h2><b>Question-8:</b></h2>\n",
    "You are given two strings s and t. Your task is to determine if string t is an anagram of string s. An anagram is a word or phrase formed by rearranging the characters of a different word or phrase, using all the original characters exactly once.\n",
    "Input: Two strings s and t where both lengths are between 1 and 1000.\n",
    "Output: Return True if t is an anagram of s, and False otherwise.\n",
    "Example:\n",
    "Input: s = \"anagram\", t = \"nagaram\"\n",
    "Output: True"
   ]
  },
  {
   "cell_type": "code",
   "execution_count": 103,
   "id": "7d5dea4a-0ed8-41d8-9c2b-399028eb467c",
   "metadata": {},
   "outputs": [
    {
     "data": {
      "text/plain": [
       "True"
      ]
     },
     "execution_count": 103,
     "metadata": {},
     "output_type": "execute_result"
    }
   ],
   "source": [
    "def is_anagram(s, t):\n",
    "    \"\"\"\n",
    "    Function to check if t is an anagram of s.\n",
    "    \n",
    "    Parameters:\n",
    "    s (str): The first input string.\n",
    "    t (str): The second input string.\n",
    "    \n",
    "    Returns:\n",
    "    bool: True if t is an anagram of s, False otherwise.\n",
    "    \"\"\"\n",
    "    # Your code here()\n",
    "    s=s.lower()\n",
    "    t=t.lower()\n",
    "    for l in s:\n",
    "        if not l in t:\n",
    "            return False\n",
    "    return True\n",
    "    \n",
    "is_anagram(\"anagram\",\"nagaram\")"
   ]
  },
  {
   "cell_type": "markdown",
   "id": "a263149f-f356-4acb-802d-92beaed45aed",
   "metadata": {},
   "source": [
    "<h2><b>Question-9:</b></h2>\n",
    "You are given two strings s and t. Your task is to determine if string t is a subsequence of string s. A subsequence of a string is a new string that is formed from the original string by deleting some (or no) characters without changing the order of the remaining characters.\n",
    "Input: Two strings s and t where the length of s is between 1 and 1000, and the length of t is between 1 and 1000.\n",
    "Output: Return True if t is a subsequence of s, and False otherwise.\n",
    "Example:\n",
    "Input: s = \"abcde\", t = \"ace\"\n",
    "Output: True"
   ]
  },
  {
   "cell_type": "code",
   "execution_count": 210,
   "id": "af1c4318-d2ad-4748-acb6-87275381b421",
   "metadata": {},
   "outputs": [
    {
     "data": {
      "text/plain": [
       "True"
      ]
     },
     "execution_count": 210,
     "metadata": {},
     "output_type": "execute_result"
    }
   ],
   "source": [
    "def is_subsequence(s, t):\n",
    "    \"\"\"\n",
    "    Function to check if t is a subsequence of s.\n",
    "    \n",
    "    Parameters:\n",
    "    s (str): The original string.\n",
    "    t (str): The target subsequence string.\n",
    "    \n",
    "    Returns:\n",
    "    bool: True if t is a subsequence of s, False otherwise.\n",
    "    \"\"\"\n",
    "    # Your code here\n",
    "    if len(t)==0:\n",
    "        return True\n",
    "    if len(s)==0:\n",
    "        return False\n",
    "    if len(t)>len(s):\n",
    "        temp=s\n",
    "        s=t\n",
    "        t=temp\n",
    "    intersect=\"\"\n",
    "    for letter in s:\n",
    "        if letter in t:\n",
    "            intersect+=letter\n",
    "    return intersect==s or intersect==t\n",
    "\n",
    "is_subsequence(\"monkeyead\",\"mnya\")"
   ]
  },
  {
   "cell_type": "markdown",
   "id": "1ac9805e-f157-4b8d-b2ad-a76d497ff5ff",
   "metadata": {},
   "source": [
    "<h2><b>Question-10:</b></h2>\n",
    "You are given two strings, s and t. Your task is to determine if the string t is a substring of the string s. A substring is a contiguous sequence of characters within a string. Do not use any built-in functions for string operations and do not use recursion.\n",
    "Input: Two strings s and t, where 1 <= len(s), len(t) <= 1000.\n",
    "Output: A boolean value (True or False) indicating whether t is a substring of s.\n",
    "Example:\n",
    "Input: s = \"hello world\", t = \"world\"\n",
    "Output: True"
   ]
  },
  {
   "cell_type": "code",
   "execution_count": 186,
   "id": "ab4428c2-5765-486d-80c8-ef7d9bcd80c0",
   "metadata": {},
   "outputs": [
    {
     "data": {
      "text/plain": [
       "True"
      ]
     },
     "execution_count": 186,
     "metadata": {},
     "output_type": "execute_result"
    }
   ],
   "source": [
    "def is_substring(s, t):\n",
    "    \"\"\"\n",
    "    Function to check if string t is a substring of string s without using built-in functions and recursion.\n",
    "    \n",
    "    Parameters:\n",
    "    s (str): The main string.\n",
    "    t (str): The string to check as a substring.\n",
    "    \n",
    "    Returns:\n",
    "    bool: True if t is a substring of s, False otherwise.\n",
    "    \"\"\"\n",
    "    # Your code here\n",
    "    s=s.split()\n",
    "    t=t.split()\n",
    "    if len(t)==0 or len(s)==0:\n",
    "        return True\n",
    "    if len(t)>len(s):\n",
    "        temp=s\n",
    "        s=t\n",
    "        t=temp\n",
    "    for i,word in enumerate(t):\n",
    "        if not word in s:\n",
    "            return False\n",
    "    return True\n",
    "s=\"hello world\"\n",
    "t=\"world\"\n",
    "is_substring(s,t)"
   ]
  },
  {
   "cell_type": "markdown",
   "id": "7fcf6919-869e-4e26-930a-dfb0d35bfb8b",
   "metadata": {},
   "source": [
    "<h2><b>Question-11:</b></h2>\n",
    "You are given a string s. Your task is to find the length of the longest word in the string. A word is defined as a sequence of characters separated by spaces. Do not use any built-in functions for string manipulation.\n",
    "Input: A string s, where the length of s is between 1 and 1000 characters.\n",
    "Output: An integer representing the length of the longest word in the string.\n",
    "Example:\n",
    "Input: s = \"The quick brown fox jumps over the lazy dog\"\n",
    "Output: 5"
   ]
  },
  {
   "cell_type": "code",
   "execution_count": 212,
   "id": "a67197a8-ed8a-4f5a-afb5-29148d1a4476",
   "metadata": {},
   "outputs": [
    {
     "data": {
      "text/plain": [
       "5"
      ]
     },
     "execution_count": 212,
     "metadata": {},
     "output_type": "execute_result"
    }
   ],
   "source": [
    "def longest_word_length(s):\n",
    "    \"\"\"\n",
    "    Function to find the length of the longest word in a string without using built-in functions.\n",
    "    \n",
    "    Parameters:\n",
    "    s (str): The input string.\n",
    "    \n",
    "    Returns:\n",
    "    int: The length of the longest word.\n",
    "    \"\"\"\n",
    "    # Your code here\n",
    "    if len(s)==0:\n",
    "        return 0\n",
    "    s=s.split()\n",
    "    lengths=[]\n",
    "    for word in s:\n",
    "        lengths.append(len(word))\n",
    "    if len(lengths)==0:\n",
    "        return 0\n",
    "    return max(lengths)\n",
    "\n",
    "longest_word_length(\"The quick brown fox jumps over the lazy dog\")"
   ]
  }
 ],
 "metadata": {
  "kernelspec": {
   "display_name": "Python 3 (ipykernel)",
   "language": "python",
   "name": "python3"
  },
  "language_info": {
   "codemirror_mode": {
    "name": "ipython",
    "version": 3
   },
   "file_extension": ".py",
   "mimetype": "text/x-python",
   "name": "python",
   "nbconvert_exporter": "python",
   "pygments_lexer": "ipython3",
   "version": "3.12.7"
  }
 },
 "nbformat": 4,
 "nbformat_minor": 5
}
