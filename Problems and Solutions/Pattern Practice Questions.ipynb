{
 "cells": [
  {
   "cell_type": "markdown",
   "id": "52decc24-89ef-46ab-a070-49f6fec77530",
   "metadata": {},
   "source": [
    "<h2><b>Question-1:</b></h2>\n",
    "You are given an integer n. Your task is to return a square pattern of size n x n made up of the character '*', represented as a list of strings.\n",
    "Example:\n",
    "Input: 3\n",
    "Output: ['***', '***', '***']"
   ]
  },
  {
   "cell_type": "code",
   "execution_count": 38,
   "id": "55c5a8b8-a3d9-4412-a81d-186ae248efa9",
   "metadata": {},
   "outputs": [
    {
     "data": {
      "text/plain": [
       "['***', '***', '***']"
      ]
     },
     "execution_count": 38,
     "metadata": {},
     "output_type": "execute_result"
    }
   ],
   "source": [
    "def generate_square(n):\n",
    "    \"\"\"\n",
    "    Function to return a square pattern of '*' of side n as a list of strings.\n",
    "    \n",
    "    Parameters:\n",
    "    n (int): The size of the square.\n",
    "    \n",
    "    Returns:\n",
    "    list: A list of strings where each string represents a row of the square.\n",
    "    \"\"\"\n",
    "    # Your code here\n",
    "    return ['*'* n for i in range(n)]\n",
    "\n",
    "generate_square(3)"
   ]
  },
  {
   "cell_type": "markdown",
   "id": "41f56ba9-69ee-4549-813c-c2875a8f053f",
   "metadata": {},
   "source": [
    "<h2><b>Question-2:</b></h2>\n",
    "You are given an integer n. Your task is to return a hollow square pattern of size n x n made up of the character '*', represented as a list of strings. The hollow square has '*' on the border, and spaces ' ' in the middle (except for side lengths of 1 and 2).\n",
    "Input: 3\n",
    "Output: ['***', '* *', '***']"
   ]
  },
  {
   "cell_type": "code",
   "execution_count": 56,
   "id": "7db99fe4-2c20-4434-a316-cfd3beeba025",
   "metadata": {},
   "outputs": [
    {
     "data": {
      "text/plain": [
       "['*****', '*   *', '*   *', '*   *', '*****']"
      ]
     },
     "execution_count": 56,
     "metadata": {},
     "output_type": "execute_result"
    }
   ],
   "source": [
    "def generate_hollow_square(n):\n",
    "    \"\"\"\n",
    "    Function to return a hollow square pattern of '*' of side n as a list of strings.\n",
    "    \n",
    "    Parameters:\n",
    "    n (int): The size of the square.\n",
    "    \n",
    "    Returns:\n",
    "    list: A list of strings where each string represents a row of the hollow square.\n",
    "    \"\"\"\n",
    "    # Your code here\n",
    "    a=[]\n",
    "    for i in range(n):\n",
    "        if i == 0 or i == n - 1:\n",
    "            row = '*' * n\n",
    "        else:\n",
    "            row = '*' + ' ' * (n - 2) + '*'\n",
    "        a.append(row)\n",
    "    return a \n",
    "\n",
    "generate_hollow_square(5)"
   ]
  },
  {
   "cell_type": "markdown",
   "id": "b81ce6cc-70d2-4b26-ac81-53ba4cd40b27",
   "metadata": {},
   "source": [
    "<h2><b>Question-3:</b></h2>\n",
    "You are given two integers, n and m. Your task is to return a rectangle pattern of '*', where n represents the number of rows (length) and m represents the number of columns (breadth).\n",
    "Input: Two integers n and m, where 1 <= n, m <= 100.\n",
    "Output: A list of strings where each string represents a row of the rectangle pattern.\n",
    "Example:\n",
    "Input: n = 4, m = 5\n",
    "Output: ['*****', '*****', '*****', '*****']"
   ]
  },
  {
   "cell_type": "code",
   "execution_count": 61,
   "id": "97da2f71-4175-4dab-9bf0-d0c0d698f61a",
   "metadata": {},
   "outputs": [
    {
     "data": {
      "text/plain": [
       "['*****', '*****', '*****', '*****']"
      ]
     },
     "execution_count": 61,
     "metadata": {},
     "output_type": "execute_result"
    }
   ],
   "source": [
    "def generate_rectangle(n, m):\n",
    "    \"\"\"\n",
    "    Function to return a rectangle pattern of '*' with length n and breadth m as a list of strings.\n",
    "    \n",
    "    Parameters:\n",
    "    n (int): The number of rows in the rectangle.\n",
    "    m (int): The number of columns in the rectangle.\n",
    "    \n",
    "    Returns:\n",
    "    list: A list of strings where each string represents a row of the rectangle pattern.\n",
    "    \"\"\"\n",
    "    # Your code here\n",
    "    return ['*'* m for i in range(n)]\n",
    "\n",
    "generate_rectangle(4,5)"
   ]
  },
  {
   "cell_type": "markdown",
   "id": "b17be881-7fb5-4039-bb4c-f1cc5436adf8",
   "metadata": {},
   "source": [
    "<h2><b>Question-4:</b></h2>\n",
    "You are given an integer n. Your task is to return a right-angled triangle pattern of '*' where each side has n characters, represented as a list of strings. The triangle has '*' characters, starting with 1 star in the first row, 2 stars in the second row, and so on until the last row has n stars.\n",
    "Input Parameters: n (int): The height and base of the right-angled triangle.\n",
    "Output: A list of strings where each string is a row of '*' characters that increases in length from 1 to n.\n",
    "Example:\n",
    "Input: 3\n",
    "Output: ['*', '**', '***']"
   ]
  },
  {
   "cell_type": "code",
   "execution_count": 73,
   "id": "c16d0463-fac1-4400-a556-a9b77813e277",
   "metadata": {},
   "outputs": [
    {
     "data": {
      "text/plain": [
       "['*', '**', '***', '****', '*****']"
      ]
     },
     "execution_count": 73,
     "metadata": {},
     "output_type": "execute_result"
    }
   ],
   "source": [
    "def generate_triangle(n):\n",
    "    \"\"\"\n",
    "    Function to return a right-angled triangle of '*' of side n as a list of strings.\n",
    "    \n",
    "    Parameters:\n",
    "    n (int): The height and base of the triangle.\n",
    "    \n",
    "    Returns:\n",
    "    list: A list of strings where each string represents a row of the triangle.\n",
    "    \"\"\"\n",
    "    # Your code here\n",
    "    return ['*'* (i+1) for i in range(n)]\n",
    "\n",
    "generate_triangle(5)"
   ]
  },
  {
   "cell_type": "markdown",
   "id": "1d571859-0fd3-4ccf-a854-417fa8b8acff",
   "metadata": {},
   "source": [
    "<h2><b>Question-5:</b></h2>\n",
    "You are given an integer n. Your task is to return an inverted right-angled triangle pattern of '*' where each side has n characters, represented as a list of strings. The first row should have n stars, the second row n-1 stars, and so on, until the last row has 1 star.\n",
    "Input Parameters: n (int): The height and base of the inverted right-angled triangle.\n",
    "Output: A list of strings where each string is a row of '*' characters that decreases in length from n to 1.\n",
    "Example:\n",
    "Input: 3\n",
    "Output: ['***', '**', '*']"
   ]
  },
  {
   "cell_type": "code",
   "execution_count": 78,
   "id": "c1e371d2-4b2e-4a4f-ac2c-f7db27dd1bf4",
   "metadata": {},
   "outputs": [
    {
     "data": {
      "text/plain": [
       "['*****', '****', '***', '**', '*']"
      ]
     },
     "execution_count": 78,
     "metadata": {},
     "output_type": "execute_result"
    }
   ],
   "source": [
    "def generate_inverted_triangle(n):\n",
    "    \"\"\"\n",
    "    Function to return an inverted right-angled triangle of '*' of side n as a list of strings.\n",
    "    \n",
    "    Parameters:\n",
    "    n (int): The height and base of the triangle.\n",
    "    \n",
    "    Returns:\n",
    "    list: A list of strings where each string represents a row of the triangle.\n",
    "    \"\"\"\n",
    "    # Your code here\n",
    "    return ['*'* (n-i) for i in range(n)]\n",
    "\n",
    "generate_inverted_triangle(5)"
   ]
  },
  {
   "cell_type": "markdown",
   "id": "9e0ceed3-5809-4ee0-9fff-b2914a5bf810",
   "metadata": {},
   "source": [
    "<h2><b>Question-6:</b></h2>\n",
    "You are given an integer n. Your task is to return a pyramid pattern of '*' where each side has n rows, represented as a list of strings. The pyramid is centered, with 1 star in the first row, 3 stars in the second row, and so on, increasing by 2 stars per row until the base row has 2n - 1 stars.\n",
    "Input: A single integer n, where 1 <= n <= 100.\n",
    "Output: A list of strings where each string contains stars ('*') centered, forming a pyramid shape. Each row has an increasing number of stars, with appropriate spaces for centering.\n",
    "Example:\n",
    "Input: 3\n",
    "Output: ['  *  ', ' *** ', '*****']"
   ]
  },
  {
   "cell_type": "code",
   "execution_count": 202,
   "id": "08a1f03b-a05a-4270-8f8c-6cad5349a478",
   "metadata": {},
   "outputs": [
    {
     "data": {
      "text/plain": [
       "['      *      ',\n",
       " '     ***     ',\n",
       " '    *****    ',\n",
       " '   *******   ',\n",
       " '  *********  ',\n",
       " ' *********** ',\n",
       " '*************']"
      ]
     },
     "execution_count": 202,
     "metadata": {},
     "output_type": "execute_result"
    }
   ],
   "source": [
    "def generate_pyramid(n):\n",
    "    \"\"\"\n",
    "    Function to return a pyramid pattern of '*' of side n as a list of strings.\n",
    "    \n",
    "    Parameters:\n",
    "    n (int): The number of rows in the pyramid.\n",
    "    \n",
    "    Returns:\n",
    "    list: A list of strings where each string represents a row of the pyramid.\n",
    "    \"\"\"\n",
    "    # Your code here\n",
    "    return [' ' * (n-(i+1)) + '*'*((2*i)+1) + ' ' * (n-(i+1)) for i in range(n)]\n",
    "\n",
    "generate_pyramid(7)"
   ]
  },
  {
   "cell_type": "markdown",
   "id": "96faf879-1225-4b37-9ec4-030b41e602ab",
   "metadata": {},
   "source": [
    "<h2><b>Question-7:</b></h2>\n",
    "You are given an integer n. Your task is to return an inverted pyramid pattern of '*', where each side has n rows, represented as a list of strings. The first row has 2n - 1 stars, the second row has 2n - 3 stars, and so on, until the last row has 1 star, with each row centered using spaces.\n",
    "Input Parameters: n (int): The number of rows in the inverted pyramid.\n",
    "Output: A list of strings where each string represents a row of the inverted pyramid.\n",
    "Example:\n",
    "Input: 3\n",
    "Output: ['*****', ' *** ', '  *  ']"
   ]
  },
  {
   "cell_type": "code",
   "execution_count": 313,
   "id": "01ff3857-e7ff-4bdf-bfe3-ca36ef757989",
   "metadata": {},
   "outputs": [
    {
     "data": {
      "text/plain": [
       "['*************',\n",
       " ' *********** ',\n",
       " '  *********  ',\n",
       " '   *******   ',\n",
       " '    *****    ',\n",
       " '     ***     ',\n",
       " '      *      ']"
      ]
     },
     "execution_count": 313,
     "metadata": {},
     "output_type": "execute_result"
    }
   ],
   "source": [
    "def generate_inverted_pyramid(n):\n",
    "    \"\"\"\n",
    "    Function to return an inverted pyramid pattern of '*' of side n as a list of strings.\n",
    "    \n",
    "    Parameters:\n",
    "    n (int): The number of rows in the inverted pyramid.\n",
    "    \n",
    "    Returns:\n",
    "    list: A list of strings where each string represents a row of the inverted pyramid.\n",
    "    \"\"\"\n",
    "    # Your code here\n",
    "    return [' ' * i + '*' * (((2*n)-1)-2*i) + ' ' * i  for i in range(n)]\n",
    "\n",
    "generate_inverted_pyramid(7)"
   ]
  },
  {
   "cell_type": "markdown",
   "id": "1c37d4ab-7df6-40db-8311-9eb595732297",
   "metadata": {},
   "source": [
    "<h2><b>Question-8:</b></h2>\n",
    "You are given an integer n. Your task is to return a right-angled triangle pattern where each row contains repeated digits. The first row contains the number 1 repeated once, the second row contains the number 2 repeated twice, and so on until the nth row contains the number n repeated n times.\n",
    "Input: A single integer n, where 1 <= n <= 100.\n",
    "Output: A list of strings where each string represents a row in the triangle. The ith row contains the digit i repeated i times.\n",
    "Example:\n",
    "Input: 5\n",
    "Output: ['1', '22', '333', '4444', '55555']"
   ]
  },
  {
   "cell_type": "code",
   "execution_count": 224,
   "id": "34bf8f48-9df4-4748-ade1-87b434afffe2",
   "metadata": {},
   "outputs": [
    {
     "data": {
      "text/plain": [
       "['1', '22', '333']"
      ]
     },
     "execution_count": 224,
     "metadata": {},
     "output_type": "execute_result"
    }
   ],
   "source": [
    "def generate_number_triangle(n):\n",
    "    \"\"\"\n",
    "    Function to return a right-angled triangle of repeated numbers of side n as a list of strings.\n",
    "    \n",
    "    Parameters:\n",
    "    n (int): The height of the triangle.\n",
    "    \n",
    "    Returns:\n",
    "    list: A list of strings where each string represents a row of the triangle.\n",
    "    \"\"\"\n",
    "    # Your code here\n",
    "    return [str(i+1)* (i+1) for i in range(n)]\n",
    "\n",
    "generate_number_triangle(3)"
   ]
  },
  {
   "cell_type": "markdown",
   "id": "ee08b508-91be-455d-ae01-bf1a858e0d8f",
   "metadata": {},
   "source": [
    "<h2><b>Question-9:</b></h2>\n",
    "You are given an integer n. Your task is to return the first n rows of Floyd’s Triangle, represented as a list of strings. Floyd's Triangle is a triangular array of natural numbers where the first row contains 1, the second row contains 2 and 3, the third row contains 4, 5, and 6, and so on.\n",
    "Input: A single integer n, where 1 <= n <= 100.\n",
    "Output: A list of strings where each string represents a row in Floyd's Triangle.\n",
    "Example:\n",
    "Input: 5\n",
    "Output: ['1', '2 3', '4 5 6', '7 8 9 10', '11 12 13 14 15']"
   ]
  },
  {
   "cell_type": "code",
   "execution_count": 246,
   "id": "1d0554fc-b8ed-456b-8882-179ecdf8dbde",
   "metadata": {},
   "outputs": [
    {
     "data": {
      "text/plain": [
       "['1', '2 3', '4 5 6', '7 8 9 10', '11 12 13 14 15']"
      ]
     },
     "execution_count": 246,
     "metadata": {},
     "output_type": "execute_result"
    }
   ],
   "source": [
    "def generate_floyds_triangle(n):\n",
    "    \"\"\"\n",
    "    Function to return the first n rows of Floyd's Triangle as a list of strings.\n",
    "    \n",
    "    Parameters:\n",
    "    n (int): The number of rows in the triangle.\n",
    "    \n",
    "    Returns:\n",
    "    list: A list of strings where each string represents a row of Floyd's Triangle.\n",
    "    \"\"\"\n",
    "    # Your code here\n",
    "    c=1\n",
    "    a=[]\n",
    "    for i in range(1,n+1):\n",
    "        row=''\n",
    "        for j in range(1,i+1):\n",
    "            if j==1:\n",
    "                row=str(c)\n",
    "            else:\n",
    "                row= row +' '+ str(c)\n",
    "            c+=1\n",
    "        a.append(row)\n",
    "    return a\n",
    "\n",
    "generate_floyds_triangle(5)"
   ]
  },
  {
   "cell_type": "markdown",
   "id": "1665cbd9-ee71-4f1c-89ef-79b55edc26ef",
   "metadata": {},
   "source": [
    "<h2><b>Question-10:</b></h2>\n",
    "You are given an integer n. Your task is to return a diamond pattern of '*' with n rows for the upper part (the widest row will have 2n - 1 stars), and the lower part is the mirrored version of the upper part. Each row should be centered with appropriate spaces.\n",
    "Input: A single integer n, where 1 <= n <= 100.\n",
    "Output: A list of strings where each string represents a row in the diamond pattern.\n",
    "Example:\n",
    "Input: 3\n",
    "Output: ['  *  ', ' *** ', '*****', ' *** ', '  *  ']"
   ]
  },
  {
   "cell_type": "code",
   "execution_count": 290,
   "id": "681a7704-6f7f-48c8-adf3-0a5fe6109a80",
   "metadata": {},
   "outputs": [
    {
     "data": {
      "text/plain": [
       "['      *      ',\n",
       " '     ***     ',\n",
       " '    *****    ',\n",
       " '   *******   ',\n",
       " '  *********  ',\n",
       " ' *********** ',\n",
       " '*************',\n",
       " ' *********** ',\n",
       " '  *********  ',\n",
       " '   *******   ',\n",
       " '    *****    ',\n",
       " '     ***     ',\n",
       " '      *      ']"
      ]
     },
     "execution_count": 290,
     "metadata": {},
     "output_type": "execute_result"
    }
   ],
   "source": [
    "def generate_diamond(n):\n",
    "    \"\"\"\n",
    "    Function to return a diamond pattern of '*' of side n as a list of strings.\n",
    "    \n",
    "    Parameters:\n",
    "    n (int): The number of rows for the upper part of the diamond.\n",
    "    \n",
    "    Returns:\n",
    "    list: A list of strings where each string represents a row of the diamond.\n",
    "    \"\"\"\n",
    "    # Your code here\n",
    "    a=[' ' * (n-(i+1)) + '*'*((2*i)+1) + ' ' * (n-(i+1)) for i in range(n)]\n",
    "    b= a[-2::-1]\n",
    "    return a+b\n",
    "\n",
    "generate_diamond(7)"
   ]
  },
  {
   "cell_type": "markdown",
   "id": "cb605d17-506e-4500-8c68-c9fdef78997d",
   "metadata": {},
   "source": [
    "<h2><b>Question-11:</b></h2>\n",
    "You are given an integer n. Your task is to return a right-angled triangle pattern of '*', where each row contains stars aligned to the right. The first row has one star, the second row has two stars, and so on, until the nth row has n stars.\n",
    "Input: A single integer n, where 1 <= n <= 100.\n",
    "Output: A list of strings where each string represents a row in the right-angled triangle, right-aligned.\n",
    "Example:\n",
    "Input: 4\n",
    "Output: ['   *', '  **', ' ***', '****']"
   ]
  },
  {
   "cell_type": "code",
   "execution_count": 300,
   "id": "5b5886c9-655e-439e-851d-cc8a5d96732e",
   "metadata": {},
   "outputs": [
    {
     "data": {
      "text/plain": [
       "['      *', '     **', '    ***', '   ****', '  *****', ' ******', '*******']"
      ]
     },
     "execution_count": 300,
     "metadata": {},
     "output_type": "execute_result"
    }
   ],
   "source": [
    "def generate_right_angled_triangle(n):\n",
    "    \"\"\"\n",
    "    Function to return a right-angled triangle of '*' of side n as a list of strings.\n",
    "    \n",
    "    Parameters:\n",
    "    n (int): The height of the triangle.\n",
    "    \n",
    "    Returns:\n",
    "    list: A list of strings where each string represents a row of the triangle.\n",
    "    \"\"\"\n",
    "    # Your code here\n",
    "    return [' ' * (n-i-1) + '*' * (i+1) for i in range(n)]\n",
    "\n",
    "generate_right_angled_triangle(7)"
   ]
  },
  {
   "cell_type": "markdown",
   "id": "d8ac50e1-b65b-4bed-8114-76ffd3d60349",
   "metadata": {},
   "source": [
    "<h2><b>Question-12:</b></h2>\n",
    "You are given an integer n. Your task is to return a sandglass pattern of '*', where the first row contains 2n - 1 stars and each subsequent row decreases the number of stars by 2, until the last row contains a single star. After reaching the smallest width, the pattern then continues with the same number of stars increasing back to 2n - 1. The stars in each row should be centered.\n",
    "Input: A single integer n, where 1 <= n <= 100.\n",
    "Output: A list of strings where each string represents a row in the sandglass pattern.\n",
    "Example:\n",
    "Input: 3\n",
    "Output: ['*****', ' *** ', '  *  ', ' *** ', '*****']"
   ]
  },
  {
   "cell_type": "code",
   "execution_count": 321,
   "id": "ab3eb18e-32e1-4b77-8e98-9656f1eed228",
   "metadata": {},
   "outputs": [
    {
     "data": {
      "text/plain": [
       "['*************',\n",
       " ' *********** ',\n",
       " '  *********  ',\n",
       " '   *******   ',\n",
       " '    *****    ',\n",
       " '     ***     ',\n",
       " '      *      ',\n",
       " '     ***     ',\n",
       " '    *****    ',\n",
       " '   *******   ',\n",
       " '  *********  ',\n",
       " ' *********** ',\n",
       " '*************']"
      ]
     },
     "execution_count": 321,
     "metadata": {},
     "output_type": "execute_result"
    }
   ],
   "source": [
    "def generate_sandglass(n):\n",
    "    \"\"\"\n",
    "    Function to return a sandglass pattern of '*' of side n as a list of strings.\n",
    "    \n",
    "    Parameters:\n",
    "    n (int): The height of the sandglass.\n",
    "    \n",
    "    Returns:\n",
    "    list: A list of strings where each string represents a row of the sandglass pattern.\n",
    "    \"\"\"\n",
    "    # Your code here\n",
    "    a=[' ' * i + '*' * (((2*n)-1)-2*i) + ' ' * i  for i in range(n)]\n",
    "    b= a[-2::-1]\n",
    "    return a+b\n",
    "\n",
    "generate_sandglass(7)"
   ]
  },
  {
   "cell_type": "markdown",
   "id": "d44e4f4b-5a5b-4cfe-8427-d15875212bc3",
   "metadata": {},
   "source": [
    "<h2><b>Question-13:</b></h2>\n",
    "You are given an integer n. Your task is to return a hollow right-angled triangle pattern of '*', where the first and last rows contain stars, while the inner rows contain a star at the beginning and end, with spaces in between. The triangle should be right-aligned.\n",
    "Input: A single integer n, where 1 <= n <= 100.\n",
    "Output: A list of strings where each string represents a row in the hollow right-angled triangle.\n",
    "Example:\n",
    "Input: 4\n",
    "Output: ['*', '**', '* *', '****']"
   ]
  },
  {
   "cell_type": "code",
   "execution_count": 339,
   "id": "eee40599-fa93-421e-a83e-98f202266507",
   "metadata": {},
   "outputs": [
    {
     "data": {
      "text/plain": [
       "['*', '**', '* *', '*  *', '*   *', '*    *', '*******']"
      ]
     },
     "execution_count": 339,
     "metadata": {},
     "output_type": "execute_result"
    }
   ],
   "source": [
    "def generate_hollow_right_angled_triangle(n):\n",
    "    \"\"\"\n",
    "    Function to return a hollow right-angled triangle of '*' of side n as a list of strings.\n",
    "    \n",
    "    Parameters:\n",
    "    n (int): The height of the triangle.\n",
    "    \n",
    "    Returns:\n",
    "    list: A list of strings where each string represents a row of the triangle.\n",
    "    \"\"\"\n",
    "    # Your code here\n",
    "    a=[]\n",
    "    for i in range(n):\n",
    "        if i==0 or i==(n-1):\n",
    "            row='*' * (i+1)\n",
    "        else:\n",
    "            row='*' + ' ' * (i-1) + '*'\n",
    "        a.append(row)\n",
    "    return a\n",
    "generate_hollow_right_angled_triangle(7)"
   ]
  },
  {
   "cell_type": "markdown",
   "id": "99da7b62-a7d6-4f82-a7aa-eaf26166b0fb",
   "metadata": {},
   "source": [
    "<h2><b>Question-14:</b></h2>\n",
    "You are given an integer n. Your task is to return a hollow inverted right-angled triangle pattern of '*', where the first row contains n stars, while the inner rows contain a star at the beginning and end, with spaces in between. The triangle should be left-aligned.\n",
    "Input: A single integer n, where 1 <= n <= 100.\n",
    "Output: A list of strings where each string represents a row in the hollow inverted right-angled triangle.\n",
    "Example:\n",
    "Input: 4\n",
    "Output: ['****', '* *', '**', '*']"
   ]
  },
  {
   "cell_type": "code",
   "execution_count": 362,
   "id": "91dd395b-1f65-4b44-875a-293787f0e352",
   "metadata": {},
   "outputs": [],
   "source": [
    "n=5\n",
    "a=[]\n",
    "for i in range(n):\n",
    "        if i==0 or i==(n-1):\n",
    "            row='*' * (n-i)\n",
    "        else:\n",
    "            row='*' + ' ' * (n-2-i) + '*'\n",
    "        a.append(row)"
   ]
  },
  {
   "cell_type": "markdown",
   "id": "c7a4897c-ecbe-4ac4-9fe1-dce6dd46b418",
   "metadata": {},
   "source": [
    "<h2><b>Question-15:</b></h2>\n",
    "You are given an integer n. Your task is to return a pyramid pattern of numbers, where each row contains increasing numbers starting from 1 up to the row number, and the pyramid is centered with leading spaces.\n",
    "Input: A single integer n, where 1 <= n <= 100.\n",
    "Output: A list of strings where each string represents a row in the pyramid pattern.\n",
    "Example:\n",
    "Input: 4\n",
    "Output: ['   1   ', '  1 2  ', ' 1 2 3 ', '1 2 3 4']"
   ]
  },
  {
   "cell_type": "code",
   "execution_count": 413,
   "id": "14f8ea97-5ddc-401a-9324-265d6de59fa3",
   "metadata": {},
   "outputs": [
    {
     "data": {
      "text/plain": [
       "['  1  ', ' 1 2 ', '1 2 3']"
      ]
     },
     "execution_count": 413,
     "metadata": {},
     "output_type": "execute_result"
    }
   ],
   "source": [
    "def generate_number_pyramid(n):\n",
    "    \"\"\"\n",
    "    Function to return a pyramid pattern of numbers of height n as a list of strings.\n",
    "    \n",
    "    Parameters:\n",
    "    n (int): The height of the pyramid.\n",
    "    \n",
    "    Returns:\n",
    "    list: A list of strings where each string represents a row of the pyramid pattern.\n",
    "    \"\"\"\n",
    "    # Your code here\n",
    "    a=[]\n",
    "    for i in range(1,n+1):\n",
    "        mid_row=''\n",
    "        for j in range(1,i+1):\n",
    "            if j==1:\n",
    "                mid_row+=str(j)\n",
    "            else:\n",
    "                mid_row=mid_row+' '+str(j)\n",
    "        row=' ' * (n-i) + mid_row + ' ' * (n-i)\n",
    "        a.append(row)   \n",
    "    return a\n",
    "\n",
    "generate_number_pyramid(3)"
   ]
  }
 ],
 "metadata": {
  "kernelspec": {
   "display_name": "Python 3 (ipykernel)",
   "language": "python",
   "name": "python3"
  },
  "language_info": {
   "codemirror_mode": {
    "name": "ipython",
    "version": 3
   },
   "file_extension": ".py",
   "mimetype": "text/x-python",
   "name": "python",
   "nbconvert_exporter": "python",
   "pygments_lexer": "ipython3",
   "version": "3.12.7"
  }
 },
 "nbformat": 4,
 "nbformat_minor": 5
}
