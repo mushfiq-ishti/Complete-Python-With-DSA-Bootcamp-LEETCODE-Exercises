{
 "cells": [
  {
   "cell_type": "markdown",
   "id": "6f17a8b9-64d3-47c9-afae-1d3722041e03",
   "metadata": {},
   "source": [
    "<h2><b>Question-1:</b></h2>\n",
    "You are given an integer n. Your task is to calculate and return the sum of the first n even natural numbers. The even natural numbers are: 2, 4, 6, 8, ...\n",
    "Input: A single integer n where 1 <= n <= 10^4.\n",
    "Output: Return the sum of the first n even natural numbers.\n",
    "Example:\n",
    "Input: n = 3\n",
    "Output: 12  # (2 + 4 + 6)"
   ]
  },
  {
   "cell_type": "code",
   "execution_count": 18,
   "id": "7a2399e8-4f9f-483e-bb8c-2c7310827439",
   "metadata": {},
   "outputs": [
    {
     "data": {
      "text/plain": [
       "12"
      ]
     },
     "execution_count": 18,
     "metadata": {},
     "output_type": "execute_result"
    }
   ],
   "source": [
    "def sum_of_even_numbers(n):\n",
    "    \"\"\"\n",
    "    Function to return the sum of the first n even natural numbers.\n",
    "    \n",
    "    Parameters:\n",
    "    n (int): The number of even numbers to sum.\n",
    "    \n",
    "    Returns:\n",
    "    int: The sum of the first n even natural numbers.\n",
    "    \"\"\"\n",
    "    # Your code here\n",
    "    return sum([x for x in range(2,(2*n)+1,2)])\n",
    "\n",
    "sum_of_even_numbers(3)"
   ]
  },
  {
   "cell_type": "markdown",
   "id": "d8c74e4e-bd69-4ba8-938e-9e6ef783134c",
   "metadata": {},
   "source": [
    "<h2><b>Question-2:</b></h2>\n",
    "You are given an integer n. Your task is to check whether the number is even or not. Return True if the number is even, and False otherwise.\n",
    "Input: A single integer n where -10^9 <= n <= 10^9.\n",
    "Output: Return True if n is an even number, otherwise return False.\n",
    "Example:\n",
    "Input: n = 4\n",
    "Output: True"
   ]
  },
  {
   "cell_type": "code",
   "execution_count": 22,
   "id": "014b2ad1-ced3-45b4-86f2-a0c6ac896d26",
   "metadata": {},
   "outputs": [
    {
     "data": {
      "text/plain": [
       "True"
      ]
     },
     "execution_count": 22,
     "metadata": {},
     "output_type": "execute_result"
    }
   ],
   "source": [
    "def is_even(n):\n",
    "    \"\"\"\n",
    "    Function to check if a number is even.\n",
    "    \n",
    "    Parameters:\n",
    "    n (int): The number to check.\n",
    "    \n",
    "    Returns:\n",
    "    bool: True if n is even, False otherwise.\n",
    "    \"\"\"\n",
    "    # Your code here\n",
    "    return n%2==0\n",
    "\n",
    "is_even(4)"
   ]
  },
  {
   "cell_type": "markdown",
   "id": "d8310128-3540-4e6b-ad0a-713a757509a2",
   "metadata": {},
   "source": [
    "<h2><b>Question-3:</b></h2>\n",
    "You are given an integer n. Your task is to check whether the number is prime or not. A prime number is a number greater than 1 that has no divisors other than 1 and itself. Return True if the number is prime, and False otherwise.\n",
    "Input: A single integer n where 1 <= n <= 10^6.\n",
    "Output: Return True if n is a prime number, otherwise return False.\n",
    "Example:\n",
    "Input: n = 5\n",
    "Output: True"
   ]
  },
  {
   "cell_type": "code",
   "execution_count": 47,
   "id": "ff6d8df9-7c39-4f42-a5ba-592368276091",
   "metadata": {},
   "outputs": [
    {
     "data": {
      "text/plain": [
       "True"
      ]
     },
     "execution_count": 47,
     "metadata": {},
     "output_type": "execute_result"
    }
   ],
   "source": [
    "def is_prime(n):\n",
    "    \"\"\"\n",
    "    Function to check if a number is prime.\n",
    "    \n",
    "    Parameters:\n",
    "    n (int): The number to check.\n",
    "    \n",
    "    Returns:\n",
    "    bool: True if n is prime, False otherwise.\n",
    "    \"\"\"\n",
    "    # Your code here\n",
    "    return not len([x for x in range(1,n) if n%x==0])>1\n",
    "\n",
    "is_prime(5)"
   ]
  },
  {
   "cell_type": "markdown",
   "id": "85857290-a198-4ed5-acd7-70ced24d974f",
   "metadata": {},
   "source": [
    "<h2><b>Question-4:</b></h2>\n",
    "You are given a positive integer num. Your task is to check whether num is a perfect square or not. A perfect square is an integer that is the square of an integer (e.g., 1, 4, 9, 16, ...). Return True if num is a perfect square, and False otherwise.\n",
    "Input: A single positive integer num where 1 <= num <= 10^9.\n",
    "Output: Return True if num is a perfect square, otherwise return False.\n",
    "Example:\n",
    "Input: num = 16\n",
    "Output: True"
   ]
  },
  {
   "cell_type": "code",
   "execution_count": 57,
   "id": "c554ebbd-d362-42e4-b033-0809d881436e",
   "metadata": {},
   "outputs": [
    {
     "data": {
      "text/plain": [
       "True"
      ]
     },
     "execution_count": 57,
     "metadata": {},
     "output_type": "execute_result"
    }
   ],
   "source": [
    "def is_perfect_square(num):\n",
    "    \"\"\"\n",
    "    Function to check if a number is a perfect square.\n",
    "    \n",
    "    Parameters:\n",
    "    num (int): The number to check.\n",
    "    \n",
    "    Returns:\n",
    "    bool: True if num is a perfect square, False otherwise.\n",
    "    \"\"\"\n",
    "    # Your code here\n",
    "    import math\n",
    "    if num<0:\n",
    "        return False\n",
    "    else:\n",
    "         return (math.sqrt(num)).is_integer()   \n",
    "is_perfect_square(16)"
   ]
  },
  {
   "cell_type": "markdown",
   "id": "fd88e789-cb76-4048-957c-f9264591c105",
   "metadata": {},
   "source": [
    "<h2><b>Question-5:</b></h2>\n",
    "You are given an integer n. Your task is to return its binary representation as a string. Do not use any built-in functions for conversion.\n",
    "Input: A single integer n, where -10^9 <= n <= 10^9.\n",
    "Output: A string representing the binary representation of n.\n",
    "Example:\n",
    "Input: n = 5\n",
    "Output: \"101\""
   ]
  },
  {
   "cell_type": "code",
   "execution_count": 11,
   "id": "6d63aa4d-fb66-4341-b3cd-a488825140cd",
   "metadata": {},
   "outputs": [
    {
     "data": {
      "text/plain": [
       "'-1100'"
      ]
     },
     "execution_count": 11,
     "metadata": {},
     "output_type": "execute_result"
    }
   ],
   "source": [
    "def int_to_binary(n):\n",
    "    \"\"\"\n",
    "    Function to convert an integer to its binary representation.\n",
    "    \n",
    "    Parameters:\n",
    "    n (int): The integer to convert.\n",
    "    \n",
    "    Returns:\n",
    "    str: The binary representation of the integer.\n",
    "    \"\"\"\n",
    "    # Your code here\n",
    "    binary=\"\"\n",
    "    if n==0:\n",
    "        return \"0\"\n",
    "    elif n>0:\n",
    "        while n!=0:\n",
    "            div=n//2\n",
    "            rem=n%2\n",
    "            binary+=str(rem)\n",
    "            n=div\n",
    "        return binary[::-1]\n",
    "    else:\n",
    "        n=abs(n)\n",
    "        while n!=0:\n",
    "            div=n//2\n",
    "            rem=n%2\n",
    "            binary+=str(rem)\n",
    "            n=div\n",
    "        binary+=\"-\"\n",
    "        return binary[::-1]\n",
    "\n",
    "int_to_binary(-12)"
   ]
  },
  {
   "cell_type": "markdown",
   "id": "c4e327b8-eab6-41dd-b481-8062255f0291",
   "metadata": {},
   "source": [
    "<h2><b>Question-6:</b></h2>\n",
    "You are given a string binary_str representing a binary number. Your task is to convert this binary string to its corresponding decimal integer. Do not use any built-in functions for conversion.\n",
    "Input: A string binary_str, consisting of characters '0' and '1', where the length of the string is between 1 and 30 (inclusive).\n",
    "Output: An integer representing the decimal value of the binary string\n",
    "Example:\n",
    "Input: binary_str = \"101\"\n",
    "Output: 5"
   ]
  },
  {
   "cell_type": "code",
   "execution_count": 28,
   "id": "b8ea928b-4eec-4a22-97ee-28929f5e5f72",
   "metadata": {},
   "outputs": [
    {
     "data": {
      "text/plain": [
       "12"
      ]
     },
     "execution_count": 28,
     "metadata": {},
     "output_type": "execute_result"
    }
   ],
   "source": [
    "def binary_to_decimal(binary_str):\n",
    "    \"\"\"\n",
    "    Function to convert a binary string to its decimal integer representation.\n",
    "    \n",
    "    Parameters:\n",
    "    binary_str (str): The binary string to convert.\n",
    "    \n",
    "    Returns:\n",
    "    int: The decimal representation of the binary string.\n",
    "    \"\"\"\n",
    "    # Your code here\n",
    "    dec=0\n",
    "    for i,binary_digit in enumerate(binary_str[::-1]):\n",
    "        dec+=(int(binary_digit))*(2)**i\n",
    "    return dec\n",
    "\n",
    "binary_to_decimal(\"1100\")"
   ]
  },
  {
   "cell_type": "markdown",
   "id": "cbce2feb-ef9e-4310-b5d9-05cb9bf39325",
   "metadata": {},
   "source": [
    "<h2><b>Question-7:</b></h2>\n",
    "You are given two integers n and m. Your task is to find the GCD of these two numbers. The GCD is the largest positive integer that divides both numbers without leaving a remainder. Do not use any built-in functions and do not use recursion.\n",
    "Input: Two integers n and m, where 1 <= n, m <= 10^9.\n",
    "Output: An integer representing the GCD of n and m.\n",
    "Example:\n",
    "Input: n = 48, m = 18\n",
    "Output: 6"
   ]
  },
  {
   "cell_type": "code",
   "execution_count": 38,
   "id": "44a55a21-de19-4767-b954-38b566c19744",
   "metadata": {},
   "outputs": [
    {
     "data": {
      "text/plain": [
       "14"
      ]
     },
     "execution_count": 38,
     "metadata": {},
     "output_type": "execute_result"
    }
   ],
   "source": [
    "def gcd(n, m):\n",
    "    \"\"\"\n",
    "    Function to find the GCD of two integers without using built-in functions and recursion.\n",
    "    \n",
    "    Parameters:\n",
    "    n (int): The first integer.\n",
    "    m (int): The second integer.\n",
    "    \n",
    "    Returns:\n",
    "    int: The GCD of n and m.\n",
    "    \"\"\"\n",
    "    # Your code here\n",
    "    if n>m:\n",
    "        temp=m\n",
    "        m=n\n",
    "        n=temp\n",
    "    if n==0:\n",
    "        return m\n",
    "    while n!=0:\n",
    "        rem=m%n\n",
    "        m=n\n",
    "        n=rem\n",
    "    return m    \n",
    "gcd(56,98)"
   ]
  }
 ],
 "metadata": {
  "kernelspec": {
   "display_name": "Python 3 (ipykernel)",
   "language": "python",
   "name": "python3"
  },
  "language_info": {
   "codemirror_mode": {
    "name": "ipython",
    "version": 3
   },
   "file_extension": ".py",
   "mimetype": "text/x-python",
   "name": "python",
   "nbconvert_exporter": "python",
   "pygments_lexer": "ipython3",
   "version": "3.12.7"
  }
 },
 "nbformat": 4,
 "nbformat_minor": 5
}
