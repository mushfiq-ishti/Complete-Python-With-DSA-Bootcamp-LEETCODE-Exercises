{
 "cells": [
  {
   "cell_type": "markdown",
   "id": "9c8a04a6-bf63-4ac5-80a1-e0f82d224c64",
   "metadata": {},
   "source": [
    "<h2><b>Question-1</b></h2>\n",
    "You are given an array a of size n. For each element in the array, find and print the Next Greater Element (NGE). The Next Greater Element for a given element x is the first element that is greater than x on its right side in the array. If no such element exists, return -1 for that position.\n",
    "Parameters:\n",
    "a (List of integers): The array of integers where you will search for the Next Greater Element.\n",
    "n (Integer): The size of the array a.\n",
    "Returns:\n",
    "A list of integers where each element represents the Next Greater Element of the corresponding element in the input array. If no such greater element exists, return -1.\n",
    "Examples:\n",
    "Input:\n",
    "a = [4, 5, 2, 25]\n",
    "n = 4\n",
    "Output:\n",
    "[5, 25, 25, -1]"
   ]
  },
  {
   "cell_type": "code",
   "execution_count": 2,
   "id": "4013ee76-b166-45f2-962b-bc430db6cdd1",
   "metadata": {},
   "outputs": [
    {
     "data": {
      "text/plain": [
       "[5, 25, 25, -1]"
      ]
     },
     "execution_count": 2,
     "metadata": {},
     "output_type": "execute_result"
    }
   ],
   "source": [
    "def next_greater_element(a, n):\n",
    "  # TODO: Implement this function\n",
    "  res=[]\n",
    "  for i in range(n):\n",
    "    for j in range(i+1,n):\n",
    "      if a[j]>a[i]:\n",
    "        res.append(a[j])\n",
    "        break\n",
    "    else:\n",
    "      res.append(-1)\n",
    "  return res\n",
    "next_greater_element([4,5,2,25], 4)"
   ]
  },
  {
   "cell_type": "markdown",
   "id": "331f86d3-b6f5-4326-bffb-70db173989d9",
   "metadata": {},
   "source": [
    "<h2><b>Question-2</b></h2>\n",
    "Problem statement You're given a string 'S' consisting of \"{\", \"}\", \"(\", \")\", \"[\" and \"]\" . Return true if the given string 'S' is balanced, else return false. For example: 'S' = \"{}()\". There is always an opening brace before a closing brace i.e. '{' before '}', '(' before '). So the 'S' is Balanced."
   ]
  },
  {
   "cell_type": "code",
   "execution_count": 6,
   "id": "d377d40c-59e0-4ee5-b0be-b3b269119668",
   "metadata": {},
   "outputs": [
    {
     "data": {
      "text/plain": [
       "True"
      ]
     },
     "execution_count": 6,
     "metadata": {},
     "output_type": "execute_result"
    }
   ],
   "source": [
    "def is_balanced(S):\n",
    "  #Write down your code here\n",
    "  class my_Stack:\n",
    "    def __init__(self):\n",
    "        self.__stack =[] # Very Important to make it private so that functionality is right\n",
    "\n",
    "    def push(self,data):\n",
    "        self.__stack.append(data)\n",
    "        #print(f\"Pushed {data} into Stack\")\n",
    "\n",
    "    def size(self):\n",
    "        return len(self.__stack)\n",
    "\n",
    "    def is_empty(self):\n",
    "        '''\n",
    "        if(len(self.stack)==0):\n",
    "            return True\n",
    "        else:\n",
    "            return False\n",
    "        '''\n",
    "        return len(self.__stack) == 0\n",
    "\n",
    "    def top(self):\n",
    "        if(self.is_empty()):\n",
    "            print(\"Stack is Empty, No top element\")\n",
    "            return None\n",
    "        # return self.stack[len(self.stack)-1]\n",
    "        return self.__stack[-1]\n",
    "\n",
    "    def pop(self):\n",
    "        if(self.is_empty()):\n",
    "            print(\"Stack is Empty, Cannot pop\")\n",
    "            return None\n",
    "        return self.__stack.pop()\n",
    "\n",
    "  stack=my_Stack()\n",
    "  for bracket in S:\n",
    "    if bracket== '(' or bracket=='{' or bracket=='[':\n",
    "      stack.push(bracket)\n",
    "      continue\n",
    "    elif bracket==')':\n",
    "      if stack.is_empty() or stack.top()!='(':\n",
    "        return False\n",
    "      stack.pop()\n",
    "      continue\n",
    "    elif bracket=='}':\n",
    "      if stack.is_empty() or stack.top()!='{':\n",
    "        return False\n",
    "      stack.pop()\n",
    "      continue\n",
    "    elif bracket==']':\n",
    "      if stack.is_empty() or stack.top()!='[':\n",
    "        return False\n",
    "      stack.pop()\n",
    "      continue\n",
    "\n",
    "  if stack.is_empty():\n",
    "    return True\n",
    "  return False\n",
    "\n",
    "is_balanced(\"{}()\")"
   ]
  },
  {
   "cell_type": "markdown",
   "id": "c302fcee-3c5f-4289-86ed-22a8b287c8cf",
   "metadata": {},
   "source": [
    "<h2><b>Question-3</b></h2>\n",
    "You are given a string s consisting of lowercase English letters. A duplicate removal consists of choosing two adjacent and equal letters and removing them. We repeatedly make duplicate removals on s until we no longer can. Return the final string after all such duplicate removals have been made. It can be proven that the answer is unique. Example 1: Input: s = \"abbaca\" Output: \"ca\" Explanation: For example, in \"abbaca\" we could remove \"bb\" since the letters are adjacent and equal, and this is the only possible move.  The result of this move is that the string is \"aaca\", of which only \"aa\" is possible, so the final string is \"ca\". Example 2: Input: s = \"azxxzy\" Output: \"ay\" Constraints: 1 <= s.length <= 105 s consists of lowercase English letters."
   ]
  },
  {
   "cell_type": "code",
   "execution_count": null,
   "id": "fa47a905-6047-4b43-b4f9-80094db07161",
   "metadata": {},
   "outputs": [],
   "source": [
    "class Solution:\n",
    "  def removeDuplicates(self, s: str) -> str:\n",
    "    #Write your code here\n",
    "    stack=[]\n",
    "    for i in s:\n",
    "      if len(stack)==0:\n",
    "        stack.append(i)\n",
    "      elif stack[-1]==i:\n",
    "        stack.pop()\n",
    "        continue\n",
    "      else:\n",
    "        stack.append(i)\n",
    "    return \"\".join(stack)\n",
    "\n",
    "sol=Solution()\n",
    "sol.removeDuplicates('azxxzy')"
   ]
  },
  {
   "cell_type": "markdown",
   "id": "e0955e6c-8b17-44f3-920c-cd8ae73eebab",
   "metadata": {},
   "source": [
    "<h2><b>Question-4</b></h2>\n",
    "Given an array arr of size n, find the Next Smaller Element (NSE) for every element in the array. The Next Smaller Element for an element x is the first element on the right side of x in the array that is smaller than x.\n",
    "If no smaller element exists to the right of x, consider the next smaller element as -1.\n",
    "Input Parameters:\n",
    "arr (List[int]): An array of integers.\n",
    "Output:\n",
    "List[int]: An array where the i-th element is the Next Smaller Element for arr[i].\n",
    "Example:\n",
    "Input: arr = [10, 20, 30, 40]\n",
    "Output: [-1, -1, -1, -1]"
   ]
  },
  {
   "cell_type": "code",
   "execution_count": 12,
   "id": "21295a80-4162-487c-a15b-3cdb3925d8b0",
   "metadata": {},
   "outputs": [
    {
     "data": {
      "text/plain": [
       "[2, 2, -1, 8, -1]"
      ]
     },
     "execution_count": 12,
     "metadata": {},
     "output_type": "execute_result"
    }
   ],
   "source": [
    "def next_smaller_elements(arr):\n",
    "  \"\"\"\n",
    "    Function to find the next smaller element for each element in the array.\n",
    "    :param arr: List[int] -> List of integers\n",
    "    :return: List[int] -> List of next smaller elements for each element\n",
    "  \"\"\"\n",
    "  # TODO: Implement this function\n",
    "  res=[]\n",
    "  for i in range(len(arr)):\n",
    "    for j in range(i+1,len(arr)):\n",
    "      if arr[j]<arr[i]:\n",
    "        res.append(arr[j])\n",
    "        break\n",
    "    else:\n",
    "      res.append(-1)\n",
    "  return res\n",
    "\n",
    "next_smaller_elements([4, 5, 2, 10, 8])"
   ]
  },
  {
   "cell_type": "markdown",
   "id": "74c60b53-b591-441c-a255-b8781ad0b94c",
   "metadata": {},
   "source": [
    "<h2><b>Question-5</b></h2>\n",
    "An expression is called a postfix expression if the operator appears after its operands. You are given a postfix expression as a list of strings, where each string is either an operand (integer) or an operator (+, -, *, /). The task is to evaluate the expression and return the result. Operands will always be integers, and the division should truncate towards zero.\n",
    "Input Parameters:\n",
    "expression (List[str]): A list of strings representing the postfix expression.\n",
    "Output:\n",
    "int: The result of evaluating the postfix expression.\n",
    "Example:\n",
    "Input: expression = [\"4\", \"13\", \"5\", \"/\", \"+\"]\n",
    "Output: 6\n",
    "Input: expression = [\"2\", \"1\", \"+\", \"3\", \"*\"]\n",
    "Output: 9\n",
    "Input: expression = [\"10\", \"6\", \"9\", \"3\", \"+\", \"-11\", \"*\", \"/\", \"*\", \"17\", \"+\", \"5\", \"+\"]\n",
    "Output: 22"
   ]
  },
  {
   "cell_type": "code",
   "execution_count": null,
   "id": "6c877c38-7770-4a2b-9f7d-56dcb738e9ac",
   "metadata": {},
   "outputs": [],
   "source": [
    "def evaluate_postfix(expression):\n",
    "  \"\"\"\n",
    "    Function to evaluate a postfix expression.\n",
    "    :param expression: List[str] -> A list of strings representing the postfix expression\n",
    "    :return: int -> The result of the postfix evaluation\n",
    "  \"\"\"\n",
    "  # TODO: Implement this function\n",
    "  def my_isdigit(s):\n",
    "    if s=='+' or s=='-' or s=='*' or s=='/' or s=='**':\n",
    "      return False\n",
    "    return True\n",
    "\n",
    "  class my_Stack:\n",
    "    def __init__(self):\n",
    "        self.__stack =[] # Very Important to make it private so that functionality is right\n",
    "\n",
    "    def push(self,data):\n",
    "        self.__stack.append(data)\n",
    "        #print(f\"Pushed {data} into Stack\")\n",
    "\n",
    "    def size(self):\n",
    "        return len(self.__stack)\n",
    "\n",
    "    def is_empty(self):\n",
    "        '''\n",
    "        if(len(self.stack)==0):\n",
    "            return True\n",
    "        else:\n",
    "            return False\n",
    "        '''\n",
    "        return len(self.__stack) == 0\n",
    "\n",
    "    def top(self):\n",
    "        if(self.is_empty()):\n",
    "            print(\"Stack is Empty, No top element\")\n",
    "            return None\n",
    "        # return self.stack[len(self.stack)-1]\n",
    "        return self.__stack[-1]\n",
    "\n",
    "    def pop(self):\n",
    "        if(self.is_empty()):\n",
    "            print(\"Stack is Empty, Cannot pop\")\n",
    "            return None\n",
    "        return self.__stack.pop()\n",
    "\n",
    "  stack=my_Stack()\n",
    "  for char in expression:\n",
    "    if my_isdigit(char):\n",
    "      stack.push((int(char)))\n",
    "    elif char=='+':\n",
    "      a=stack.pop()\n",
    "      b=stack.pop()\n",
    "      stack.push(a+b)\n",
    "    elif char=='-':\n",
    "      b=stack.pop()\n",
    "      a=stack.pop()\n",
    "      stack.push(a-b)\n",
    "    elif char=='*':\n",
    "      a=stack.pop()\n",
    "      b=stack.pop()\n",
    "      stack.push(a*b)\n",
    "    elif char=='/':\n",
    "      b=stack.pop()\n",
    "      a=stack.pop()\n",
    "      if (a//b)<0:\n",
    "        stack.push(0)\n",
    "      else:\n",
    "        stack.push(a//b)\n",
    "\n",
    "  return stack.pop()\n",
    "\n",
    "evaluate_postfix([\"10\", \"6\", \"9\", \"3\", \"+\", \"-11\", \"*\", \"/\", \"*\", \"17\", \"+\", \"5\", \"+\"])"
   ]
  },
  {
   "cell_type": "markdown",
   "id": "5319b637-27f3-4ac4-96cc-d5f32557288b",
   "metadata": {},
   "source": [
    "<h2><b>Question-6</b></h2>\n",
    "There are n friends sitting in a circle numbered from 1 to n. They play a game with the following rules:\n",
    "Start at the 1st friend.\n",
    "Count k friends in a clockwise direction, including the starting friend. The counting wraps around the circle.\n",
    "The friend at the k-th position leaves the circle.\n",
    "If more than one friend remains, continue from the friend immediately clockwise of the one who just left.\n",
    "The last remaining friend is the winner.\n",
    "Given the number of friends n and an integer k, return the winner of the game.\n",
    "Input:\n",
    "n (1 ≤ n ≤ 10^5): The number of friends.\n",
    "k (1 ≤ k ≤ 10^5): The counting number.\n",
    "Output:\n",
    "An integer representing the winner of the game.\n",
    "Example:\n",
    "Input: n = 5, k = 3\n",
    "Output: 4"
   ]
  },
  {
   "cell_type": "code",
   "execution_count": 18,
   "id": "baaa360f-39a9-4223-8913-fb68f841065c",
   "metadata": {},
   "outputs": [
    {
     "data": {
      "text/plain": [
       "1"
      ]
     },
     "execution_count": 18,
     "metadata": {},
     "output_type": "execute_result"
    }
   ],
   "source": [
    "def find_winner(n, k):\n",
    "  \"\"\"\n",
    "    Find the winner of the circle game.\n",
    "\n",
    "    Parameters:\n",
    "    n (int): The number of friends.\n",
    "    k (int): The counting number.\n",
    "\n",
    "    Returns:\n",
    "    int: The number of the winning friend.\n",
    "  \"\"\"\n",
    "  # Implement the function\n",
    "  players=[i+1 for i in range(n)]\n",
    "  pointer=0\n",
    "  while len(players)>1:\n",
    "    pointer=(pointer+k-1)%len(players)\n",
    "    players.pop(pointer)\n",
    "  return players[0]\n",
    "\n",
    "find_winner(6,5)"
   ]
  },
  {
   "cell_type": "markdown",
   "id": "6097ce4e-6b52-4b1a-9266-10a979ec6812",
   "metadata": {},
   "source": [
    "<h2><b>Question-7</b></h2>\n",
    "Given an array of integers heights representing the histogram's bar height where the width of each bar is 1, return the area of the largest rectangle that can be formed in the histogram.\n",
    "Parameters:\n",
    "heights (List[int]): A list of integers where each integer represents the height of a bar in the histogram.\n",
    "Return Values:\n",
    "int: The area of the largest rectangle that can be formed in the histogram.\n",
    "Example:\n",
    "Input: heights = [2, 1, 5, 6, 2, 3] \n",
    "Output: 10 \n",
    "Explanation: The largest rectangle has an area of 10 and spans heights [5, 6]."
   ]
  },
  {
   "cell_type": "code",
   "execution_count": 22,
   "id": "7797bf37-133b-40c8-9bb8-578f39d07d8a",
   "metadata": {},
   "outputs": [
    {
     "data": {
      "text/plain": [
       "24"
      ]
     },
     "execution_count": 22,
     "metadata": {},
     "output_type": "execute_result"
    }
   ],
   "source": [
    "def largestRectangleArea(heights):\n",
    "  # Implement your solution here\n",
    "  def next_smaller_elem_index(arr,i):\n",
    "    if i==len(arr)-1:\n",
    "      return len(arr) #if trying to find for the last elem of an array\n",
    "    for j in range(i+1,len(arr)):\n",
    "      if arr[j]<arr[i]:\n",
    "        return j\n",
    "    return len(arr)\n",
    "\n",
    "  def previous_smaller_elem_index(arr,i):\n",
    "    if i==0:\n",
    "      return -1\n",
    "    for j in range(i-1,-1,-1):\n",
    "      if arr[j]<arr[i]:\n",
    "        return j\n",
    "    return -1\n",
    "\n",
    "  areas=[0]*len(heights)\n",
    "  for i in range(len(heights)):\n",
    "    pse=previous_smaller_elem_index(heights,i)\n",
    "    nse=next_smaller_elem_index(heights,i)\n",
    "\n",
    "    if pse==-1: #dont have previous smaller element but have next smaller elem\n",
    "      areas[i]=heights[i]*(nse)\n",
    "      continue\n",
    "    if pse==-1 and nse==len(heights): #last elem and have no previous smaller elem\n",
    "      areas[i]=heights[i]*(i+1)\n",
    "      continue\n",
    "    if pse==i-1 and nse==i+1: #previous and next smaller elem are just beside\n",
    "      areas[i]=heights[i]\n",
    "      continue\n",
    "    areas[i]=heights[i]*(nse-pse-1)\n",
    "  return max(areas)\n",
    "\n",
    "largestRectangleArea([7,6,8,7,3])"
   ]
  }
 ],
 "metadata": {
  "kernelspec": {
   "display_name": "Python 3 (ipykernel)",
   "language": "python",
   "name": "python3"
  },
  "language_info": {
   "codemirror_mode": {
    "name": "ipython",
    "version": 3
   },
   "file_extension": ".py",
   "mimetype": "text/x-python",
   "name": "python",
   "nbconvert_exporter": "python",
   "pygments_lexer": "ipython3",
   "version": "3.12.7"
  }
 },
 "nbformat": 4,
 "nbformat_minor": 5
}
