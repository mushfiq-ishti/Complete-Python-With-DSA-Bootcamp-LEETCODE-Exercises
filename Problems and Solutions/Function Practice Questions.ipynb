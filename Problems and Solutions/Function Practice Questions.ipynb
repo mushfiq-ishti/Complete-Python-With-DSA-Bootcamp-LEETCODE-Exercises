{
 "cells": [
  {
   "cell_type": "markdown",
   "id": "d5726902-d297-4280-ad1d-3e66425b4aa9",
   "metadata": {},
   "source": [
    "<h2><b>Question-1:</b></h2>\n",
    "You are given a temperature in Celsius. Your task is to convert it to Fahrenheit and return the result.\n",
    "Formula:\n",
    "To convert Celsius to Fahrenheit, use the formula:\n",
    "F = (9/5 * C) + 32\n",
    "Where F is the temperature in Fahrenheit and C is the temperature in Celsius.\n",
    "Input: A floating-point number C representing the temperature in Celsius.\n",
    "Output: A floating-point number representing the temperature in Fahrenheit.\n",
    "Example:\n",
    "Input: C = 25\n",
    "Output: 77.0\n"
   ]
  },
  {
   "cell_type": "code",
   "execution_count": 5,
   "id": "beabb954-542e-4eaf-a39f-e3349d782756",
   "metadata": {},
   "outputs": [
    {
     "data": {
      "text/plain": [
       "77.0"
      ]
     },
     "execution_count": 5,
     "metadata": {},
     "output_type": "execute_result"
    }
   ],
   "source": [
    "def celsius_to_fahrenheit(C):\n",
    "    \"\"\"\n",
    "    Function to convert temperature from Celsius to Fahrenheit.\n",
    "    \n",
    "    Parameters:\n",
    "    C (float): The temperature in Celsius.\n",
    "    \n",
    "    Returns:\n",
    "    float: The temperature in Fahrenheit.\n",
    "    \"\"\"\n",
    "    # Your code here\n",
    "    return (9/5 * C) + 32\n",
    "celsius_to_fahrenheit(25)"
   ]
  },
  {
   "cell_type": "markdown",
   "id": "520f618b-8bbf-4483-9598-e26bd0f7f12e",
   "metadata": {},
   "source": [
    "<h2><b>Question-2:</b></h2>\n",
    "Problem Description:\n",
    "You are given the length and breadth of a rectangle. Your task is to compute and return the area of the rectangle.\n",
    "Formula:\n",
    "To calculate the area of a rectangle:\n",
    "Area=length×breadth\n",
    "Input: Two floating-point numbers, length and breadth, representing the dimensions of the rectangle.\n",
    "Output: A floating-point number representing the area of the rectangle.\n",
    "Example:\n",
    "Input: length = 5, breadth = 3\n",
    "Output: 15.0"
   ]
  },
  {
   "cell_type": "code",
   "execution_count": 9,
   "id": "5e51d516-ba50-4d48-8a28-0afd986da71d",
   "metadata": {},
   "outputs": [
    {
     "data": {
      "text/plain": [
       "15"
      ]
     },
     "execution_count": 9,
     "metadata": {},
     "output_type": "execute_result"
    }
   ],
   "source": [
    "def area_of_rectangle(length, breadth):\n",
    "    \"\"\"\n",
    "    Function to calculate the area of a rectangle.\n",
    "    \n",
    "    Parameters:\n",
    "    length (float): The length of the rectangle.\n",
    "    breadth (float): The breadth of the rectangle.\n",
    "    \n",
    "    Returns:\n",
    "    float: The area of the rectangle.\n",
    "    \"\"\"\n",
    "    # Your code here\n",
    "    return length*breadth\n",
    "\n",
    "area_of_rectangle(5,3)"
   ]
  },
  {
   "cell_type": "markdown",
   "id": "9d6df472-d5e7-45c1-92c8-12189ee5a203",
   "metadata": {},
   "source": [
    "<h2><b>Question-3:</b></h2>\n",
    "You are given the speed of a vehicle and the time it has traveled. Your task is to compute and return the distance traveled by the vehicle.\n",
    "Formula: To calculate the distance traveled by a vehicle:\n",
    "Distance=Speed×Time\n",
    "Input: Two floating-point numbers, speed and time, representing the speed of the vehicle and the time it has been traveling.\n",
    "Output: A floating-point number representing the distance traveled.\n",
    "Example:\n",
    "Input: speed = 60, time = 2\n",
    "Output: 120.0"
   ]
  },
  {
   "cell_type": "code",
   "execution_count": 15,
   "id": "7a2648d9-6171-4f7c-b6d3-daf5ff5e39ff",
   "metadata": {},
   "outputs": [
    {
     "data": {
      "text/plain": [
       "120"
      ]
     },
     "execution_count": 15,
     "metadata": {},
     "output_type": "execute_result"
    }
   ],
   "source": [
    "def calculate_distance(speed, time):\n",
    "    \"\"\"\n",
    "    Function to calculate the distance traveled by a vehicle.\n",
    "    \n",
    "    Parameters:\n",
    "    speed (float): The speed of the vehicle.\n",
    "    time (float): The time the vehicle has traveled.\n",
    "    \n",
    "    Returns:\n",
    "    float: The distance traveled by the vehicle.\n",
    "    \"\"\"\n",
    "    # Your code here\n",
    "    return speed*time\n",
    "\n",
    "calculate_distance(60,2)"
   ]
  },
  {
   "cell_type": "markdown",
   "id": "798bc65b-536d-4330-9ca7-b1f2adf16bce",
   "metadata": {},
   "source": [
    "<h2><b>Question-4:</b></h2>\n",
    "You are given n, the total number of people, and capacity, the maximum number of people the lift can carry at a time. All people want to go from the ground floor to the top floor. Your task is to calculate the number of rounds the lift has to make to transport all the people to the top floor.\n",
    "Input: Two integers, n and capacity, where n is the total number of people, and capacity is the maximum number of people the lift can carry in one round.\n",
    "Output: An integer representing the number of rounds the lift needs to cover to transport all people to the top floor.\n",
    "Example:\n",
    "Input: n = 10, capacity = 3\n",
    "Output: 4"
   ]
  },
  {
   "cell_type": "code",
   "execution_count": 33,
   "id": "bb5e2c6f-eea1-48d1-88e8-6f29c36e501a",
   "metadata": {},
   "outputs": [
    {
     "data": {
      "text/plain": [
       "4"
      ]
     },
     "execution_count": 33,
     "metadata": {},
     "output_type": "execute_result"
    }
   ],
   "source": [
    "def calculate_lift_rounds(n, capacity):\n",
    "    \"\"\"\n",
    "    Function to calculate the number of rounds the lift needs to cover.\n",
    "    \n",
    "    Parameters:\n",
    "    n (int): Total number of people.\n",
    "    capacity (int): Maximum number of people the lift can carry in one round.\n",
    "    \n",
    "    Returns:\n",
    "    int: The number of rounds required to transport all people to the top floor.\n",
    "    \"\"\"\n",
    "    # Your code here\n",
    "    import math\n",
    "    return math.ceil(n/capacity)\n",
    "\n",
    "calculate_lift_rounds(10,3)"
   ]
  },
  {
   "cell_type": "markdown",
   "id": "f55eaa29-348d-4646-854f-52fea8473227",
   "metadata": {},
   "source": [
    "<h2><b>Question-5:</b></h2>\n",
    "You are given the slope m and the y-intercept b of a line, along with a value x. Your task is to calculate and return the value of y using the equation of a line in slope-intercept form:\n",
    "y=mx+b\n",
    "Input: Three floating-point numbers: slope, intercept, and x.\n",
    "Output: A floating-point number representing the value of yyy corresponding to the given xxx.\n",
    "Example:\n",
    "Input: slope = 2, intercept = 3, x = 4\n",
    "Output: 11.0"
   ]
  },
  {
   "cell_type": "code",
   "execution_count": 37,
   "id": "e4e33188-dd7d-4b04-afd3-98253e50c797",
   "metadata": {},
   "outputs": [
    {
     "data": {
      "text/plain": [
       "10"
      ]
     },
     "execution_count": 37,
     "metadata": {},
     "output_type": "execute_result"
    }
   ],
   "source": [
    "def calculate_y(slope, intercept, x):\n",
    "    \"\"\"\n",
    "    Function to calculate the value of y using the slope-intercept form of a line.\n",
    "    \n",
    "    Parameters:\n",
    "    slope (float): The slope of the line.\n",
    "    intercept (float): The y-intercept of the line.\n",
    "    x (float): The value of x for which y needs to be calculated.\n",
    "    \n",
    "    Returns:\n",
    "    float: The calculated value of y.\n",
    "    \"\"\"\n",
    "    # Your code here\n",
    "    return (slope*x)+intercept\n",
    "\n",
    "calculate_y(2,4,3)"
   ]
  }
 ],
 "metadata": {
  "kernelspec": {
   "display_name": "Python 3 (ipykernel)",
   "language": "python",
   "name": "python3"
  },
  "language_info": {
   "codemirror_mode": {
    "name": "ipython",
    "version": 3
   },
   "file_extension": ".py",
   "mimetype": "text/x-python",
   "name": "python",
   "nbconvert_exporter": "python",
   "pygments_lexer": "ipython3",
   "version": "3.12.7"
  }
 },
 "nbformat": 4,
 "nbformat_minor": 5
}
