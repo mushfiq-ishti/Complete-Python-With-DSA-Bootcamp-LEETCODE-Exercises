{
 "cells": [
  {
   "cell_type": "markdown",
   "id": "bd426746-9d13-4197-8b8a-ad6cdab7ef34",
   "metadata": {},
   "source": [
    "<h2><b>Question-1:</b></h2>\n",
    "Given a list of integers and an integer D, write a function to rotate the list to the left by D positions.\n",
    "Input Parameters: ARR (List[int]): A list of integers. D (int): The number of positions to rotate the list to the left.\n",
    "Output: List[int]: The list after rotating it to the left by D positions.\n",
    "Example:\n",
    "Input: ARR = [1, 2, 3, 4, 5], D = 2\n",
    "Output: [3, 4, 5, 1, 2]"
   ]
  },
  {
   "cell_type": "code",
   "execution_count": 16,
   "id": "86ec91d5-a310-4125-9315-0a199277f13b",
   "metadata": {},
   "outputs": [
    {
     "data": {
      "text/plain": [
       "[8, 9, 10, 7]"
      ]
     },
     "execution_count": 16,
     "metadata": {},
     "output_type": "execute_result"
    }
   ],
   "source": [
    "def rotate_left(ARR, D):\n",
    "    \"\"\"\n",
    "    Function to rotate the list to the left by D positions.\n",
    "    :param ARR: List[int] -> The list of integers\n",
    "    :param D: int -> The number of positions to rotate\n",
    "    :return: List[int] -> The list after rotation\n",
    "    \"\"\"\n",
    "    # TODO: Implement this function\n",
    "    rot_arr=[0 for i in range(len(ARR))]\n",
    "    for i,item in enumerate(ARR):\n",
    "        if (i-D)<0:\n",
    "            new_index=(i-D)%len(ARR)\n",
    "            rot_arr[new_index]=item\n",
    "        else:\n",
    "            rot_arr[i-D]=item\n",
    "    return rot_arr\n",
    "\n",
    "rotate_left([7,8,9,10],1)"
   ]
  },
  {
   "cell_type": "markdown",
   "id": "a9a1148e-6ee7-44d7-b95a-2dc61b9f6c94",
   "metadata": {},
   "source": [
    "<h2><b>Question-2:</b></h2>\n",
    "You are given a large integer represented as an integer array digits, where each digits[i] is the i-th digit of the integer. The digits are ordered from most significant to least significant in left-to-right order. The large integer does not contain any leading zeroes.\n",
    "Write a function to increment the large integer by one and return the resulting array of digits.\n",
    "Input Parameters: digits (List[int]): A list of integers where each integer represents a digit of a large number.\n",
    "Output: List[int]: The list representing the number after incrementing it by one.\n",
    "Example:\n",
    "Input: digits = [1, 2, 3]\n",
    "Output: [1, 2, 4]"
   ]
  },
  {
   "cell_type": "code",
   "execution_count": 48,
   "id": "a99e8265-fd40-43f8-bb60-bebc32314608",
   "metadata": {},
   "outputs": [
    {
     "data": {
      "text/plain": [
       "[1, 2, 5]"
      ]
     },
     "execution_count": 48,
     "metadata": {},
     "output_type": "execute_result"
    }
   ],
   "source": [
    "def plus_one(digits):\n",
    "    \"\"\"\n",
    "    Function to increment a large integer represented as a list of digits by one.\n",
    "    :param digits: List[int] -> List of digits representing the large integer\n",
    "    :return: List[int] -> The list representing the integer after incrementing\n",
    "    \"\"\"\n",
    "    # TODO: Implement this function\n",
    "    num=0\n",
    "    digits=digits[::-1]\n",
    "    for i in range(len(digits)):\n",
    "        num+=digits[i]*(10**i)\n",
    "    num+=1\n",
    "    return [int(i) for i in str(num)]\n",
    "\n",
    "plus_one([1,2,4])"
   ]
  },
  {
   "cell_type": "markdown",
   "id": "f16fda41-5d3e-4e5a-88e7-2f30f7376de6",
   "metadata": {},
   "source": [
    "<h2><b>Question-3:</b></h2>\n",
    "Given an array nums containing n distinct numbers in the range [0, n], return the only number in the range that is missing from the array.\n",
    "Input Parameters: nums (List[int]): A list of integers where each integer is unique and in the range [0, n].\n",
    "Output: int: The missing number in the range [0, n].\n",
    "Example:\n",
    "Input: nums = [3, 0, 1]\n",
    "Output: 2"
   ]
  },
  {
   "cell_type": "code",
   "execution_count": 99,
   "id": "02013c3f-8d77-4fcf-9874-1086547664fa",
   "metadata": {},
   "outputs": [
    {
     "data": {
      "text/plain": [
       "5"
      ]
     },
     "execution_count": 99,
     "metadata": {},
     "output_type": "execute_result"
    }
   ],
   "source": [
    "def find_missing_number(nums):\n",
    "    \"\"\"\n",
    "    Function to find the missing number in the array.\n",
    "    :param nums: List[int] -> A list of distinct integers in the range [0, n]\n",
    "    :return: int -> The missing number in the range\n",
    "    \"\"\"\n",
    "    # TODO: Implement this function\n",
    "    n=len(nums)\n",
    "    actual_sum=(n*(n+1))/2\n",
    "    missing_num=actual_sum-sum(nums)\n",
    "    return int(missing_num)\n",
    "find_missing_number([8, 7, 6, 4, 3, 2, 0, 1])"
   ]
  },
  {
   "cell_type": "markdown",
   "id": "b50fc4ab-c179-42c9-b907-2de45e3bdad4",
   "metadata": {},
   "source": [
    "<h2><b>Question-4:</b></h2>\n",
    "Write a function that checks whether the given array is sorted in non-decreasing order. The array is considered sorted if every element is less than or equal to the next element.\n",
    "Input Parameters: arr (List[int]): A list of integers.\n",
    "Output: bool: True if the array is sorted in non-decreasing order, False otherwise.\n",
    "Example:\n",
    "Input: arr = [5, 4, 3, 2, 1]\n",
    "Output: False"
   ]
  },
  {
   "cell_type": "code",
   "execution_count": 121,
   "id": "7d8dd0a5-a3d1-4009-b68c-20ee73bc87e4",
   "metadata": {},
   "outputs": [
    {
     "data": {
      "text/plain": [
       "False"
      ]
     },
     "execution_count": 121,
     "metadata": {},
     "output_type": "execute_result"
    }
   ],
   "source": [
    "def is_sorted(arr):\n",
    "    \"\"\"\n",
    "    Function to check if the given array is sorted in non-decreasing order.\n",
    "    :param arr: List[int] -> A list of integers\n",
    "    :return: bool -> True if the array is sorted, False otherwise\n",
    "    \"\"\"\n",
    "    # TODO: Implement this function\n",
    "    return sum([1 for i in range(len(arr)-1) if arr[i]>arr[i+1]])<1\n",
    "\n",
    "is_sorted([5, 4, 3, 2, 1])"
   ]
  },
  {
   "cell_type": "markdown",
   "id": "d110ce01-7394-4707-af08-76b31537f865",
   "metadata": {},
   "source": [
    "<h2><b>Question-5:</b></h2>\n",
    "Given an integer array nums, write a function to move all 0s to the end of the array while maintaining the relative order of the non-zero elements.\n",
    "Input Parameters: nums (List[int]): A list of integers.\n",
    "Output: The list nums with all 0s moved to the end, preserving the order of non-zero elements.\n",
    "Example:\n",
    "Input: nums = [0, 1, 0, 3, 12]\n",
    "Output: [1, 3, 12, 0, 0]"
   ]
  },
  {
   "cell_type": "code",
   "execution_count": 148,
   "id": "a6441990-e0e0-44af-a987-7f86c938a780",
   "metadata": {},
   "outputs": [
    {
     "data": {
      "text/plain": [
       "[1, 3, 12, 0, 0]"
      ]
     },
     "execution_count": 148,
     "metadata": {},
     "output_type": "execute_result"
    }
   ],
   "source": [
    "def move_zeroes(nums):\n",
    "    \"\"\"\n",
    "    Function to move all 0's to the end of the array while maintaining the order of non-zero elements.\n",
    "    :param nums: List[int] -> A list of integers\n",
    "    :return: None -> The list is modified in place\n",
    "    \"\"\"\n",
    "    # TODO: Implement this function\n",
    "    new_nums=[i for i in nums if i!=0]\n",
    "    needed_zeros=len(nums)-len(new_nums)\n",
    "    zeros=[0 for i in range(needed_zeros)]\n",
    "    nums=new_nums+zeros\n",
    "    return nums\n",
    "\n",
    "move_zeroes([0, 1, 0, 3, 12])"
   ]
  },
  {
   "cell_type": "markdown",
   "id": "cded7337-eeb6-4c72-acd7-8d72e00d5ec4",
   "metadata": {},
   "source": [
    "<h2><b>Question-6:</b></h2>\n",
    "Given two integer arrays nums1 and nums2, return an array of their intersection. Each element in the result must be unique, and you may return the result in any order.\n",
    "Input Parameters: nums1 (List[int]): An array of integers. nums2 (List[int]): An array of integers.\n",
    "Output: List[int]: An array of unique integers that are present in both nums1 and nums2.\n",
    "Example:\n",
    "Input: nums1 = [1, 2, 3], nums2 = [4, 5, 6]\n",
    "Output: []"
   ]
  },
  {
   "cell_type": "code",
   "execution_count": 154,
   "id": "d0c34315-2b22-42e0-820c-fbb5df685848",
   "metadata": {},
   "outputs": [
    {
     "data": {
      "text/plain": [
       "[9, 4]"
      ]
     },
     "execution_count": 154,
     "metadata": {},
     "output_type": "execute_result"
    }
   ],
   "source": [
    "def intersection(nums1, nums2):\n",
    "    \"\"\"\n",
    "    Function to find the intersection of two integer arrays.\n",
    "    :param nums1: List[int] -> First array of integers\n",
    "    :param nums2: List[int] -> Second array of integers\n",
    "    :return: List[int] -> An array of unique integers present in both arrays\n",
    "    \"\"\"\n",
    "    # TODO: Implement this function\n",
    "    return list(set(nums1).intersection(set(nums2)))\n",
    "\n",
    "nums1 = [4, 9, 5]\n",
    "nums2 = [9, 4, 9, 8, 4]\n",
    "intersection(nums1,nums2)"
   ]
  },
  {
   "cell_type": "markdown",
   "id": "037c79f2-1c0b-4899-858c-3357437cda7e",
   "metadata": {},
   "source": [
    "<h2><b>Question-7:</b></h2>\n",
    "Given a binary array nums, return the maximum number of consecutive 1s in the array.\n",
    "Input Parameters: nums (List[int]): A binary array where each element is either 0 or 1.\n",
    "Output: int: The maximum number of consecutive 1s in the array.\n",
    "Example:\n",
    "Input: nums = [0, 0, 0, 0]\n",
    "Output: 0"
   ]
  },
  {
   "cell_type": "code",
   "execution_count": 169,
   "id": "a822b772-1be3-40bf-8bc4-c927b2bc544f",
   "metadata": {},
   "outputs": [
    {
     "data": {
      "text/plain": [
       "4"
      ]
     },
     "execution_count": 169,
     "metadata": {},
     "output_type": "execute_result"
    }
   ],
   "source": [
    "def find_max_consecutive_ones(nums):\n",
    "    \"\"\"\n",
    "    Function to find the maximum number of consecutive 1's in a binary array.\n",
    "    :param nums: List[int] -> A binary array where each element is either 0 or 1\n",
    "    :return: int -> The maximum number of consecutive 1's\n",
    "    \"\"\"\n",
    "    # TODO: Implement this function\n",
    "    c_max=0\n",
    "    for i,item in enumerate(nums):\n",
    "        if item==1:\n",
    "            c=0\n",
    "            for j in range(i,len(nums)):\n",
    "                if nums[j]==1:\n",
    "                    c+=1\n",
    "                else:\n",
    "                    break\n",
    "            if c>c_max:\n",
    "                c_max=c\n",
    "    return c_max\n",
    "\n",
    "find_max_consecutive_ones([1, 0, 1, 1, 0, 1, 1, 1, 1])"
   ]
  },
  {
   "cell_type": "markdown",
   "id": "617f4810-30c3-4854-abe7-9efeb2507338",
   "metadata": {},
   "source": [
    "<h2><b>Question-8:</b></h2>\n",
    "Given an array arr of length n, consisting of integers, find the sum of the subarray (including an empty subarray) that has the maximum sum among all possible subarrays.\n",
    "Input: An integer array arr of length n where 1 ≤ n ≤ 10^5 and each element arr[i] is an integer.\n",
    "Output: An integer representing the sum of the subarray with the maximum sum. If all numbers are negative, the algorithm should handle that correctly by returning the largest single number or zero if the array is empty.\n",
    "Example:\n",
    "Input: arr = [-2, 1, -3, 4, -1, 2, 1, -5, 4]\n",
    "Output: 6"
   ]
  },
  {
   "cell_type": "code",
   "execution_count": 184,
   "id": "8218f228-45f1-4e61-bd6a-d8bd0edd6c6d",
   "metadata": {},
   "outputs": [
    {
     "data": {
      "text/plain": [
       "60"
      ]
     },
     "execution_count": 184,
     "metadata": {},
     "output_type": "execute_result"
    }
   ],
   "source": [
    "def max_subarray_sum(arr):\n",
    "    \"\"\"\n",
    "    Given an array of integers, find the maximum sum of any subarray.\n",
    "\n",
    "    Parameters:\n",
    "    arr (List[int]): List of integers.\n",
    "\n",
    "    Returns:\n",
    "    int: Maximum sum of any subarray.\n",
    "    \"\"\"\n",
    "    # Implement the function\n",
    "    if sum([1 for i in arr if i<0])==len(arr): #checking if all items are negative\n",
    "        return []\n",
    "    if len(arr)==1:\n",
    "        return arr\n",
    "    \n",
    "    max_sum=0\n",
    "    local_start=0\n",
    "    local_end=0\n",
    "    global_start_index=0\n",
    "    global_end_index=0\n",
    "    for i in range(len(arr)):\n",
    "                \n",
    "        local_max_sum=0\n",
    "        curr_sum=0\n",
    "        for j in range(i,len(arr)):\n",
    "            curr_sum+=arr[j]\n",
    "            if curr_sum>local_max_sum:\n",
    "                local_max_sum=curr_sum\n",
    "                local_start=i\n",
    "                local_end=j\n",
    "                \n",
    "        if local_max_sum>max_sum:\n",
    "            max_sum=local_max_sum\n",
    "            global_start_index=local_start\n",
    "            global_end_index=local_end\n",
    "\n",
    "    return max_sum\n",
    "max_subarray_sum([10,20,-30,40,-50,60])"
   ]
  },
  {
   "cell_type": "markdown",
   "id": "7a28ff38-4572-4447-bd14-a7f8864737e6",
   "metadata": {},
   "source": [
    "The above solution is not efficient. So, we can use Kadane's algorithm for calculating efficiently"
   ]
  },
  {
   "cell_type": "code",
   "execution_count": 195,
   "id": "e4b9d371-4144-4277-bdcb-680e5ca6cc34",
   "metadata": {},
   "outputs": [
    {
     "data": {
      "text/plain": [
       "60"
      ]
     },
     "execution_count": 195,
     "metadata": {},
     "output_type": "execute_result"
    }
   ],
   "source": [
    "def max_subarray_sum(arr):\n",
    "    if not arr:\n",
    "        return 0\n",
    " \n",
    "    # Initialize variables\n",
    "    max_ending_here = 0\n",
    "    max_so_far = float('-inf')\n",
    " \n",
    "    # Iterate through the array\n",
    "    for x in arr:\n",
    "        # Update max_ending_here to include current element\n",
    "        max_ending_here = max(x, max_ending_here + x)\n",
    "        # Update max_so_far to the maximum value found so far\n",
    "        max_so_far = max(max_so_far, max_ending_here)\n",
    " \n",
    "    return max_so_far\n",
    "\n",
    "max_subarray_sum([10,20,-30,40,-50,60])"
   ]
  }
 ],
 "metadata": {
  "kernelspec": {
   "display_name": "Python 3 (ipykernel)",
   "language": "python",
   "name": "python3"
  },
  "language_info": {
   "codemirror_mode": {
    "name": "ipython",
    "version": 3
   },
   "file_extension": ".py",
   "mimetype": "text/x-python",
   "name": "python",
   "nbconvert_exporter": "python",
   "pygments_lexer": "ipython3",
   "version": "3.12.7"
  }
 },
 "nbformat": 4,
 "nbformat_minor": 5
}
