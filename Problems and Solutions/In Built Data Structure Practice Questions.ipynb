{
 "cells": [
  {
   "cell_type": "markdown",
   "id": "eadfe824-976e-48de-acc6-1e92ca79b37d",
   "metadata": {},
   "source": [
    "<h2><b>Question-1:</b></h2>\n",
    "Write a Python function that calculates the sum of all elements in a given list of integers.\n",
    "Parameters: numbers (List of integers): The input list containing integers\n",
    "Returns: An integer representing the sum of all elements in the input list.\n",
    "Example:\n",
    "Input: numbers = [1, 2, 3, 4, 5]\n",
    "Output: 15"
   ]
  },
  {
   "cell_type": "code",
   "execution_count": 3,
   "id": "46dabf4d-83c3-4e28-a2fb-811133447d6e",
   "metadata": {},
   "outputs": [
    {
     "data": {
      "text/plain": [
       "15"
      ]
     },
     "execution_count": 3,
     "metadata": {},
     "output_type": "execute_result"
    }
   ],
   "source": [
    "def sum_list(numbers):\n",
    "    # Your code goes here\n",
    "    return sum(numbers)\n",
    "\n",
    "numbers = [1, 2, 3, 4, 5]\n",
    "sum_list(numbers)"
   ]
  },
  {
   "cell_type": "markdown",
   "id": "84a8e7e7-91d0-4fe3-b6e4-748a970f2206",
   "metadata": {},
   "source": [
    "<h2><b>Question-2:</b></h2>\n",
    "Write a Python function that finds and returns the largest element in a given list of integers.\n",
    "Parameters: numbers (List of integers): The input list containing integers.\n",
    "Returns: An integer representing the largest element in the input list.\n",
    "Example:\n",
    "Input: numbers = [3, 8, 2, 10, 5]\n",
    "Output: 10"
   ]
  },
  {
   "cell_type": "code",
   "execution_count": 8,
   "id": "90d0bfa0-d8a4-4d90-9886-1ddfe2494c91",
   "metadata": {},
   "outputs": [
    {
     "data": {
      "text/plain": [
       "10"
      ]
     },
     "execution_count": 8,
     "metadata": {},
     "output_type": "execute_result"
    }
   ],
   "source": [
    "def find_largest(numbers):\n",
    "    # Your code goes here\n",
    "    return max(numbers)\n",
    "find_largest([3, 8, 2, 10, 5])"
   ]
  },
  {
   "cell_type": "markdown",
   "id": "484973ec-29ba-439c-b15a-0ae31651a9d8",
   "metadata": {},
   "source": [
    "<h2><b>Question-3:</b></h2>\n",
    "You are given a list of integers. Write a Python program that removes any duplicate elements from the list and returns a new list with only unique elements. The order of elements in the list should be maintained.\n",
    "Parameters: lst (List of integers): The list of integers from which duplicates should be removed.\n",
    "Returns: A list of integers where all duplicates have been removed, preserving the original order.\n",
    "Example:\n",
    "Input: lst = [1, 2, 2, 3, 4, 4, 5]\n",
    "Output: [1, 2, 3, 4, 5]"
   ]
  },
  {
   "cell_type": "code",
   "execution_count": 15,
   "id": "2b6a7b8b-f98f-40bb-958f-a8d8571b2b89",
   "metadata": {},
   "outputs": [
    {
     "data": {
      "text/plain": [
       "[1, 2, 3, 4, 5]"
      ]
     },
     "execution_count": 15,
     "metadata": {},
     "output_type": "execute_result"
    }
   ],
   "source": [
    "def remove_duplicates(lst):\n",
    "    # Your code goes here\n",
    "    return list(set(lst))\n",
    "\n",
    "lst = [1, 2, 2, 3, 4, 4, 5]\n",
    "remove_duplicates(lst)"
   ]
  },
  {
   "cell_type": "markdown",
   "id": "4fe434d9-a7ae-4874-acf3-c84d4ef68059",
   "metadata": {},
   "source": [
    "<h2><b>Question-4:</b></h2>\n",
    "You are given a list of integers. Write a Python program that checks if all elements in the list are unique. If all elements are unique, return True; otherwise, return False.\n",
    "Parameters: lst (List of integers): The list of integers to check for uniqueness.\n",
    "Returns: A boolean value True if all elements in the list are unique, False otherwise.\n",
    "Example:\n",
    "Input: lst = [1, 2, 3, 4, 5]\n",
    "Output: True"
   ]
  },
  {
   "cell_type": "code",
   "execution_count": 27,
   "id": "80b626a4-6e2f-4aca-81d0-3dfa1024889c",
   "metadata": {},
   "outputs": [
    {
     "data": {
      "text/plain": [
       "False"
      ]
     },
     "execution_count": 27,
     "metadata": {},
     "output_type": "execute_result"
    }
   ],
   "source": [
    "def check_unique(lst):\n",
    "    # Your code goes here\n",
    "    for i in lst:\n",
    "        c=0\n",
    "        for j in lst:\n",
    "            if i==j:\n",
    "                c+=1\n",
    "        if c>1:\n",
    "            return False\n",
    "    return True\n",
    "lst = [1, 2, 3, 3, 4, 5]\n",
    "check_unique(lst)"
   ]
  },
  {
   "cell_type": "markdown",
   "id": "5db83907-457a-4437-b14b-98565a6f8bd8",
   "metadata": {},
   "source": [
    "<h2><b>Question-5:</b></h2>\n",
    "You are given a list of integers. Write a Python program that reverses the list without using slicing (lst[::-1]). The program should return the reversed list.\n",
    "Parameters: lst (List of integers): The list of integers to be reversed.\n",
    "Returns: A list of integers where the order of elements is reversed from the input list.\n",
    "Example:\n",
    "Input: lst = [1, 2, 3, 4, 5]\n",
    "Output: [5, 4, 3, 2, 1]"
   ]
  },
  {
   "cell_type": "code",
   "execution_count": 38,
   "id": "baa3cc95-5826-4d3c-847b-158631c6d8a1",
   "metadata": {},
   "outputs": [
    {
     "data": {
      "text/plain": [
       "[5, 4, 3, 2, 1]"
      ]
     },
     "execution_count": 38,
     "metadata": {},
     "output_type": "execute_result"
    }
   ],
   "source": [
    "def reverse_list(lst):\n",
    "    # Your code goes here\n",
    "    if len(lst)==1:\n",
    "        return lst\n",
    "    else:\n",
    "        return [lst[len(lst)-i] for i in lst]\n",
    "lst = [1, 2, 3, 4, 5]\n",
    "reverse_list(lst)"
   ]
  },
  {
   "cell_type": "markdown",
   "id": "7d3dbff4-3088-46a0-b2bf-c0062b5f8b65",
   "metadata": {},
   "source": [
    "<h2><b>Question-6:</b></h2>\n",
    "You are given a list of integers. Write a Python program that counts and returns the number of even and odd numbers in the list.\n",
    "Parameters: lst (List of integers): The list of integers where you will count the even and odd numbers.\n",
    "Returns: A tuple (even_count, odd_count) where even_count is the number of even numbers and odd_count is the number of odd numbers.\n",
    "Example:\n",
    "Input: lst = [1, 2, 3, 4, 5]\n",
    "Output: (2, 3)"
   ]
  },
  {
   "cell_type": "code",
   "execution_count": 52,
   "id": "16a7d209-fc33-458c-8568-555244314aef",
   "metadata": {},
   "outputs": [
    {
     "data": {
      "text/plain": [
       "(2, 3)"
      ]
     },
     "execution_count": 52,
     "metadata": {},
     "output_type": "execute_result"
    }
   ],
   "source": [
    "def count_even_odd(lst):\n",
    "    # Your code goes here\n",
    "    even=0\n",
    "    odd=0\n",
    "    for i in lst:\n",
    "        if i%2==0:\n",
    "            even+=1\n",
    "        else:\n",
    "            odd+=1\n",
    "    return (even,odd)\n",
    "lst = [1, 2, 3, 4, 5]\n",
    "count_even_odd(lst)"
   ]
  },
  {
   "cell_type": "markdown",
   "id": "c79572af-0b7a-4305-ab63-73741215d1e3",
   "metadata": {},
   "source": [
    "<h2><b>Question-7:</b></h2>\n",
    "Find Maximum Difference Between Two Consecutive Elements (Brute Force Approach)\n",
    "You are given a list of integers. Write a Python program to find the maximum difference between two consecutive elements in the list using a brute-force approach. The difference is defined as the absolute value of the difference between two consecutive elements.\n",
    "Parameters: lst (List of integers): A list of integers.\n",
    "Returns: An integer representing the maximum difference between two consecutive elements.\n",
    "Example:\n",
    "Input: lst = [1, 7, 3, 10, 5]\n",
    "Output: 7"
   ]
  },
  {
   "cell_type": "code",
   "execution_count": 87,
   "id": "45036925-1a8d-4751-82b3-968a856c578a",
   "metadata": {},
   "outputs": [
    {
     "data": {
      "text/plain": [
       "7"
      ]
     },
     "execution_count": 87,
     "metadata": {},
     "output_type": "execute_result"
    }
   ],
   "source": [
    "def max_consecutive_difference(lst):\n",
    "    # Your code goes here\n",
    "    if len(lst)<2:\n",
    "        return 0\n",
    "    else:\n",
    "        a=[]\n",
    "        for i in range(len(lst)-1):\n",
    "            a.append(abs(lst[i]-lst[i+1]))\n",
    "        return max(a)\n",
    "max_consecutive_difference([1, 7, 3, 10, 5])"
   ]
  },
  {
   "cell_type": "markdown",
   "id": "89bd5e62-5259-4b0e-99a0-81b7ecd06d6b",
   "metadata": {},
   "source": [
    "<h2><b>Question-8:</b></h2>\n",
    "You are given two sorted lists of integers. Write a Python function to merge these two sorted lists into one sorted list. The resulting list should also be in non-decreasing order.\n",
    "Parameters: list1 (List of integers): The first sorted list. list2 (List of integers): The second sorted list.\n",
    "Returns: A single list of integers, containing all elements from list1 and list2, sorted in non-decreasing order.\n",
    "Example:\n",
    "Input: list1 = [1, 3, 5], list2 = [2, 4, 6]\n",
    "Output: [1, 2, 3, 4, 5, 6]"
   ]
  },
  {
   "cell_type": "code",
   "execution_count": 3,
   "id": "04285ed1-8cdf-4397-af78-edcd8dcf19d3",
   "metadata": {},
   "outputs": [
    {
     "data": {
      "text/plain": [
       "[1, 2, 3, 4, 5, 6]"
      ]
     },
     "execution_count": 3,
     "metadata": {},
     "output_type": "execute_result"
    }
   ],
   "source": [
    "def merge_two_sorted_lists(list1, list2):\n",
    "    # Your code goes here\n",
    "    a=list1+list2\n",
    "    a.sort()\n",
    "    return a\n",
    "list1 = [1, 3, 5] \n",
    "list2 = [2, 4, 6]\n",
    "merge_two_sorted_lists(list1, list2)"
   ]
  },
  {
   "cell_type": "markdown",
   "id": "3494f621-f85a-4722-ab8e-8433c950ee9f",
   "metadata": {},
   "source": [
    "<h2><b>Question-9:</b></h2>\n",
    "You are given a list of integers and an integer k. Write a Python function to rotate the list to the right by k positions without using slicing. A rotation shifts elements from the end of the list to the front.\n",
    "Parameters: lst (List of integers): The list to be rotated.\n",
    "k (Integer): The number of positions to rotate the list.\n",
    "Returns: A list of integers rotated by k positions.\n",
    "Example:\n",
    "Input: lst = [1, 2, 3, 4, 5], k = 2\n",
    "Output: [4, 5, 1, 2, 3]"
   ]
  },
  {
   "cell_type": "code",
   "execution_count": 90,
   "id": "b8691bf2-5437-483d-9264-101ff61cf855",
   "metadata": {},
   "outputs": [
    {
     "data": {
      "text/plain": [
       "[30, 40, 50, 10, 20]"
      ]
     },
     "execution_count": 90,
     "metadata": {},
     "output_type": "execute_result"
    }
   ],
   "source": [
    "def rotate_list(lst, k):\n",
    "    # Your code goes here\n",
    "    n=len(lst)\n",
    "    if n<1:\n",
    "        return []\n",
    "    a=[0 for i in range(n)]\n",
    "\n",
    "    for i,j in enumerate(lst):\n",
    "        if (i+k) < n:\n",
    "            a[i+k]=j\n",
    "        else:\n",
    "            idx=(i+k)%n\n",
    "            a[idx]=j\n",
    "    return a\n",
    "rotate_list([10,20,30,40,50],3)"
   ]
  },
  {
   "cell_type": "markdown",
   "id": "7042d555-c078-4fb2-9cad-ba8711fec1a9",
   "metadata": {},
   "source": [
    "<h2><b>Question-9:</b></h2>\n",
    "Design a Python function named merge_lists_to_dictionary to merge two lists into a dictionary where elements from the first list act as keys and elements from the second list act as values.\n",
    "Parameters: keys (List): A list of keys.\n",
    "values (List): A list of values.\n",
    "Returns: A dictionary containing merged key-value pairs.\n",
    "Example:\n",
    "Input: keys = ['a', 'b', 'c'], values = [1, 2, 3]\n",
    "Output: {'a': 1, 'b': 2, 'c': 3}"
   ]
  },
  {
   "cell_type": "code",
   "execution_count": 110,
   "id": "e2f6c790-7df6-406f-b4c6-9c4e13b82896",
   "metadata": {},
   "outputs": [
    {
     "data": {
      "text/plain": [
       "{'a': 1, 'b': 2, 'c': 3}"
      ]
     },
     "execution_count": 110,
     "metadata": {},
     "output_type": "execute_result"
    }
   ],
   "source": [
    "def merge_lists_to_dictionary(keys, values):\n",
    "    # Your code goes here\n",
    "    if len(keys)!=len(values):\n",
    "        return False\n",
    "    elif len(keys)==0 or len(values)==0:\n",
    "        return {}\n",
    "    else:\n",
    "        return {key:value for key,value in zip(keys,values)}\n",
    "keys = ['a', 'b', 'c']\n",
    "values = [1, 2, 3]\n",
    "merge_lists_to_dictionary(keys,values)\n"
   ]
  },
  {
   "cell_type": "markdown",
   "id": "bcb4640e-334c-4430-824b-9c858326847a",
   "metadata": {},
   "source": [
    "<h2><b>Question-10:</b></h2>\n",
    "Design a Python function named merge_three_dictionaries to merge exactly three dictionaries into one.\n",
    "Parameters: dict1 (Dictionary): The first dictionary to be merged. dict2 (Dictionary): The second dictionary to be merged. dict3 (Dictionary): The third dictionary to be merged.\n",
    "Returns: A single dictionary containing all key-value pairs from the three input dictionaries.\n",
    "Example: \n",
    "Input: ({'a': 1, 'b': 2}, {'c': 3, 'd': 4}, {'e': 5, 'f': 6})\n",
    "Output: {'a': 1, 'b': 2, 'c': 3, 'd': 4, 'e': 5, 'f': 6}"
   ]
  },
  {
   "cell_type": "code",
   "execution_count": 120,
   "id": "ff50b2c4-4834-4b4b-98a0-e00d9f5ba511",
   "metadata": {},
   "outputs": [
    {
     "data": {
      "text/plain": [
       "{'a': 1, 'b': 2, 'c': 3, 'd': 4, 'e': 5, 'f': 6}"
      ]
     },
     "execution_count": 120,
     "metadata": {},
     "output_type": "execute_result"
    }
   ],
   "source": [
    "def merge_three_dictionaries(dict1, dict2, dict3):\n",
    "    # Your code goes here\n",
    "    return {**dict1,**dict2,**dict3}\n",
    "a={'a': 1, 'b': 2} \n",
    "b={'c': 3, 'd': 4} \n",
    "c={'e': 5, 'f': 6}\n",
    "merge_three_dictionaries(a,b,c)"
   ]
  },
  {
   "cell_type": "markdown",
   "id": "c51b7178-14c0-4a9e-bd8e-84a314f7733c",
   "metadata": {},
   "source": [
    "<h2><b>Question-11:</b></h2>\n",
    "Design a Python function named count_word_frequency to count the frequency of words in a sentence and store the counts in a dictionary.\n",
    "Parameters: sentence (str): The input sentence where you need to count the frequency of each word.\n",
    "Returns: A dictionary where the keys are words from the sentence and the values are their corresponding frequencies.\n",
    "Example:\n",
    "Input: \"hello world hello\"\n",
    "Output: {'hello': 2, 'world': 1}"
   ]
  },
  {
   "cell_type": "code",
   "execution_count": 183,
   "id": "0b23f269-2144-41c4-be32-24648cbabff9",
   "metadata": {},
   "outputs": [
    {
     "data": {
      "text/plain": [
       "{'hello': 2, 'world': 1}"
      ]
     },
     "execution_count": 183,
     "metadata": {},
     "output_type": "execute_result"
    }
   ],
   "source": [
    "def count_word_frequency(sentence):\n",
    "    # Your code goes here\n",
    "    frequency={}\n",
    "    for word in sentence.split():\n",
    "        frequency[word]=frequency.get(word,0)+1\n",
    "    return frequency\n",
    "\n",
    "count_word_frequency(\"hello world hello\" )"
   ]
  },
  {
   "cell_type": "markdown",
   "id": "8925c51a-f808-4167-a8e8-f84cf48aa7e6",
   "metadata": {},
   "source": [
    "<h2><b>Question-12:</b></h2>\n",
    "Design a Python function named is_palindromic_tuple to check if a tuple is palindromic, meaning it reads the same forwards and backwards.\n",
    "Parameters: tup (tuple): The input tuple that you need to check for palindromic property.\n",
    "Returns: True if the tuple is palindromic, False otherwise.\n",
    "Example:\n",
    "Input: (1, 2, 3, 2, 1)\n",
    "Output: True"
   ]
  },
  {
   "cell_type": "code",
   "execution_count": 179,
   "id": "ae7604a6-e221-40bc-866d-e528f5e08edf",
   "metadata": {},
   "outputs": [
    {
     "data": {
      "text/plain": [
       "True"
      ]
     },
     "execution_count": 179,
     "metadata": {},
     "output_type": "execute_result"
    }
   ],
   "source": [
    "def is_palindromic_tuple(tup):\n",
    "    # Your code goes here\n",
    "    return list(tup)==list(tup)[::-1]\n",
    "\n",
    "is_palindromic_tuple((1, 2, 3, 2, 1))"
   ]
  },
  {
   "cell_type": "markdown",
   "id": "4db6c12c-840d-4951-b259-17f8590f692a",
   "metadata": {},
   "source": [
    "<h2><b>Question-13:</b></h2>\n",
    "Design a Python function named merge_dicts_with_overlapping_keys that merges multiple dictionaries into a single dictionary. If a key appears in more than one dictionary, sum up their values.\n",
    "Parameters: dicts (list): A list of dictionaries where keys might overlap.\n",
    "Returns: A single dictionary where values for overlapping keys are summed.\n",
    "Example:\n",
    "Input: [{'a': 1, 'b': 2}, {'b': 3, 'c': 4}, {'c': 5, 'd': 6}]\n",
    "Output: {'a': 1, 'b': 5, 'c': 9, 'd': 6}"
   ]
  },
  {
   "cell_type": "code",
   "execution_count": 197,
   "id": "f2d5d295-4ca9-4c55-913d-04c8b7802215",
   "metadata": {},
   "outputs": [
    {
     "data": {
      "text/plain": [
       "{'a': 6, 'b': 2, 'c': 3, 'd': 4, 'f': 6}"
      ]
     },
     "execution_count": 197,
     "metadata": {},
     "output_type": "execute_result"
    }
   ],
   "source": [
    "def merge_dicts_with_overlapping_keys(dicts):\n",
    "    # Your code goes here\n",
    "    merged_dict={}\n",
    "    for dic in dicts:\n",
    "        for key,value in dic.items():\n",
    "            if key in merged_dict:\n",
    "                merged_dict[key]+=dic[key]\n",
    "            else:\n",
    "                merged_dict[key]=dic[key]\n",
    "    return merged_dict\n",
    "\n",
    "a={'a': 1, 'b': 2} \n",
    "b={'c': 3, 'd': 4} \n",
    "c={'a': 5, 'f': 6}\n",
    "dicts=[a,b,c]\n",
    "merge_dicts_with_overlapping_keys(dicts)"
   ]
  },
  {
   "cell_type": "markdown",
   "id": "398b1ab5-d5ee-4366-bfb8-155d17f25af2",
   "metadata": {},
   "source": [
    "<h2><b>Question-14:</b></h2>\n",
    "You are given two lists of integers. Write a Python program that checks whether the first list is a subset of the second list using a brute-force approach, without using the in keyword. A list is considered a subset if all elements of the first list are present in the second list.\n",
    "Parameters: lst1 (List of integers): The first list, which is being checked as a subset. lst2 (List of integers): The second list, which is the list to compare against.\n",
    "Returns: A boolean value True if lst1 is a subset of lst2, otherwise False.\n",
    "Example:\n",
    "Input: lst1 = [1, 2, 3], lst2 = [1, 2, 3, 4, 5]\n",
    "Output: True"
   ]
  },
  {
   "cell_type": "code",
   "execution_count": 203,
   "id": "387d0f7b-da24-459c-8001-edb6734fbb44",
   "metadata": {},
   "outputs": [
    {
     "data": {
      "text/plain": [
       "True"
      ]
     },
     "execution_count": 203,
     "metadata": {},
     "output_type": "execute_result"
    }
   ],
   "source": [
    "def is_subset(lst1, lst2):\n",
    "    # Your code goes here\n",
    "    return set(lst1).issubset(set(lst2))\n",
    "\n",
    "lst1 = [1, 2, 3]\n",
    "lst2 = [1, 2, 3, 4, 5]\n",
    "is_subset(lst1,lst2)"
   ]
  }
 ],
 "metadata": {
  "kernelspec": {
   "display_name": "Python 3 (ipykernel)",
   "language": "python",
   "name": "python3"
  },
  "language_info": {
   "codemirror_mode": {
    "name": "ipython",
    "version": 3
   },
   "file_extension": ".py",
   "mimetype": "text/x-python",
   "name": "python",
   "nbconvert_exporter": "python",
   "pygments_lexer": "ipython3",
   "version": "3.12.7"
  }
 },
 "nbformat": 4,
 "nbformat_minor": 5
}
