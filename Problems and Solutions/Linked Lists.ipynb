{
 "cells": [
  {
   "cell_type": "code",
   "execution_count": 151,
   "id": "7fa94bb9-f373-4f87-98f4-2efa5d2a0730",
   "metadata": {},
   "outputs": [],
   "source": [
    "#Common Functions used across Linked Lists\n",
    "class Node:\n",
    "    def __init__(self,value):\n",
    "        self.data = value\n",
    "        self.next = None\n",
    "\n",
    "def print_LL(head):\n",
    "    temp = head\n",
    "    while(temp!=None):\n",
    "        print(temp.data,end=\"->\")\n",
    "        temp = temp.next\n",
    "\n",
    "    print()\n",
    "    return\n",
    "\n",
    "# return a head to a newly created LL\n",
    "def take_input():\n",
    "    value = int(input(\"Enter the value of Node :- \"))\n",
    "    head = None\n",
    "    \n",
    "    while(value != -1):\n",
    "        newNode = Node(value)\n",
    "        if(head == None):\n",
    "            head = newNode\n",
    "        else:\n",
    "            temp = head\n",
    "            while(temp.next!=None):\n",
    "                temp=temp.next\n",
    "            \n",
    "            temp.next = newNode\n",
    "        \n",
    "        value = int(input(\"Enter the value of Node :- \"))\n",
    "    \n",
    "    return head\n",
    "\n",
    "def take_input_better():\n",
    "    value = int(input(\"Enter the value of Node :- \"))\n",
    "    head = None\n",
    "    tail = None\n",
    "    \n",
    "    while(value != -1):\n",
    "        newNode = Node(value)\n",
    "        if(head == None):\n",
    "            head = newNode\n",
    "            tail = newNode\n",
    "        else:\n",
    "            tail.next = newNode\n",
    "            tail = newNode\n",
    "        \n",
    "        value = int(input(\"Enter the value of Node :- \"))\n",
    "    \n",
    "    return head\n",
    "\n",
    "def createLLFromList(l1):\n",
    "    # value = int(input(\"Enter the value of Node :- \"))\n",
    "    head = None\n",
    "    tail = None\n",
    "    for value in l1:\n",
    "        newNode = Node(value)\n",
    "        if(head == None):\n",
    "            head = newNode\n",
    "            tail = newNode\n",
    "        else:\n",
    "            tail.next = newNode\n",
    "            tail = newNode\n",
    "            \n",
    "    return head"
   ]
  },
  {
   "cell_type": "markdown",
   "id": "bbeb9386-98d7-4165-ac67-b4efd981bb49",
   "metadata": {},
   "source": [
    "<h2><b>Insert at Tail - Recursive</b></h2>\n",
    "Description: In this exercise, you'll implement the insert_at_tail_recursive function for a singly linked list. The Node structure is provided. Your task is to complete the insert_at_tail_recursive function.\n",
    "The insert_at_tail_recursive function should add a new node with the given data at the end of the linked list using a recursive approach. If the list is empty, the new node should become the head of the list.\n",
    "Parameters:\n",
    "head: The head of the linked list (can be None for an empty list)\n",
    "data: The data to be inserted at the tail\n",
    "Return:\n",
    "The head of the modified linked list\n",
    "Examples:\n",
    "If the list is empty and you insert 5, the list should become: 5 -> None\n",
    "If the list is 1 -> 2 and you insert 3, the list should become: 1 -> 2 -> 3 -> None"
   ]
  },
  {
   "cell_type": "code",
   "execution_count": 88,
   "id": "ccafa7b6-7a47-48c7-9611-926a76c16279",
   "metadata": {},
   "outputs": [
    {
     "name": "stdin",
     "output_type": "stream",
     "text": [
      "Enter the value of Node :-  10\n",
      "Enter the value of Node :-  20\n",
      "Enter the value of Node :-  30\n",
      "Enter the value of Node :-  40\n",
      "Enter the value of Node :-  100\n",
      "Enter the value of Node :-  -1\n"
     ]
    }
   ],
   "source": [
    "a=take_input_better()"
   ]
  },
  {
   "cell_type": "code",
   "execution_count": 58,
   "id": "4a2604e1-7d4e-41f9-8474-b80049f2f5b1",
   "metadata": {},
   "outputs": [
    {
     "name": "stdout",
     "output_type": "stream",
     "text": [
      "10->20->30->100->200->300->\n",
      "10->20->30->100->200->300->400->\n"
     ]
    }
   ],
   "source": [
    "class Node:\n",
    "    def __init__(self, data):\n",
    "        self.data = data\n",
    "        self.next = None\n",
    "\n",
    "def insert_at_tail_recursive(head, data):\n",
    "    # TODO: Implement this function\n",
    "    if head==None:\n",
    "        return Node(data)\n",
    "    head.next=insert_at_tail_recursive(head.next,data)    \n",
    "    return head\n",
    "\n",
    "print_LL(a)\n",
    "h=insert_at_tail_recursive(a,400)\n",
    "print_LL(a)"
   ]
  },
  {
   "cell_type": "markdown",
   "id": "e0caedc4-e27f-432e-b965-199dbde68af0",
   "metadata": {},
   "source": [
    "<h2><b>Insert at Index - Recursive</b></h2>\n",
    "Write a Program to enter a node in a linked list at any given index using recursion. We will just be getting the head of the linked list. Please make sure to handle all the cases and don't use iteration."
   ]
  },
  {
   "cell_type": "code",
   "execution_count": 70,
   "id": "240af9ca-0f8d-4860-8f39-113dc4c50121",
   "metadata": {},
   "outputs": [
    {
     "name": "stdout",
     "output_type": "stream",
     "text": [
      "10->20->30->100->150->200->300->400->\n",
      "10->20->30->100->150->200->250->300->400->\n"
     ]
    }
   ],
   "source": [
    "class Node:\n",
    "    def __init__(self, data):\n",
    "        self.data = data\n",
    "        self.next = None\n",
    "\n",
    "def insert_node(head, index, data):\n",
    "    if(index ==0):\n",
    "        newNode = Node(data)\n",
    "        newNode.next = head\n",
    "        head = newNode\n",
    "        return head\n",
    "    if(head == None):\n",
    "        print(\"Index is out of bounds\")\n",
    "        return head\n",
    "    \n",
    "    head.next = insert_node(head.next,index-1,data)\n",
    "    return head\n",
    "print_LL(a)\n",
    "(insert_node(a,6,250))\n",
    "print_LL(a)"
   ]
  },
  {
   "cell_type": "markdown",
   "id": "ea662483-0ad6-4ddd-9295-6939ea1d2f5c",
   "metadata": {},
   "source": [
    "<h2><b>Delete Tail Recursively - Recursive</b></h2>\n",
    "Description: Implement a function delete_tail_recursive that removes the last node of a singly linked list using a recursive approach. If the list is empty, the function should return None.\n",
    "Parameters:\n",
    "head: The head of the linked list (can be None for an empty list)\n",
    "Return:\n",
    "The head of the modified linked list (or None if the list becomes empty)\n",
    "Examples:\n",
    "If the list is 1 -> 2 -> 3 -> None, after deletion it should become: 1 -> 2 -> None"
   ]
  },
  {
   "cell_type": "code",
   "execution_count": 92,
   "id": "22ca9eff-5ccd-4291-9d0b-a89a767fe9a5",
   "metadata": {},
   "outputs": [
    {
     "name": "stdout",
     "output_type": "stream",
     "text": [
      "10->20->30->40->100->\n",
      "10->20->30->40->\n"
     ]
    }
   ],
   "source": [
    "class Node:\n",
    "    def __init__(self, data):\n",
    "        self.data = data\n",
    "        self.next = None\n",
    "\n",
    "def delete_tail_recursive(head):\n",
    "    # TODO: Implement this function\n",
    "    if head==None or head.next==None:\n",
    "        return None\n",
    "    if head.next.next == None:\n",
    "        head.next=None\n",
    "        return head\n",
    "    head.next=delete_tail_recursive(head.next)\n",
    "    return head\n",
    "\n",
    "print_LL(a)\n",
    "print_LL(delete_tail_recursive(a))"
   ]
  },
  {
   "cell_type": "markdown",
   "id": "83bfb831-b9a2-43cb-9570-50a7e71b86ce",
   "metadata": {},
   "source": [
    "<h2><b>Search a Node by Index</b></h2>\n",
    "Description: Implement a function search_by_index that returns the data of the node at a given index in a singly linked list. If the index is out of bounds (negative or exceeds the length of the list), the function should return None.\n",
    "Parameters:\n",
    "head: The head of the linked list (can be None for an empty list)\n",
    "index: The index of the node to search for (0-based)\n",
    "Return:\n",
    "The data of the node at the given index, or None if the index is out of bounds\n",
    "Examples:\n",
    "For the list 1 -> 2 -> 3 -> 4 -> None, search_by_index(head, 2) should return 3"
   ]
  },
  {
   "cell_type": "code",
   "execution_count": 110,
   "id": "ef33bf66-2328-4966-acc0-386f2addb8a5",
   "metadata": {},
   "outputs": [
    {
     "name": "stdout",
     "output_type": "stream",
     "text": [
      "10->20->30->40->\n",
      "20\n"
     ]
    }
   ],
   "source": [
    "class Node:\n",
    "    def __init__(self, data):\n",
    "        self.data = data\n",
    "        self.next = None\n",
    "\n",
    "def search_by_index(head, index):\n",
    "    # TODO: Implement this function\n",
    "    if head is None or index<0:\n",
    "        return None\n",
    "    if index==0:\n",
    "        return head.data\n",
    "    return search_by_index(head.next,index-1)\n",
    "\n",
    "print_LL(a)\n",
    "print(search_by_index(a,1))"
   ]
  },
  {
   "cell_type": "markdown",
   "id": "d4d7b4c3-669e-4977-a49a-2d991203997d",
   "metadata": {},
   "source": [
    "<m><h1><b>Linked List practice Questions</b></h1><h1></m>\n",
    "<h2><b>Question-1</b></h2>\n",
    "You are given the head of a singly linked list and an integer k. Your task is to find the index of the first node in the linked list whose value equals k. If no such node exists, return -1.\n",
    "The index starts at 0 for the head of the list.\n",
    "Input Parameters:\n",
    "head (ListNode): The head node of the singly linked list.\n",
    "k (int): The value you are looking for in the linked list.\n",
    "Output:\n",
    "An integer representing the index of the node where the node's value is equal to k. If no such node exists, return -1.\n",
    "Example:\n",
    "Input: head = [1 -> 2 -> 3 -> 4], k = 3\n",
    "Output: 2"
   ]
  },
  {
   "cell_type": "code",
   "execution_count": 153,
   "id": "27db6a11-0ade-4c0d-93a8-c975b7425c68",
   "metadata": {},
   "outputs": [
    {
     "name": "stdout",
     "output_type": "stream",
     "text": [
      "1->2->3->4->5->6->7->8->\n"
     ]
    },
    {
     "data": {
      "text/plain": [
       "5"
      ]
     },
     "execution_count": 153,
     "metadata": {},
     "output_type": "execute_result"
    }
   ],
   "source": [
    "# Definition for singly linked list node.\n",
    "class ListNode:\n",
    "    def __init__(self, data=0, next=None):\n",
    "        self.data = val\n",
    "        self.next = next\n",
    "\n",
    "def find_index(head, k):\n",
    "    \"\"\"\n",
    "    Function to find the index of a node in a linked list whose value equals k.\n",
    "    :param head: ListNode -> head of the singly linked list\n",
    "    :param k: int -> the target value\n",
    "    :return: int -> index of the node with value k, or -1 if not found\n",
    "    \"\"\"\n",
    "    # TODO: Implement this function\n",
    "    index = 0\n",
    "    while head is not None:\n",
    "        if head.data == k:\n",
    "            return index\n",
    "        head = head.next\n",
    "        index += 1\n",
    "    return -1\n",
    "a=createLLFromList([1,2,3,4,5,6,7,8])\n",
    "print_LL(a)\n",
    "find_index(a,6)"
   ]
  },
  {
   "cell_type": "markdown",
   "id": "4e5164ea-fdea-47af-bc9c-6f25d44d47bf",
   "metadata": {},
   "source": [
    "<h2><b>Question-2</b></h2>\n",
    "Given the head of a singly linked list, write a function to return the middle node of the linked list. If there are two middle nodes, return the second middle node.\n",
    "Input Parameters:\n",
    "head (ListNode): The head node of the singly linked list.\n",
    "Output:\n",
    "The middle node of the linked list.\n",
    "Example:\n",
    "Input: head = [1 -> 2 -> 3 -> 4 -> 5]\n",
    "Output: 3"
   ]
  },
  {
   "cell_type": "code",
   "execution_count": 157,
   "id": "caf09d11-66f1-4b4a-b03d-311a564073c5",
   "metadata": {},
   "outputs": [
    {
     "name": "stdout",
     "output_type": "stream",
     "text": [
      "3\n",
      "4\n"
     ]
    }
   ],
   "source": [
    "# Definition for singly linked list node.\n",
    "class ListNode:\n",
    "    def __init__(self, data=0, next=None):\n",
    "        self.data = data\n",
    "        self.next = next\n",
    "\n",
    "def find_middle(head):\n",
    "    \"\"\"\n",
    "    Function to find the middle node of a singly linked list.\n",
    "    :param head: ListNode -> head of the singly linked list\n",
    "    :return: ListNode -> the middle node of the linked list\n",
    "    \"\"\"\n",
    "    # TODO: Implement this function\n",
    "    if head is None or head.next is None:\n",
    "        return head\n",
    "    slow=head\n",
    "    fast=head\n",
    "    while fast!=None and fast.next!=None:\n",
    "        slow=slow.next\n",
    "        fast=fast.next.next\n",
    "    return slow.data\n",
    "a=createLLFromList([1,2,3,4,5])\n",
    "b=createLLFromList([1,2,3,4,5,6])\n",
    "print(find_middle(a))\n",
    "print(find_middle(b))"
   ]
  },
  {
   "cell_type": "markdown",
   "id": "d2d14b60-7df3-4115-83db-e907a3912a36",
   "metadata": {},
   "source": [
    "<h2><b>Question-3</b></h2>\n",
    "Given the head of a singly linked list and an integer val, write a function to remove all nodes from the linked list that have Node.val equal to val. Return the new head of the modified linked list.\n",
    "Input Parameters:\n",
    "head (ListNode): The head node of the singly linked list.\n",
    "val (int): The value to remove from the linked list.\n",
    "Output:\n",
    "The new head of the linked list after removing all nodes with the value val.\n",
    "Example:\n",
    "Input: head = [1 -> 2 -> 3 -> 4], val = 5\n",
    "Output: [1 -> 2 -> 3 -> 4]"
   ]
  },
  {
   "cell_type": "code",
   "execution_count": 161,
   "id": "0be0dcef-9f60-4451-be52-f0795ab7777a",
   "metadata": {},
   "outputs": [
    {
     "name": "stdout",
     "output_type": "stream",
     "text": [
      "6->2->3->1->5->3->2->1->\n",
      "2->3->1->5->3->2->1->\n"
     ]
    }
   ],
   "source": [
    "# Definition for singly linked list node.\n",
    "class ListNode:\n",
    "    def __init__(self, data=0, next=None):\n",
    "        self.data = data\n",
    "        self.next = next\n",
    "\n",
    "def remove_elements(head, val):\n",
    "    \"\"\"\n",
    "    Function to remove all nodes with value val from the linked list.\n",
    "    :param head: ListNode -> head of the singly linked list\n",
    "    :param val: int -> the value to be removed\n",
    "    :return: ListNode -> the head of the new linked list\n",
    "    \"\"\"\n",
    "    # TODO: Implement this function\n",
    "    if head is None:\n",
    "      return None\n",
    "    if head.next is None and head.data==val: #checking the beginning single element edge case\n",
    "      return None\n",
    "    temp=head\n",
    "    while temp is not None and temp.data==val: #checking the beginning edge case\n",
    "      temp=temp.next\n",
    "    head=temp\n",
    "\n",
    "    while temp is not None:\n",
    "      if temp.next is None: #checking the right edge case\n",
    "        if temp.data==val:\n",
    "          temp=None\n",
    "        return head\n",
    "      if temp.next.data==val:\n",
    "        temp.next=temp.next.next\n",
    "      else:\n",
    "        temp=temp.next\n",
    "    return head\n",
    "a=createLLFromList([6,2,3,1,5,6,3,2,1])\n",
    "h=remove_elements(a,6)\n",
    "print_LL(a)\n",
    "print_LL(h)"
   ]
  },
  {
   "cell_type": "markdown",
   "id": "75e3bcdf-ca52-4aa8-b400-a3d181b6caa4",
   "metadata": {},
   "source": [
    "<h2><b>Question-4</b></h2>\n",
    "Given the head of a sorted singly linked list, write a function to remove all duplicates such that each element appears only once. The linked list is sorted in non-decreasing order, so all duplicates will be adjacent. Return the linked list sorted as well.\n",
    "Input Parameters:\n",
    "head (ListNode): The head node of the sorted singly linked list.\n",
    "Output:\n",
    "The head node of the modified linked list with duplicates removed.\n",
    "Example:\n",
    "Input: head = [1 -> 1 -> 2 -> 3 -> 3]\n",
    "Output: [1 -> 2 -> 3]"
   ]
  },
  {
   "cell_type": "code",
   "execution_count": 167,
   "id": "94e9ff4b-7757-4253-a614-b92b083249bb",
   "metadata": {},
   "outputs": [
    {
     "name": "stdout",
     "output_type": "stream",
     "text": [
      "1->1->2->3->3->3->4->5->6->6->\n",
      "1->2->3->4->5->6->\n"
     ]
    }
   ],
   "source": [
    "# Definition for singly linked list node.\n",
    "class ListNode:\n",
    "    def __init__(self, data=0, next=None):\n",
    "        self.data = data\n",
    "        self.next = next\n",
    "\n",
    "def delete_duplicates(head):\n",
    "    \"\"\"\n",
    "    Function to remove duplicates from a sorted linked list.\n",
    "    :param head: ListNode -> head of the sorted singly linked list\n",
    "    :return: ListNode -> the head of the new linked list with duplicates removed\n",
    "    \"\"\"\n",
    "    # TODO: Implement this function\n",
    "    if head is None or head.next is None:\n",
    "      return head\n",
    "    temp=head\n",
    "    while temp is not None and temp.next is not None:\n",
    "      if temp.data==temp.next.data:\n",
    "        temp.next=temp.next.next\n",
    "      else:\n",
    "        temp=temp.next\n",
    "    return head\n",
    "a=createLLFromList([1,1,2,3,3,3,4,5,6,6])\n",
    "print_LL(a)\n",
    "h=delete_duplicates(a)\n",
    "print_LL(h)"
   ]
  },
  {
   "cell_type": "markdown",
   "id": "ec155712-a2ce-4632-a3f0-60b77bce1b39",
   "metadata": {},
   "source": [
    "<h2><b>Question-5</b></h2>\n",
    "Given the head of a singly linked list, write a function to reverse the list and return the new head of the reversed list.\n",
    "Input Parameters:\n",
    "head (ListNode): The head node of the singly linked list.\n",
    "Output:\n",
    "The head node of the reversed singly linked list.\n",
    "Example:\n",
    "Input: head = [1 -> 2 -> 3 -> 4 -> 5]\n",
    "Output: [5 -> 4 -> 3 -> 2 -> 1]"
   ]
  },
  {
   "cell_type": "code",
   "execution_count": 171,
   "id": "52c87c82-b33f-42d8-8d14-d66a8cdff599",
   "metadata": {},
   "outputs": [
    {
     "name": "stdout",
     "output_type": "stream",
     "text": [
      "1->2->3->4->5->6->\n",
      "6->5->4->3->2->1->\n"
     ]
    }
   ],
   "source": [
    "# Definition for singly linked list node.\n",
    "class ListNode:\n",
    "    def __init__(self, data=0, next=None):\n",
    "        self.data = data\n",
    "        self.next = next\n",
    "\n",
    "def reverse_list(head):\n",
    "    \"\"\"\n",
    "    Function to reverse a singly linked list.\n",
    "    :param head: ListNode -> head of the singly linked list\n",
    "    :return: ListNode -> the head of the reversed linked list\n",
    "    \"\"\"\n",
    "    # TODO: Implement this function\n",
    "    if head is None or head.next is None:\n",
    "      return head\n",
    "    previous=None\n",
    "    current=head\n",
    "    while current is not None:\n",
    "      next=current.next\n",
    "      current.next=previous\n",
    "      previous=current\n",
    "      current=next\n",
    "    return previous\n",
    "a=createLLFromList([1,2,3,4,5,6])\n",
    "print_LL(a)\n",
    "h=reverse_list(a)\n",
    "print_LL(h)"
   ]
  },
  {
   "cell_type": "markdown",
   "id": "acdd256e-5b82-4dcf-83c6-43cabf3c8534",
   "metadata": {},
   "source": [
    "<h2><b>Question-6</b></h2>\n",
    "Given the head of a singly linked list, write a function to determine if the linked list is a palindrome. A linked list is considered a palindrome if it reads the same backward as forward.\n",
    "Input Parameters:\n",
    "head (ListNode): The head node of the singly linked list.\n",
    "Output:\n",
    "bool: Return True if the linked list is a palindrome, otherwise return False.\n",
    "Example:\n",
    "Input: head = [1 -> 2 -> 2 -> 1]\n",
    "Output: True\n",
    " \n",
    "Input: head = [1 -> 2]\n",
    "Output: False"
   ]
  },
  {
   "cell_type": "code",
   "execution_count": 179,
   "id": "8a3655bd-62ce-498f-8fd5-b7c515ea8e73",
   "metadata": {},
   "outputs": [
    {
     "name": "stdout",
     "output_type": "stream",
     "text": [
      "1->2->3->2->1->\n",
      "True\n",
      "1->2->3->1->2->\n",
      "False\n"
     ]
    }
   ],
   "source": [
    "# Definition for singly linked list node.\n",
    "class ListNode:\n",
    "    def __init__(self, data=0, next=None):\n",
    "        self.data = data\n",
    "        self.next = next\n",
    "\n",
    "def is_palindrome(head):\n",
    "    \"\"\"\n",
    "    Function to check if a singly linked list is a palindrome.\n",
    "    :param head: ListNode -> head of the singly linked list\n",
    "    :return: bool -> True if the linked list is a palindrome, False otherwise\n",
    "    \"\"\"\n",
    "    # TODO: Implement this function\n",
    "    if head is None or head.next is None:\n",
    "      return True\n",
    "    def find_middle(head):\n",
    "\n",
    "    # TODO: Implement this function\n",
    "      if head is None or head.next is None:\n",
    "          return head\n",
    "      slow=head\n",
    "      fast=head\n",
    "      while fast!=None and fast.next!=None:\n",
    "          slow=slow.next\n",
    "          fast=fast.next.next\n",
    "      return slow\n",
    "\n",
    "    def reverse_list(head):\n",
    "\n",
    "    # TODO: Implement this function\n",
    "      if head is None or head.next is None:\n",
    "        return head\n",
    "      previous=None\n",
    "      current=head\n",
    "      while current is not None:\n",
    "        next=current.next\n",
    "        current.next=previous\n",
    "        previous=current\n",
    "        current=next\n",
    "      return previous\n",
    "\n",
    "    mid=find_middle(head)\n",
    "    rev_head=reverse_list(mid)\n",
    "\n",
    "    while rev_head is not None: #checking only reverse head as if length is even then this will be smaller\n",
    "      if head.data!=rev_head.data:\n",
    "        return False\n",
    "      head=head.next\n",
    "      rev_head=rev_head.next\n",
    "    return True\n",
    "a=createLLFromList([1,2,3,2,1])\n",
    "print_LL(a)\n",
    "print(is_palindrome(a))\n",
    "b=createLLFromList([1,2,3,1,2])\n",
    "print_LL(b)\n",
    "print(is_palindrome(b))"
   ]
  },
  {
   "cell_type": "markdown",
   "id": "c3526c29-b6db-48a6-9a63-2df9ce76176f",
   "metadata": {},
   "source": [
    "<h2><b>Question-7</b></h2>\n",
    "Given the head of a linked list, determine if the linked list has a cycle in it. A cycle in a linked list occurs if there is some node in the list that can be reached again by continuously following the next pointers.\n",
    "Input Parameters:\n",
    "head (ListNode): The head node of the linked list.\n",
    "Output:\n",
    "bool: True if there is a cycle in the linked list, False otherwise.\n",
    "Example:\n",
    "Input: head = [1] (No cycle)\n",
    "Output: False"
   ]
  },
  {
   "cell_type": "code",
   "execution_count": 183,
   "id": "f5a70e05-37c8-4ca6-85a3-8c7332f625f4",
   "metadata": {},
   "outputs": [
    {
     "data": {
      "text/plain": [
       "False"
      ]
     },
     "execution_count": 183,
     "metadata": {},
     "output_type": "execute_result"
    }
   ],
   "source": [
    "class ListNode:\n",
    "    def __init__(self, data=0, next=None):\n",
    "        self.data = data\n",
    "        self.next = next\n",
    "\n",
    "def has_cycle(head):\n",
    "    \"\"\"\n",
    "    Function to determine if the linked list has a cycle.\n",
    "    :param head: ListNode -> The head node of the linked list\n",
    "    :return: bool -> True if there is a cycle, False otherwise\n",
    "    \"\"\"\n",
    "    # TODO: Implement this function\n",
    "    if head is None or head.next is None:\n",
    "      return False\n",
    "    fast=head\n",
    "    slow=head\n",
    "    while fast is not None and fast.next is not None:\n",
    "      fast=fast.next.next\n",
    "      slow=slow.next\n",
    "      if fast==slow:\n",
    "        return True\n",
    "    return False\n",
    "has_cycle(a)"
   ]
  }
 ],
 "metadata": {
  "kernelspec": {
   "display_name": "Python 3 (ipykernel)",
   "language": "python",
   "name": "python3"
  },
  "language_info": {
   "codemirror_mode": {
    "name": "ipython",
    "version": 3
   },
   "file_extension": ".py",
   "mimetype": "text/x-python",
   "name": "python",
   "nbconvert_exporter": "python",
   "pygments_lexer": "ipython3",
   "version": "3.12.7"
  }
 },
 "nbformat": 4,
 "nbformat_minor": 5
}
