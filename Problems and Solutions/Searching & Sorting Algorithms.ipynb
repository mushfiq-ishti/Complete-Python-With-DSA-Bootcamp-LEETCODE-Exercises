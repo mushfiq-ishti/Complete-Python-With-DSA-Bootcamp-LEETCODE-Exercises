{
 "cells": [
  {
   "cell_type": "markdown",
   "id": "c09be157-6781-4517-8cf9-0acc0f83dbec",
   "metadata": {},
   "source": [
    "<h2><b>Linear Search</b></h2>\n",
    "A good website for visualization: https://pythontutor.com/visualize.html#mode=edit"
   ]
  },
  {
   "cell_type": "code",
   "execution_count": 5,
   "id": "e7406e37-ff35-4264-98f2-808579a3b60a",
   "metadata": {},
   "outputs": [
    {
     "data": {
      "text/plain": [
       "2"
      ]
     },
     "execution_count": 5,
     "metadata": {},
     "output_type": "execute_result"
    }
   ],
   "source": [
    "def linear_search(arr, target):\n",
    "    # TODO: Implement this function\n",
    "    if len(arr)==0:\n",
    "        return -1\n",
    "    for i,item in enumerate(arr):\n",
    "        if item==target:\n",
    "            return i\n",
    "    return -1\n",
    "linear_search([3, 7, 2, 5], 2)"
   ]
  },
  {
   "cell_type": "markdown",
   "id": "8dca32d4-e6a0-4b53-8fe6-e4ce5fdde087",
   "metadata": {},
   "source": [
    "<h2><b>Binary Search</b></h2>\n",
    "A good website for visualization: https://binary-search-visualization.netlify.app"
   ]
  },
  {
   "cell_type": "code",
   "execution_count": 13,
   "id": "851a97f1-4903-4b61-905e-dde543699dd7",
   "metadata": {},
   "outputs": [
    {
     "data": {
      "text/plain": [
       "6"
      ]
     },
     "execution_count": 13,
     "metadata": {},
     "output_type": "execute_result"
    }
   ],
   "source": [
    "def binary_search(arr,target):\n",
    "    size = len(arr)\n",
    "    start =0\n",
    "    end = size-1\n",
    "    while(start <= end):\n",
    "        mid = (start +end)//2\n",
    "\n",
    "        if(arr[mid]==target):\n",
    "            return mid # Found the Target\n",
    "        \n",
    "        elif ( arr[mid] > target):\n",
    "            end = mid -1\n",
    "        elif(arr[mid]< target):\n",
    "            start = mid+1\n",
    "        \n",
    "    return -1\n",
    "\n",
    "sorted_list = [10,23,35,45,50,70,85]\n",
    "target = 85\n",
    "binary_search(sorted_list,target)"
   ]
  },
  {
   "cell_type": "markdown",
   "id": "b03bd5a2-f3c7-4e49-a843-08c4496f6ce8",
   "metadata": {},
   "source": [
    "<h2><b>Bubble Sort</b></h2>\n",
    "Good Visualizer: https://www.hackerearth.com/practice/algorithms/sorting/bubble-sort/visualize/"
   ]
  },
  {
   "cell_type": "code",
   "execution_count": 32,
   "id": "d9bbe6e4-9e97-4908-b186-0e9f7addd4cc",
   "metadata": {},
   "outputs": [
    {
     "data": {
      "text/plain": [
       "[11, 12, 22, 25, 34, 64, 90]"
      ]
     },
     "execution_count": 32,
     "metadata": {},
     "output_type": "execute_result"
    }
   ],
   "source": [
    "def bubble_sort(lst):\n",
    "    # Your code goes here\n",
    "    if len(lst)==0:\n",
    "        return []\n",
    "    for j in range(len(lst)):\n",
    "        for i in range(len(lst)-1): #can use range(len(lst)-1-j) for more efficiency\n",
    "            if lst[i]>lst[i+1]:\n",
    "                temp=lst[i]\n",
    "                lst[i]=lst[i+1]\n",
    "                lst[i+1]=temp\n",
    "    return lst\n",
    "\n",
    "lst = [64, 34, 25, 12, 22, 11, 90]\n",
    "bubble_sort(lst)"
   ]
  },
  {
   "cell_type": "markdown",
   "id": "767c44c8-2fa7-4b0c-b650-fcd5bd227ae4",
   "metadata": {},
   "source": [
    "<h2><b>Selection Sort</b></h2>\n",
    "Good Visualizer: https://visualgo.net/en/sorting"
   ]
  },
  {
   "cell_type": "code",
   "execution_count": 94,
   "id": "6a0981c8-4513-4328-93b0-5b6361565607",
   "metadata": {},
   "outputs": [
    {
     "data": {
      "text/plain": [
       "[11, 12, 22, 25, 34, 64, 90]"
      ]
     },
     "execution_count": 94,
     "metadata": {},
     "output_type": "execute_result"
    }
   ],
   "source": [
    "def selection_sort(lst):\n",
    "    # Your code goes here\n",
    "    size=len(lst)\n",
    "    for i in range(size-1):\n",
    "        smallest_index=i #smallest index for current iteration\n",
    "        for j in range(i+1,size):\n",
    "            if lst[smallest_index]>lst[j]:\n",
    "                smallest_index=j  #finding smallest index in all elements to the right from current smallest index\n",
    "        lst[i],lst[smallest_index]=lst[smallest_index],lst[i]\n",
    "        \n",
    "    return lst\n",
    "\n",
    "lst = [64, 34, 25, 12, 22, 11, 90]\n",
    "selection_sort(lst)"
   ]
  },
  {
   "cell_type": "markdown",
   "id": "2accf4a8-89ba-4c42-9a6a-04d5e90d6509",
   "metadata": {},
   "source": [
    "<h2><b>Insertion Sort</b></h2>\n",
    "Good Visualizer: https://www.hackerearth.com/practice/algorithms/sorting/insertion-sort/visualize/"
   ]
  },
  {
   "cell_type": "code",
   "execution_count": 96,
   "id": "f3d28c60-6daa-402a-8ed6-795d1f22bc50",
   "metadata": {},
   "outputs": [
    {
     "data": {
      "text/plain": [
       "[11, 12, 22, 25, 34, 64, 90]"
      ]
     },
     "execution_count": 96,
     "metadata": {},
     "output_type": "execute_result"
    }
   ],
   "source": [
    "def insertion_sort(lst):\n",
    "    # Your code goes here\n",
    "    n=len(lst)\n",
    "    for i in range(1,n):\n",
    "        for j in range(i,0,-1):\n",
    "            if lst[j]<lst[j-1]:\n",
    "                lst[j],lst[j-1]=lst[j-1],lst[j] #keep on continuos swapping\n",
    "                continue\n",
    "            if lst[j]> lst[j-1]: #cuz all the items to the left will be smaller. So no need to comapre anymore\n",
    "                break\n",
    "    return lst\n",
    "\n",
    "lst = [64, 34, 25, 12, 22, 11, 90]\n",
    "insertion_sort(lst)"
   ]
  },
  {
   "cell_type": "markdown",
   "id": "bd5988d7-0e18-45c6-96a0-7143c037bcef",
   "metadata": {},
   "source": [
    "<h1><b>Binary Search Practice Questions</b></h1>"
   ]
  },
  {
   "cell_type": "markdown",
   "id": "f9f63c33-85f0-4618-b5b2-d95943b97fa2",
   "metadata": {},
   "source": [
    "<h2><b>Question-1:</b></h2>\n",
    "You are given an m x n matrix grid where each row and column is sorted in non-increasing order. Your task is to return the number of negative numbers present in the matrix.\n",
    "Parameters: grid (List[List[int]]): A 2D matrix with dimensions m x n, where each row and each column is sorted in non-increasing order.\n",
    "Return Values: Integer: The count of negative numbers in the matrix.\n",
    "Example:\n",
    "Input: grid = [[4, 3, 2, 1], [3, 2, 1, -1], [1, 1, -1, -2], [-1, -1, -2, -3]] \n",
    "Output: 7 "
   ]
  },
  {
   "cell_type": "code",
   "execution_count": 119,
   "id": "4f817a10-035f-408e-8f43-b8cfd10f4528",
   "metadata": {},
   "outputs": [
    {
     "data": {
      "text/plain": [
       "7"
      ]
     },
     "execution_count": 119,
     "metadata": {},
     "output_type": "execute_result"
    }
   ],
   "source": [
    "def countNegatives(grid):\n",
    "    # Implement your solution here\n",
    "    return sum([1 for sublist in grid for item in sublist if item<0])\n",
    "countNegatives([[4, 3, 2, 1], [3, 2, 1, -1], [1, 1, -1, -2], [-1, -1, -2, -3]])"
   ]
  },
  {
   "cell_type": "markdown",
   "id": "d9a078ca-4775-4883-b5b4-f9ad4572a9c0",
   "metadata": {},
   "source": [
    "<h2><b>Question-2:</b></h2>\n",
    "You are given a sorted array of characters letters, sorted in non-decreasing order, and a character target. There are at least two different characters in letters. Your task is to return the smallest character in letters that is lexicographically greater than target. If such a character does not exist, return the first character in letters.\n",
    "Input: letters: A sorted array of characters in non-decreasing order.\n",
    "target: A character to compare against.\n",
    "Output: Return the smallest character that is greater than target. If no such character exists, return the first character in letters.\n",
    "Example:\n",
    "Input:\n",
    "letters = ['c', 'f', 'j']\n",
    "target = 'k'\n",
    "Output: 'c'"
   ]
  },
  {
   "cell_type": "code",
   "execution_count": 138,
   "id": "50dfd6a3-07ab-4bf9-9b5b-372ca382428c",
   "metadata": {},
   "outputs": [
    {
     "data": {
      "text/plain": [
       "'c'"
      ]
     },
     "execution_count": 138,
     "metadata": {},
     "output_type": "execute_result"
    }
   ],
   "source": [
    "def next_greatest_letter(letters, target):\n",
    "    \"\"\"\n",
    "    Return the smallest character in letters that is lexicographically greater than target.\n",
    "\n",
    "    Parameters:\n",
    "    letters (List[char]): Sorted array of characters.\n",
    "    target (char): The target character.\n",
    "\n",
    "    Returns:\n",
    "    char: The smallest character greater than target, or the first character if no such character exists.\n",
    "    \"\"\"\n",
    "    # Implement the function logic\n",
    "    for i in letters:\n",
    "        if i > target:\n",
    "            return i\n",
    "    return letters[0]\n",
    "\n",
    "next_greatest_letter(['c', 'f', 'j'],'z')"
   ]
  },
  {
   "cell_type": "markdown",
   "id": "49e1c88b-1172-4789-bd7d-07a5f5eb89de",
   "metadata": {},
   "source": [
    "<h2><b>Question-3:</b></h2>\n",
    "Given an array of integers nums sorted in non-decreasing order, and an integer target, find the starting and ending position of the given target value. If target is not found in the array, return [-1, -1].\n",
    "Parameters: nums (List[int]): A list of integers sorted in non-decreasing order.\n",
    "target (int): The target value to search for.\n",
    "Return Values: List[int]: The starting and ending positions of the target value in the array. If the target is not found, return [-1, -1].\n",
    "Example:\n",
    "Input: nums = [5, 7, 7, 8, 8, 10], target = 8 \n",
    "Output: [3, 4] "
   ]
  },
  {
   "cell_type": "code",
   "execution_count": 22,
   "id": "4e8efafb-5a11-46a1-8fde-b5e8908a01b9",
   "metadata": {},
   "outputs": [
    {
     "data": {
      "text/plain": [
       "[3, 4, 4, 4]"
      ]
     },
     "execution_count": 22,
     "metadata": {},
     "output_type": "execute_result"
    }
   ],
   "source": [
    "def searchRange(nums, target):\n",
    "    # Implement your solution here\n",
    "    range_op=[]\n",
    "    for i in range(len(nums)):\n",
    "        if nums[i]==target:\n",
    "            starting_index=i\n",
    "            ending_index=i\n",
    "            for j in range(i+1,len(nums)):\n",
    "                if nums[j]==target:\n",
    "                    ending_index=j\n",
    "            range_op.append(starting_index)\n",
    "            range_op.append(ending_index)\n",
    "    return range_op\n",
    "\n",
    "nums = [5, 7, 7, 8, 8, 10]\n",
    "target = 8\n",
    "searchRange(nums,target)"
   ]
  },
  {
   "cell_type": "code",
   "execution_count": 21,
   "id": "ee0d0388-5390-41a2-8f9a-2a4c6520842c",
   "metadata": {},
   "outputs": [
    {
     "data": {
      "text/plain": [
       "[3, 4]"
      ]
     },
     "execution_count": 21,
     "metadata": {},
     "output_type": "execute_result"
    }
   ],
   "source": [
    "def searchRange(nums, target):\n",
    "    i=0\n",
    "    l=len(nums)\n",
    "    range_op=[]\n",
    "    if type(target)==int:\n",
    "        while i<l:\n",
    "            if nums[i]==target:\n",
    "                starting_index=i\n",
    "                ending_index=i\n",
    "                for j in range(i+1,l):\n",
    "                    if nums[j]==target:\n",
    "                        ending_index=j\n",
    "                range_op.append(starting_index)\n",
    "                range_op.append(ending_index)\n",
    "                i=ending_index+1\n",
    "                continue\n",
    "            i+=1\n",
    "        if len(range_op)>0:\n",
    "            return range_op\n",
    "        else:\n",
    "            return [-1,-1]\n",
    "    if type(target)==list:\n",
    "        while i<l:\n",
    "            if nums[i] in target:\n",
    "                starting_index=i\n",
    "                ending_index=i\n",
    "                for j in range(i+1,l):\n",
    "                    if nums[j] in target:\n",
    "                        ending_index=j\n",
    "                range_op.append(starting_index)\n",
    "                range_op.append(ending_index)\n",
    "                i=ending_index+1\n",
    "                continue\n",
    "            i+=1\n",
    "        if len(range_op)>0:\n",
    "            return range_op\n",
    "        else:\n",
    "            return [-1,-1]\n",
    "        \n",
    "nums = [5, 7, 7, 8, 8, 10]\n",
    "target = 8\n",
    "searchRange(nums,target)"
   ]
  },
  {
   "cell_type": "markdown",
   "id": "92560860-7dbd-472b-b9ee-7bd55c100de4",
   "metadata": {},
   "source": [
    "<h2><b>Question-4:</b></h2>\n",
    "Given a sorted array that has been rotated, find the minimum element in the array. The array was originally sorted in ascending order and then rotated at some pivot.\n",
    "Parameters: nums (List[int]): A list of integers sorted in ascending order but rotated at an unknown pivot.\n",
    "Return Values: int: The minimum element in the rotated sorted array.\n",
    "Example:\n",
    "Input: nums = [4, 5, 6, 7, 0, 1, 2] \n",
    "Output: 0\n",
    "\n",
    "https://leetcode.com/problems/find-minimum-in-rotated-sorted-array/description/"
   ]
  },
  {
   "cell_type": "markdown",
   "id": "ee5c0c22-a10b-4d0d-92cc-56d93f3e9068",
   "metadata": {},
   "source": [
    "<h2><b>Question-5:</b></h2>\n",
    "Given a sorted array that has been rotated, find the index of a given target value. The array was originally sorted in ascending order and then rotated at some pivot.\n",
    "Parameters: nums (List[int]): A list of integers sorted in ascending order but rotated at an unknown pivot. target (int): The integer value to search for in the array.\n",
    "Return Values: int: The index of the target value in the array, or -1 if the target is not in the array.\n",
    "Example:\n",
    "Input: nums = [4, 5, 6, 7, 0, 1, 2], target = 0 \n",
    "Output: 4 \n",
    "\n",
    "https://leetcode.com/problems/search-in-rotated-sorted-array/description/"
   ]
  }
 ],
 "metadata": {
  "kernelspec": {
   "display_name": "Python 3 (ipykernel)",
   "language": "python",
   "name": "python3"
  },
  "language_info": {
   "codemirror_mode": {
    "name": "ipython",
    "version": 3
   },
   "file_extension": ".py",
   "mimetype": "text/x-python",
   "name": "python",
   "nbconvert_exporter": "python",
   "pygments_lexer": "ipython3",
   "version": "3.12.7"
  }
 },
 "nbformat": 4,
 "nbformat_minor": 5
}
