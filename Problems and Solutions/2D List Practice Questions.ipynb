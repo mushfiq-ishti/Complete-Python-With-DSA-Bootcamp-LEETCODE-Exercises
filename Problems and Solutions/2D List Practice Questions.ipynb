{
 "cells": [
  {
   "cell_type": "markdown",
   "id": "34231634-7703-47e9-bbb7-9520aeb731d0",
   "metadata": {},
   "source": [
    "<h2><b>Question-1:</b></h2>\n",
    "Given an integer numRows, return the first numRows of Pascal's triangle. In Pascal's triangle, each number is the sum of the two numbers directly above it. The first row is row 0, which is [1].\n",
    "Input Parameters: numRows (int): The number of rows of Pascal's triangle to generate.\n",
    "Output: List[List[int]]: A list of lists where each list represents a row in Pascal's triangle.\n",
    "Example:\n",
    "Input: numRows = 3\n",
    "Output: [\n",
    "  [1],\n",
    "  [1, 1],\n",
    "  [1, 2, 1]\n",
    "]"
   ]
  },
  {
   "cell_type": "code",
   "execution_count": 74,
   "id": "2fcf4473-39d9-4ba1-9321-8dd8fdac3f1e",
   "metadata": {},
   "outputs": [
    {
     "data": {
      "text/plain": [
       "[[1], [1, 1]]"
      ]
     },
     "execution_count": 74,
     "metadata": {},
     "output_type": "execute_result"
    }
   ],
   "source": [
    "def generate(numRows):\n",
    "    \"\"\"\n",
    "    Function to generate the first numRows of Pascal's triangle.\n",
    "    :param numRows: int -> Number of rows of Pascal's triangle to generate\n",
    "    :return: List[List[int]] -> The first numRows of Pascal's triangle\n",
    "    \"\"\"\n",
    "    # TODO: Implement this function\n",
    "    import math\n",
    "    n_c_r=lambda n,r:math.factorial(n)/(math.factorial(n-r)*math.factorial(r))\n",
    "    return [[int(n_c_r(i,j)) for j in range(i+1)] for i in range(numRows) ]\n",
    "\n",
    "generate(2)"
   ]
  },
  {
   "cell_type": "markdown",
   "id": "447e46d0-23bf-4b47-a1bf-2672a19c2011",
   "metadata": {},
   "source": [
    "<h2><b>Question-2:</b></h2>\n",
    "Given an integer numRows, return the first numRows of Pascal's triangle. In Pascal's triangle, each number is the sum of the two numbers directly above it. The first row is row 0, which is [1].\n",
    "Input Parameters: numRows (int): The number of rows of Pascal's triangle to generate.\n",
    "Output: List[List[int]]: A list of lists where each list represents a row in Pascal's triangle.\n",
    "Example:\n",
    "Input: numRows = 3\n",
    "Output: [\n",
    "  [1],\n",
    "  [1, 1],\n",
    "  [1, 2, 1]\n",
    "]"
   ]
  },
  {
   "cell_type": "code",
   "execution_count": 116,
   "id": "8a770ae1-650c-4264-8368-3d2c605e0236",
   "metadata": {},
   "outputs": [
    {
     "data": {
      "text/plain": [
       "[[15, 13, 2, 5], [14, 3, 4, 2], [12, 6, 3, 13], [16, 12, 14, 15]]"
      ]
     },
     "execution_count": 116,
     "metadata": {},
     "output_type": "execute_result"
    }
   ],
   "source": [
    "def rotate(matrix):\n",
    "    \"\"\"\n",
    "    Function to rotate the matrix 90 degrees clockwise.\n",
    "    :param matrix: List[List[int]] -> 2D list representing the matrix\n",
    "    :return: None -> Modifies the matrix in-place\n",
    "    \"\"\"\n",
    "    # TODO: Implement this function\n",
    "    rows=len(matrix)\n",
    "    columns=len(matrix[0])\n",
    "    #return [[matrix[rows-j-1][i] for j in range(columns)] for i in range(rows)] #can't use this as we have to raotate in place\n",
    "    \n",
    "    for i in range(rows):\n",
    "        for j in range(columns):\n",
    "            matrix[i][j]=matrix[j][i]\n",
    "    for i in range(rows):\n",
    "        matrix[i].reverse()\n",
    "    return matrix\n",
    "    \n",
    "rotate([[5, 1, 9, 11],[2, 4, 8, 10],[13, 3, 6, 7],[15, 14, 12, 16]])"
   ]
  },
  {
   "cell_type": "markdown",
   "id": "180eec92-fe35-425a-a9cd-393dea43b047",
   "metadata": {},
   "source": [
    "<h2><b>Question-3:</b></h2>\n",
    "You are given two n x n binary matrices mat and target. Your task is to determine whether it is possible to make mat equal to target by rotating mat in 90-degree increments (clockwise). You can rotate mat by 90, 180, or 270 degrees, or leave it unchanged.\n",
    "Input Parameters: mat (List[List[int]]): A n x n binary matrix. target (List[List[int]]): A n x n binary matrix.\n",
    "Output: bool: Return True if mat can be made equal to target by rotating it, otherwise return False.\n",
    "Example:\n",
    "Input: mat = [[0, 0, 0], [0, 1, 0], [1, 1, 1]], target = [[1, 1, 1], [0, 1, 0], [0, 0, 0]]\n",
    "Output: True"
   ]
  },
  {
   "cell_type": "code",
   "execution_count": 126,
   "id": "eb2a8744-6736-4e0e-bda2-b532b06481ad",
   "metadata": {},
   "outputs": [
    {
     "data": {
      "text/plain": [
       "False"
      ]
     },
     "execution_count": 126,
     "metadata": {},
     "output_type": "execute_result"
    }
   ],
   "source": [
    "def can_be_rotated(mat, target):\n",
    "    \"\"\"\n",
    "    Function to check if mat can be rotated to match target.\n",
    "    :param mat: List[List[int]] -> The original matrix\n",
    "    :param target: List[List[int]] -> The target matrix\n",
    "    :return: bool -> True if mat can be rotated to match target, otherwise False\n",
    "    \"\"\"\n",
    "    # TODO: Implement this function\n",
    "    rows=len(mat)\n",
    "    columns=len(mat[0])\n",
    "    def rotate(matrix,rows,columns):\n",
    "        return [[matrix[rows-j-1][i] for j in range(columns)] for i in range(rows)]\n",
    "\n",
    "    if mat==target:\n",
    "        return True\n",
    "\n",
    "    for x in range(3):\n",
    "        mat=rotate(mat,rows,columns)\n",
    "        if mat==target:\n",
    "            return True\n",
    "    return False\n",
    "\n",
    "mat=[[0, 1], [1, 1]] \n",
    "target = [[1, 0], [0, 1]]\n",
    "can_be_rotated(mat, target)"
   ]
  },
  {
   "cell_type": "markdown",
   "id": "b4c77ad4-9b3a-44bd-8e1c-929da762ee83",
   "metadata": {},
   "source": [
    "<h2><b>Question-4:</b></h2>\n",
    "You are given an m x n matrix. Write a function that returns all the elements of the matrix in spiral order, starting from the top-left corner, moving right across the top row, then down the last column, then left across the bottom row, and then up the first column, repeating this process until all the elements have been visited.\n",
    "Input Parameters: matrix (List[List[int]]): A 2D list representing the matrix of size m x n.\n",
    "Output: List[int]: A list of integers representing the elements of the matrix in spiral order.\n",
    "Example:\n",
    "Input: matrix = [[1, 2, 3, 4],\n",
    "                 [5, 6, 7, 8],\n",
    "                 [9, 10, 11, 12]]\n",
    "Output: [1, 2, 3, 4, 8, 12, 11, 10, 9, 5, 6, 7]"
   ]
  },
  {
   "cell_type": "code",
   "execution_count": 155,
   "id": "88ba8420-285f-4007-98ee-444b9de53b05",
   "metadata": {},
   "outputs": [
    {
     "data": {
      "text/plain": [
       "[1, 2, 3, 6, 9, 8, 7, 4, 5]"
      ]
     },
     "execution_count": 155,
     "metadata": {},
     "output_type": "execute_result"
    }
   ],
   "source": [
    "def spiral_order(matrix):\n",
    "    \"\"\"\n",
    "    Function to return the elements of the matrix in spiral order.\n",
    "    :param matrix: List[List[int]] -> The input matrix\n",
    "    :return: List[int] -> The elements in spiral order\n",
    "    \"\"\"\n",
    "    # TODO: Implement this function\n",
    "    rows=len(matrix)\n",
    "    columns=len(matrix[0])\n",
    "    left=0\n",
    "    right=columns-1\n",
    "    top=0\n",
    "    bottom=rows-1\n",
    "    spairal_mat=[]\n",
    "    while (left<=right) and (top<=bottom):\n",
    "        for i in range(left,right):\n",
    "            spairal_mat.append(matrix[top][i])\n",
    "        for i in range(top,bottom):\n",
    "            spairal_mat.append(matrix[i][right])\n",
    "        for i in range(right,left,-1):\n",
    "            spairal_mat.append(matrix[bottom][i])\n",
    "        for i in range(bottom,top,-1):\n",
    "            spairal_mat.append(matrix[i][left])\n",
    "        top+=1\n",
    "        left+=1\n",
    "        right-=1\n",
    "        bottom-=1\n",
    "\n",
    "    if (rows==columns) and (rows%2!=0):\n",
    "        spairal_mat.append(matrix[rows//2][columns//2])\n",
    "    return spairal_mat\n",
    "\n",
    "spiral_order([[1,2,3],[4,5,6],[7,8,9]])"
   ]
  },
  {
   "cell_type": "markdown",
   "id": "6772dbda-a98b-4183-98c9-61aa75c508b5",
   "metadata": {},
   "source": [
    "<h2><b>Question-5:</b></h2>\n",
    "You are given an m x n integer matrix matrix with the following two properties:\n",
    "Each row is sorted in non-decreasing order.\n",
    "The first integer of each row is greater than the last integer of the previous row.\n",
    "Write a function that takes an integer target and returns True if target is in matrix, or False otherwise. You must solve this problem with a time complexity better than O(m * n).\n",
    "Input Parameters: matrix (List[List[int]]): A 2D list representing an m x n matrix. target (int): The target integer to search for in the matrix.\n",
    "Output: bool: Return True if the target is found, otherwise return False.\n",
    "Example: Input: matrix = [[1, 3, 5, 7], \n",
    "                 [10, 11, 16, 20], \n",
    "                 [23, 30, 34, 60]], target = 13\n",
    "Output: False"
   ]
  },
  {
   "cell_type": "code",
   "execution_count": 167,
   "id": "5487ac1a-2cf5-4370-be51-81cdbbff0f99",
   "metadata": {},
   "outputs": [
    {
     "data": {
      "text/plain": [
       "False"
      ]
     },
     "execution_count": 167,
     "metadata": {},
     "output_type": "execute_result"
    }
   ],
   "source": [
    "def search_matrix(matrix, target):\n",
    "    \"\"\"\n",
    "    Function to search for a target in the matrix.\n",
    "    :param matrix: List[List[int]] -> The input matrix\n",
    "    :param target: int -> The target value to search for\n",
    "    :return: bool -> True if target is found, False otherwise\n",
    "    \"\"\"\n",
    "    # TODO: Implement this function\n",
    "    rows=len(matrix)\n",
    "    columns=len(matrix[0])\n",
    "    for i in range(rows):\n",
    "        if matrix[i][columns-1]>=target: \n",
    "            break #i has the row index now\n",
    "    \n",
    "    return target in matrix[i]\n",
    "\n",
    "search_matrix([[1, 3, 5, 7], [10, 11, 16, 20], [23, 30, 34, 60]],13)"
   ]
  },
  {
   "cell_type": "markdown",
   "id": "ad748397-2b56-4744-bf45-24109a338a11",
   "metadata": {},
   "source": [
    "<h2><b>Question-6:</b></h2>\n",
    "In MATLAB, there is a handy function called reshape that reshapes a matrix of dimensions m x n into a new one with a different size r x c keeping its original data in row-traversing order.\n",
    "You are given an m x n matrix mat and two integers r and c representing the number of rows and columns of the wanted reshaped matrix. The reshaped matrix should be filled with all the elements of the original matrix in the same row-traversing order as they were.\n",
    "If the reshape operation with the given parameters is possible and legal, output the new reshaped matrix. Otherwise, output the original matrix.\n",
    "Input Parameters:\n",
    "mat (List[List[int]]): A 2D list representing an m x n matrix.\n",
    "r (int): The number of rows for the reshaped matrix.\n",
    "c (int): The number of columns for the reshaped matrix.\n",
    "Output: List[List[int]]: The reshaped matrix or the original matrix if reshaping isn't possible.\n",
    "Example:\n",
    "Input: mat = [[1, 2], [3, 4]], r = 1, c = 4\n",
    "Output: [[1, 2, 3, 4]]"
   ]
  },
  {
   "cell_type": "code",
   "execution_count": 191,
   "id": "940f6268-4b85-4bb4-858a-1b2e31fbf56b",
   "metadata": {},
   "outputs": [
    {
     "data": {
      "text/plain": [
       "[[1, 2], [3, 4], [5, 6], [7, 8]]"
      ]
     },
     "execution_count": 191,
     "metadata": {},
     "output_type": "execute_result"
    }
   ],
   "source": [
    "def matrix_reshape(mat, r, c):\n",
    "    \"\"\"\n",
    "    Function to reshape a matrix.\n",
    "    :param mat: List[List[int]] -> The original matrix\n",
    "    :param r: int -> Number of rows in reshaped matrix\n",
    "    :param c: int -> Number of columns in reshaped matrix\n",
    "    :return: List[List[int]] -> The reshaped matrix or original matrix if not possible\n",
    "    \"\"\"\n",
    "    # TODO: Implement this function\n",
    "    rows=len(mat)\n",
    "    columns=len(mat[0])\n",
    "    if rows*columns != r*c:\n",
    "        return mat\n",
    "    reshaped_mat=[]\n",
    "    flatten_mat=[item for sublist in mat for item in sublist]\n",
    "    start_i=0\n",
    "    end_i=start_i+c\n",
    "    for i in range(r):\n",
    "        curr_row=flatten_mat[start_i:end_i]\n",
    "        start_i=end_i\n",
    "        end_i=start_i+c\n",
    "        reshaped_mat.append(curr_row)\n",
    "    return reshaped_mat\n",
    "    \n",
    "matrix_reshape([[1,2,3,4], [5,6,7,8]],4,2)"
   ]
  }
 ],
 "metadata": {
  "kernelspec": {
   "display_name": "Python 3 (ipykernel)",
   "language": "python",
   "name": "python3"
  },
  "language_info": {
   "codemirror_mode": {
    "name": "ipython",
    "version": 3
   },
   "file_extension": ".py",
   "mimetype": "text/x-python",
   "name": "python",
   "nbconvert_exporter": "python",
   "pygments_lexer": "ipython3",
   "version": "3.12.7"
  }
 },
 "nbformat": 4,
 "nbformat_minor": 5
}
