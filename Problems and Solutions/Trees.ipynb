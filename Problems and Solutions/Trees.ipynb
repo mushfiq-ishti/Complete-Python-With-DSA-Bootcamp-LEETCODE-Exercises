{
 "cells": [
  {
   "cell_type": "markdown",
   "id": "b3bb5f9e-c885-470a-96f9-aeb17d80c919",
   "metadata": {},
   "source": [
    "<h1><b>Generic Trees Practice Questions</b></h1>\n",
    "<h2><b>Question-1</b></h2>\n",
    "You are given the root of an N-ary tree. Your task is to write a function to count the total number of nodes in the tree.\n",
    "An N-ary tree is a tree in which a node can have at most N children.\n",
    "Input Parameters:\n",
    "root (Node): The root node of the N-ary tree.\n",
    "Output:\n",
    "An integer representing the total number of nodes in the tree.\n",
    "Example:\n",
    "\n",
    "Input:\n",
    "      1\n",
    "    / | \\\n",
    "   2  3  4\n",
    "      |\n",
    "      5\n",
    " \n",
    "Output: 5"
   ]
  },
  {
   "cell_type": "code",
   "execution_count": 37,
   "id": "29b8182e-c3f6-4166-bf2a-9862f11c0b8e",
   "metadata": {},
   "outputs": [
    {
     "data": {
      "text/plain": [
       "4"
      ]
     },
     "execution_count": 37,
     "metadata": {},
     "output_type": "execute_result"
    }
   ],
   "source": [
    "# Definition for a Node in an N-ary tree.\n",
    "class Node:\n",
    "    def __init__(self, val=None, children=None):\n",
    "        self.val = val\n",
    "        self.children = children if children is not None else []\n",
    "\n",
    "def count_nodes(root):\n",
    "    \"\"\"\n",
    "    Function to count the number of nodes in an N-ary tree.\n",
    "    :param root: Node -> root of the N-ary tree\n",
    "    :return: int -> total number of nodes in the tree\n",
    "    \"\"\"\n",
    "    # TODO: Implement this function\n",
    "    if root is None:\n",
    "        return 0\n",
    "    no_Node=1\n",
    "    for eachChild in root.children:\n",
    "        no_Node=no_Node+count_nodes(eachChild)\n",
    "    return no_Node\n",
    "    \n",
    "count_nodes(root)"
   ]
  },
  {
   "cell_type": "markdown",
   "id": "9359d784-ada5-48bc-aa93-9985bf089bfc",
   "metadata": {},
   "source": [
    "<h2><b>Question-2</b></h2>\n",
    "Given the root of an N-ary tree, return the sum of all the nodes' values. An N-ary tree is a tree in which each node has at most N children.\n",
    "Input Parameters:\n",
    "root (Node): The root of the N-ary tree. Each node contains a value and a list of children nodes.\n",
    "Output:\n",
    "int: The sum of all node values in the N-ary tree.\n",
    "Example:\n",
    "Input: root = Node(1, [Node(3, [Node(5), Node(6)]), Node(2), Node(4)])\n",
    "Output: 21"
   ]
  },
  {
   "cell_type": "code",
   "execution_count": 47,
   "id": "ec8a8b7d-505e-4dfd-b054-94d2e407360a",
   "metadata": {},
   "outputs": [
    {
     "data": {
      "text/plain": [
       "10"
      ]
     },
     "execution_count": 47,
     "metadata": {},
     "output_type": "execute_result"
    }
   ],
   "source": [
    "class Node:\n",
    "    def __init__(self, val=None, children=None):\n",
    "        self.val = val\n",
    "        self.children = children if children is not None else []\n",
    "\n",
    "def sum_of_nodes(root):\n",
    "    \"\"\"\n",
    "    Function to find the sum of all nodes in an N-ary tree.\n",
    "    :param root: Node -> The root of the N-ary tree\n",
    "    :return: int -> The sum of all node values in the tree\n",
    "    \"\"\"\n",
    "    # TODO: Implement this function\n",
    "    if root is None:\n",
    "        return 0\n",
    "    sum=root.val\n",
    "    for eachChild in root.children:\n",
    "        sum+=sum_of_nodes(eachChild)\n",
    "    return sum\n",
    "sum_of_nodes(root)"
   ]
  },
  {
   "cell_type": "markdown",
   "id": "16164cb0-5d96-44b6-839b-172a0d20d979",
   "metadata": {},
   "source": [
    "<h2><b>Question-3</b></h2>\n",
    "Given the root of an N-ary tree, return a list of the largest value in each row of the tree. An N-ary tree is a tree where each node can have at most N children.\n",
    "Input:\n",
    "root: The root of the N-ary tree. Each node has a value and a list of children.\n",
    "Output:\n",
    "A list of integers where each integer represents the largest value found in that level of the tree.\n",
    "Example:\n",
    "root = Node(1, [\n",
    "    Node(3, [Node(5), Node(6)]),\n",
    "    Node(2),\n",
    "    Node(4)\n",
    "])\n",
    "Output : [1,4,6]"
   ]
  },
  {
   "cell_type": "code",
   "execution_count": 99,
   "id": "1c64280d-bbb7-4b8e-b842-f1bdd7886e79",
   "metadata": {},
   "outputs": [
    {
     "data": {
      "text/plain": [
       "[100, 300, 500]"
      ]
     },
     "execution_count": 99,
     "metadata": {},
     "output_type": "execute_result"
    }
   ],
   "source": [
    "from collections import deque\n",
    "\n",
    "def largest_values_in_rows(root):\n",
    "    \"\"\"\n",
    "    Find the largest value in each row of an N-ary tree.\n",
    "\n",
    "    Parameters:\n",
    "    root (Node): The root of the N-ary tree.\n",
    "\n",
    "    Returns:\n",
    "    List[int]: A list of integers where each integer is the largest value in that level of the tree.\n",
    "    \"\"\"\n",
    "    if root is None:\n",
    "        return []\n",
    "\n",
    "    queue = deque([root])\n",
    "    res = []\n",
    "\n",
    "    while len(queue)!=0:\n",
    "        level_size = len(queue)  # Number of nodes at current level\n",
    "        max_val = float('-inf')  # Initialize max for current level\n",
    "\n",
    "        for _ in range(level_size):\n",
    "            curr_node = queue.popleft()\n",
    "            max_val = max(max_val, curr_node.val)  # Update max value\n",
    "\n",
    "            # Add children of current node to queue for next level\n",
    "            for eachChild in curr_node.children:\n",
    "                queue.append(eachChild)\n",
    "\n",
    "        res.append(max_val)  # Append largest value of this level\n",
    "    \n",
    "    return res\n",
    "largest_values_in_rows(root3)"
   ]
  },
  {
   "cell_type": "markdown",
   "id": "852a6349-8338-4423-9f06-c74a9d557306",
   "metadata": {},
   "source": [
    "<h1><b>Binary Trees Practice Questions</b></h1>\n",
    "<h2><b>Question-1</b></h2>\n",
    "Given the root of a binary tree, return the Inorder traversal of its nodes' values. Inorder traversal of a binary tree means visiting the left subtree, the root node, and then the right subtree recursively. The task is to implement this without using any in-built functions like inorder_traversal from Python's libraries.\n",
    "Input Parameters:\n",
    "root (TreeNode): The root node of the binary tree.\n",
    "Output:\n",
    "A list of integers representing the inorder traversal of the tree.\n",
    "Example:\n",
    "Input:\n",
    "        1\n",
    "         \\\n",
    "          2\n",
    "         /\n",
    "        3\n",
    " Output: [1, 3, 2]"
   ]
  },
  {
   "cell_type": "code",
   "execution_count": 180,
   "id": "10c0a85c-a64e-4663-b67d-85b8e87ca7c6",
   "metadata": {},
   "outputs": [
    {
     "data": {
      "text/plain": [
       "[80, 40, 20, 50, 10, 60, 30, 70]"
      ]
     },
     "execution_count": 180,
     "metadata": {},
     "output_type": "execute_result"
    }
   ],
   "source": [
    "# Definition for a binary tree node.\n",
    "class TreeNode:\n",
    "    def __init__(self, data=0, left=None, right=None):\n",
    "        self.data = data\n",
    "        self.left = left\n",
    "        self.right = right\n",
    "\n",
    "def inorder_traversal(root):\n",
    "    \"\"\"\n",
    "    Function to perform inorder traversal of a binary tree.\n",
    "    :param root: TreeNode -> root of the binary tree\n",
    "    :return: List[int] -> list of nodes in inorder\n",
    "    \"\"\"\n",
    "    # TODO: Implement this function\n",
    "    def inorder_traversal_helper(root,res=[]):\n",
    "        if root is None:\n",
    "            return res\n",
    "        inorder_traversal_helper(root.left)\n",
    "        res.append(root.data)\n",
    "        inorder_traversal_helper(root.right)\n",
    "        return res\n",
    "    return inorder_traversal_helper(root)\n",
    "\n",
    "inorder_traversal(root2)"
   ]
  },
  {
   "cell_type": "markdown",
   "id": "d926b353-9d0e-4892-af62-cbc33a148aaf",
   "metadata": {},
   "source": [
    "<h2><b>Question-2</b></h2>\n",
    "Given the root of a binary tree, return the preorder traversal of its nodes' values. In preorder traversal, the nodes are visited in this order: root node first, then left subtree, and then right subtree.\n",
    "Input Parameters:\n",
    "root (TreeNode): The root node of the binary tree.\n",
    "Output:\n",
    "A list of integers representing the preorder traversal of the tree.\n",
    "Example: \n",
    "Input:\n",
    "        1\n",
    "         \\\n",
    "          2\n",
    "         /\n",
    "        3\n",
    " Output: [1, 2, 3]"
   ]
  },
  {
   "cell_type": "code",
   "execution_count": 188,
   "id": "401a16b0-ac14-4731-b96f-0c232763426f",
   "metadata": {},
   "outputs": [
    {
     "data": {
      "text/plain": [
       "[1, 2, 4, 5, 3, 6]"
      ]
     },
     "execution_count": 188,
     "metadata": {},
     "output_type": "execute_result"
    }
   ],
   "source": [
    "# Definition for a binary tree node.\n",
    "class TreeNode:\n",
    "    def __init__(self, data=0, left=None, right=None):\n",
    "        self.data = data\n",
    "        self.left = left\n",
    "        self.right = right\n",
    "\n",
    "def preorder_traversal(root):\n",
    "    \"\"\"\n",
    "    Function to perform preorder traversal of a binary tree.\n",
    "    :param root: TreeNode -> root of the binary tree\n",
    "    :return: List[int] -> list of nodes in preorder\n",
    "    \"\"\"\n",
    "    # TODO: Implement this function\n",
    "    def preorder_traversal_helper(root,res=[]):\n",
    "        if root is None:\n",
    "            return res\n",
    "        res.append(root.data)\n",
    "        preorder_traversal_helper(root.left)\n",
    "        preorder_traversal_helper(root.right)\n",
    "        return res\n",
    "    return preorder_traversal_helper(root)\n",
    "\n",
    "preorder_traversal(root1)"
   ]
  },
  {
   "cell_type": "markdown",
   "id": "2b2de5a8-1e14-4589-8391-b12ae28c1376",
   "metadata": {},
   "source": [
    "<h2><b>Question-3</b></h2>\n",
    "Given the root of a binary tree, return the postorder traversal of its nodes' values. In postorder traversal, the nodes are visited in this order: first the left subtree, then the right subtree, and finally the root node.\n",
    "Input Parameters:\n",
    "root (TreeNode): The root node of the binary tree.\n",
    "Output:\n",
    "A list of integers representing the postorder traversal of the tree.\n",
    "Example:\n",
    "Input:\n",
    "        1\n",
    "         \\\n",
    "          2\n",
    "         /\n",
    "        3\n",
    " Output: [3, 2, 1]"
   ]
  },
  {
   "cell_type": "code",
   "execution_count": 194,
   "id": "62f07d56-1eb7-47b6-ac8c-343f5f8d0f7b",
   "metadata": {},
   "outputs": [
    {
     "data": {
      "text/plain": [
       "[4, 5, 2, 6, 3, 1]"
      ]
     },
     "execution_count": 194,
     "metadata": {},
     "output_type": "execute_result"
    }
   ],
   "source": [
    "# Definition for a binary tree node.\n",
    "class TreeNode:\n",
    "    def __init__(self, data=0, left=None, right=None):\n",
    "        self.data = data\n",
    "        self.left = left\n",
    "        self.right = right\n",
    "\n",
    "def postorder_traversal(root):\n",
    "    \"\"\"\n",
    "    Function to perform postorder traversal of a binary tree.\n",
    "    :param root: TreeNode -> root of the binary tree\n",
    "    :return: List[int] -> list of nodes in postorder\n",
    "    \"\"\"\n",
    "    # TODO: Implement this function\n",
    "    def postorder_traversal_helper(root,res=[]):\n",
    "        if root is None:\n",
    "            return res\n",
    "        postorder_traversal_helper(root.left)\n",
    "        postorder_traversal_helper(root.right)\n",
    "        res.append(root.data)\n",
    "        return res\n",
    "    return postorder_traversal_helper(root)\n",
    "postorder_traversal(root1)"
   ]
  },
  {
   "cell_type": "markdown",
   "id": "b528ddeb-89d6-413c-922f-d0a18245958b",
   "metadata": {},
   "source": [
    "<h2><b>Question-4</b></h2>\n",
    "Given the root of a binary tree, return its maximum depth. The maximum depth is the number of nodes along the longest path from the root node down to the farthest leaf node.\n",
    "Input Parameters:\n",
    "root (TreeNode): The root node of the binary tree.\n",
    "Output:\n",
    "An integer representing the maximum depth of the binary tree.\n",
    "Example:\n",
    "Input:\n",
    "        3\n",
    "       / \\\n",
    "      9   20\n",
    "         /  \\\n",
    "        15   7\n",
    " \n",
    "Output: 3"
   ]
  },
  {
   "cell_type": "code",
   "execution_count": 204,
   "id": "6ea99d34-b4cc-4a5d-b040-ea56a6ba6e19",
   "metadata": {},
   "outputs": [
    {
     "data": {
      "text/plain": [
       "4"
      ]
     },
     "execution_count": 204,
     "metadata": {},
     "output_type": "execute_result"
    }
   ],
   "source": [
    "# Definition for a binary tree node.\n",
    "class TreeNode:\n",
    "    def __init__(self, data=0, left=None, right=None):\n",
    "        self.data = data\n",
    "        self.left = left\n",
    "        self.right = right\n",
    "\n",
    "def max_depth(root):\n",
    "    \"\"\"\n",
    "    Function to compute the maximum depth of a binary tree.\n",
    "    :param root: TreeNode -> root of the binary tree\n",
    "    :return: int -> maximum depth of the tree\n",
    "    \"\"\"\n",
    "    # TODO: Implement this function\n",
    "    if(root is None):\n",
    "        return 0\n",
    "    \n",
    "    left_depth = max_depth(root.left)\n",
    "    right_depth = max_depth(root.right)\n",
    "\n",
    "    depthOfTree = 1 + max(left_depth,right_depth)\n",
    "\n",
    "    return depthOfTree\n",
    "max_depth(root2)"
   ]
  },
  {
   "cell_type": "markdown",
   "id": "73b428b6-7a1a-459b-b04b-8a2ebaeac15c",
   "metadata": {},
   "source": [
    "<h2><b>Question-5</b></h2>\n",
    "Given the root of a binary tree, determine if it is height-balanced. A binary tree is considered height-balanced if, for every node in the tree, the height difference between the left and right subtrees is at most 1.\n",
    "Input Parameters:\n",
    "root (TreeNode): The root node of the binary tree.\n",
    "Output:\n",
    "A boolean value (True or False) indicating whether the tree is height-balanced.\n",
    "Example:\n",
    "Input:\n",
    "        3\n",
    "       / \\\n",
    "      9   20\n",
    "         /  \\\n",
    "        15   7\n",
    " \n",
    "Output: True\n",
    " Input:\n",
    "        1\n",
    "       /\n",
    "      2\n",
    "     /\n",
    "    3\n",
    " \n",
    "Output: False"
   ]
  },
  {
   "cell_type": "code",
   "execution_count": 11,
   "id": "bf0d1403-c1b8-411b-ae9a-553591e0e8b3",
   "metadata": {},
   "outputs": [
    {
     "data": {
      "text/plain": [
       "True"
      ]
     },
     "execution_count": 11,
     "metadata": {},
     "output_type": "execute_result"
    }
   ],
   "source": [
    "# Definition for a binary tree node.\n",
    "class TreeNode:\n",
    "    def __init__(self, val=0, left=None, right=None):\n",
    "        self.val = val\n",
    "        self.left = left\n",
    "        self.right = right\n",
    "\n",
    "def is_balanced(root):    \n",
    "    def is_balanced_helper(root):\n",
    "        \"\"\"\n",
    "        Function to check if a binary tree is height-balanced.\n",
    "        :param root: TreeNode -> root of the binary tree\n",
    "        :return: bool -> True if the tree is balanced, False otherwise\n",
    "        \"\"\"\n",
    "        # TODO: Implement this function\n",
    "        if root is None:\n",
    "            return True,0 #isbalanced,height\n",
    "        left_balanced,left_height=is_balanced_helper(root.left)\n",
    "        right_balanced,right_height=is_balanced_helper(root.right)\n",
    "        current_balanced=left_balanced and right_balanced and abs(left_height-right_height)<=1\n",
    "        current_height=1+max(left_height,right_height)\n",
    "        return current_balanced,current_height\n",
    "    boolean,height=is_balanced_helper(root)\n",
    "    return boolean\n",
    "\n",
    "is_balanced(root3)"
   ]
  },
  {
   "cell_type": "markdown",
   "id": "e5e945bd-1236-4af3-bd4f-2607dc5f7f84",
   "metadata": {},
   "source": [
    "<h2><b>Question-6</b></h2>\n",
    "Given the roots of two binary trees p and q, write a function to check if they are the same or not. Two binary trees are considered the same if they are structurally identical, and the nodes have the same value.\n",
    "Input Parameters:\n",
    "p (TreeNode): The root node of the first binary tree.\n",
    "q (TreeNode): The root node of the second binary tree.\n",
    "Output:\n",
    "A boolean value (True or False) indicating whether the two trees are the same.\n",
    "Example:\n",
    "Input:\n",
    "    Tree 1:\n",
    "        1\n",
    "       / \\\n",
    "      2   3\n",
    " \n",
    "    Tree 2:\n",
    "        1\n",
    "       / \\\n",
    "      2   3\n",
    " Output: True"
   ]
  },
  {
   "cell_type": "code",
   "execution_count": 22,
   "id": "3aa4b146-7009-4d42-af97-2c221b45cad8",
   "metadata": {},
   "outputs": [
    {
     "data": {
      "text/plain": [
       "False"
      ]
     },
     "execution_count": 22,
     "metadata": {},
     "output_type": "execute_result"
    }
   ],
   "source": [
    "# Definition for a binary tree node.\n",
    "class TreeNode:\n",
    "    def __init__(self, dbata=0, left=None, right=None):\n",
    "        self.data = data\n",
    "        self.left = left\n",
    "        self.right = right\n",
    "\n",
    "def is_same_tree(p, q):\n",
    "    \"\"\"\n",
    "    Function to check if two binary trees are the same.\n",
    "    :param p: TreeNode -> root of the first tree\n",
    "    :param q: TreeNode -> root of the second tree\n",
    "    :return: bool -> True if both trees are the same, False otherwise\n",
    "    \"\"\"\n",
    "    # TODO: Implement this function\n",
    "    def inorder_traversal(root):\n",
    "    \n",
    "    # TODO: Implement this function\n",
    "        def inorder_traversal_helper(root,res=[]):\n",
    "            if root is None:\n",
    "                return res\n",
    "            inorder_traversal_helper(root.left)\n",
    "            res.append(root.data)\n",
    "            inorder_traversal_helper(root.right)\n",
    "            return res\n",
    "        return inorder_traversal_helper(root)\n",
    "\n",
    "    def preorder_traversal(root):\n",
    "    \n",
    "    # TODO: Implement this function\n",
    "        def preorder_traversal_helper(root,res=[]):\n",
    "            if root is None:\n",
    "                return res\n",
    "            res.append(root.data)\n",
    "            preorder_traversal_helper(root.left)\n",
    "            preorder_traversal_helper(root.right)\n",
    "            return res\n",
    "        return preorder_traversal_helper(root)\n",
    "\n",
    "    p_inorder=inorder_traversal(p)\n",
    "    p_preoder=preorder_traversal(p)\n",
    "    q_inorder=inorder_traversal(q)\n",
    "    q_preorder=preorder_traversal(q)\n",
    "\n",
    "    return p_inorder==q_inorder and q_preorder == q_preorder\n",
    "\n",
    "is_same_tree(root1,root2)"
   ]
  },
  {
   "cell_type": "markdown",
   "id": "9d2097be-c954-4ed0-94f0-1fde57ebcbe1",
   "metadata": {},
   "source": [
    "<h2><b>Question-7</b></h2>\n",
    "Given the root of a binary tree, return the sum of all left leaves. A leaf is defined as a node with no children. A left leaf is a leaf that is the left child of another node.\n",
    "Input Parameters:\n",
    "root (TreeNode): The root of the binary tree.\n",
    "Output:\n",
    "int: The sum of all left leaves in the binary tree.\n",
    "Example:\n",
    "Input: root = [1, 2, 3, 4, null, null, 5]\n",
    "Output: 4\n",
    "     1\n",
    "    / \\\n",
    "   2   3\n",
    "  /     \\\n",
    " 4       5\n",
    " \n",
    " Input: root = [3, 9, 20, null, null, 15, 7]\n",
    "Output: 24\n",
    "     3\n",
    "    / \\\n",
    "   9  20\n",
    "      / \\\n",
    "     15  7"
   ]
  },
  {
   "cell_type": "code",
   "execution_count": 42,
   "id": "a999d052-fb0a-45b0-b8dd-c95d4703df6e",
   "metadata": {},
   "outputs": [
    {
     "data": {
      "text/plain": [
       "140"
      ]
     },
     "execution_count": 42,
     "metadata": {},
     "output_type": "execute_result"
    }
   ],
   "source": [
    "class TreeNode:\n",
    "    def __init__(self, data=0, left=None, right=None):\n",
    "        self.data = data\n",
    "        self.left = left\n",
    "        self.right = right\n",
    "\n",
    "def sum_of_left_leaves(root):\n",
    "    \"\"\"\n",
    "    Function to find the sum of all left leaves in a binary tree.\n",
    "    :param root: TreeNode -> The root of the binary tree\n",
    "    :return: int -> The sum of all left leaves\n",
    "    \"\"\"\n",
    "\n",
    "    def sum_of_left_leaves_helper(root):  # No res parameter here\n",
    "        if root is None:\n",
    "            return 0\n",
    "\n",
    "        left_sum = sum_of_left_leaves_helper(root.left)  # Get sum from left subtree\n",
    "        right_sum = sum_of_left_leaves_helper(root.right) # Get sum from right subtree\n",
    "\n",
    "        if root.left and root.left.left is None and root.left.right is None:\n",
    "            return root.left.data + left_sum + right_sum  # Add left leaf and sums from subtrees\n",
    "        else:\n",
    "            return left_sum + right_sum  # Just return sums from subtrees\n",
    "\n",
    "    return sum_of_left_leaves_helper(root)\n",
    "\n",
    "sum_of_left_leaves(root2)"
   ]
  },
  {
   "cell_type": "markdown",
   "id": "1fcee6cd-5641-45d1-a658-3cc9a45d73ca",
   "metadata": {},
   "source": [
    "<h2><b>Question-8</b></h2>\n",
    "Given the root of a binary tree, imagine yourself standing on the right side of it. Return the values of the nodes you can see ordered from top to bottom.\n",
    "Parameters:\n",
    "root (TreeNode): The root node of the binary tree.\n",
    "Return Values:\n",
    "List[int]: A list of integers representing the values of nodes visible from the right side of the tree.\n",
    "Example:\n",
    "Input:\n",
    "    1\n",
    "   / \\\n",
    "  2   3\n",
    "   \\\n",
    "    5\n",
    "     \\\n",
    "      4\n",
    "Output: [1, 3, 5, 4] \n",
    "Explanation: The right side view of the tree includes the nodes 1, 3, 5, and 4."
   ]
  },
  {
   "cell_type": "code",
   "execution_count": 54,
   "id": "df33e633-3762-45f9-a449-61be39b0f541",
   "metadata": {},
   "outputs": [
    {
     "data": {
      "text/plain": [
       "[10, 30, 70, 80]"
      ]
     },
     "execution_count": 54,
     "metadata": {},
     "output_type": "execute_result"
    }
   ],
   "source": [
    "class TreeNode:\n",
    "    def __init__(self, data=0, left=None, right=None):\n",
    "        self.data = data\n",
    "        self.left = left\n",
    "        self.right = right\n",
    "\n",
    "def rightSideView(root: TreeNode):\n",
    "    # Implement your solution here\n",
    "    from collections import deque\n",
    "    result = []\n",
    "    \n",
    "    if root is None:\n",
    "        return result\n",
    "\n",
    "    # Queue for level order traversal\n",
    "    q = deque([root])\n",
    "\n",
    "    while q:\n",
    "      \n",
    "        # Number of nodes at the current level\n",
    "        level_size = len(q)\n",
    "\n",
    "        for i in range(level_size):\n",
    "            curr = q.popleft()\n",
    "\n",
    "            # If it's the last node of the \n",
    "            # current level\n",
    "            if i == level_size - 1:\n",
    "                result.append(curr.data)\n",
    "\n",
    "            # Enqueue left child\n",
    "            if curr.left is not None:\n",
    "                q.append(curr.left)\n",
    "\n",
    "            # Enqueue right child\n",
    "            if curr.right is not None:\n",
    "                q.append(curr.right)\n",
    "\n",
    "    return result\n",
    "rightSideView(root2)"
   ]
  },
  {
   "cell_type": "markdown",
   "id": "6a5e2deb-d5e3-420b-b627-ffe023e4064c",
   "metadata": {},
   "source": [
    "<h1><b>Binary Search Tree Practice Questions</b></h1>\n",
    "<h2><b>Question-1</b></h2>\n",
    "You are given the root of a binary search tree (BST) and an integer val. Your task is to find the node in the BST whose value equals val and return the subtree rooted with that node. If such a node does not exist, return null.\n",
    "A binary search tree (BST) is a binary tree in which for every node, all elements in the left subtree are smaller, and all elements in the right subtree are larger than the node's value.\n",
    "Input Parameters:\n",
    "root (TreeNode): The root node of the binary search tree.\n",
    "val (int): The value to search for in the tree.\n",
    "Output:\n",
    "The node whose value matches val, or None if the node does not exist in the tree.\n",
    "Example:\n",
    "Input:\n",
    "        4\n",
    "       / \\\n",
    "      2   7\n",
    "     / \\\n",
    "    1   3\n",
    "val = 2\n",
    " Output:\n",
    "      2\n",
    "     / \\\n",
    "    1   3\n",
    " \n",
    " Input: \n",
    "        4\n",
    "       / \\\n",
    "      2   7\n",
    "     / \\\n",
    "    1   3\n",
    "val = 5 \n",
    "Output: None"
   ]
  },
  {
   "cell_type": "code",
   "execution_count": 94,
   "id": "0b8b7de8-85b4-4b5d-9ba4-d01666e15546",
   "metadata": {},
   "outputs": [
    {
     "name": "stdout",
     "output_type": "stream",
     "text": [
      "60: L->50, R->70\n",
      "50: L->None, R->55\n",
      "55: L->None, R->None\n",
      "70: L->65, R->75\n",
      "65: L->None, R->None\n",
      "75: L->None, R->None\n"
     ]
    }
   ],
   "source": [
    "# Definition for a binary tree node.\n",
    "class TreeNode:\n",
    "    def __init__(self, val=0, left=None, right=None):\n",
    "        self.val = val\n",
    "        self.left = left\n",
    "        self.right = right\n",
    "\n",
    "def search_bst(root, val):\n",
    "    \"\"\"\n",
    "    Function to search for a node in a Binary Search Tree (BST) whose value equals val.\n",
    "    :param root: TreeNode -> root of the binary search tree\n",
    "    :param val: int -> the value to search for\n",
    "    :return: TreeNode -> the node whose value equals val, or None if it doesn't exist\n",
    "    \"\"\"\n",
    "    # TODO: Implement this function\n",
    "    if root is None:\n",
    "        return None\n",
    "    if root.val == val:\n",
    "        return root\n",
    "    if val<root.val:\n",
    "        ans=search_bst(root.left,val)\n",
    "    if val>root.val:\n",
    "        ans=search_bst(root.right,val)\n",
    "    return ans\n",
    "        \n",
    "x=(search_bst(root3,60))\n",
    "print_binary_tree(x)"
   ]
  },
  {
   "cell_type": "markdown",
   "id": "b8ae646b-4034-4de6-baa1-846d140ceaaf",
   "metadata": {},
   "source": [
    "<h2><b>Question-2</b></h2>\n",
    "You are given a binary search tree (BST) with N nodes and an integer KEY representing the data of a node in this BST. Your task is to find and return the predecessor and successor of the node with the given KEY.\n",
    "Predecessor: The node that would be visited immediately before the node with KEY in an inorder traversal of the BST. If the given node is the first node in the inorder traversal, the predecessor should be NULL.\n",
    "Successor: The node that would be visited immediately after the node with KEY in an inorder traversal of the BST. If the given node is the last node in the inorder traversal, the successor should be NULL.\n",
    "Input Parameters:\n",
    "root (TreeNode): The root of the binary search tree.\n",
    "KEY (int): The data value of the node for which to find the predecessor and successor.\n",
    "Output:\n",
    "A tuple (predecessor, successor), where both predecessor and successor are integers. If the predecessor or successor does not exist, return None for that value.\n",
    "Example:\n",
    "Input:\n",
    "      20\n",
    "     /  \\\n",
    "    10   30\n",
    "   / \\    \\\n",
    "  5  15   35\n",
    "KEY = 35\n",
    "Output: (30, None)\n",
    "Explanation: In the inorder traversal [5, 10, 15, 20, 30, 35], the predecessor of 35 is 30 and there is no successor."
   ]
  },
  {
   "cell_type": "code",
   "execution_count": 90,
   "id": "ea57b88d-de94-4a0f-9c3b-adbf860b0d29",
   "metadata": {},
   "outputs": [
    {
     "data": {
      "text/plain": [
       "(None, 10)"
      ]
     },
     "execution_count": 90,
     "metadata": {},
     "output_type": "execute_result"
    }
   ],
   "source": [
    "class TreeNode:\n",
    "    def __init__(self, val=0, left=None, right=None):\n",
    "        self.val = val\n",
    "        self.left = left\n",
    "        self.right = right\n",
    "\n",
    "def find_predecessor_successor(root, key):\n",
    "   \n",
    "    # TODO: Implement the logic to find the predecessor and successor\n",
    "    def inorder_traversal(root):\n",
    "    # TODO: Implement this function\n",
    "        def inorder_traversal_helper(root,res=[]):\n",
    "            if root is None:\n",
    "                return res\n",
    "            inorder_traversal_helper(root.left)\n",
    "            res.append(root.val)\n",
    "            inorder_traversal_helper(root.right)\n",
    "            return res\n",
    "        return inorder_traversal_helper(root)\n",
    "\n",
    "    if root is None:\n",
    "        return None,None\n",
    "    inorderArray=inorder_traversal(root)\n",
    "    if inorderArray[-1]==key:\n",
    "        return inorderArray[-2],None\n",
    "    elif inorderArray[0]==key:\n",
    "        return None,inorderArray[1]\n",
    "    elif key in inorderArray:\n",
    "        i=inorderArray.index(key)\n",
    "        return inorderArray[i-1],inorderArray[i+1]\n",
    "    else:\n",
    "        return None,None\n",
    "\n",
    "find_predecessor_successor(root3,5)"
   ]
  },
  {
   "cell_type": "markdown",
   "id": "5a528c77-54ac-428d-9c79-491ec36a4ce6",
   "metadata": {},
   "source": [
    "<h2><b>Question-3</b></h2>\n",
    "You are given the root of a binary search tree (BST), where the values of exactly two nodes of the tree were swapped by mistake. Your task is to recover the BST by swapping the values of these two nodes back to their correct positions. The structure of the tree should remain unchanged.\n",
    "Input Parameters:\n",
    "root (TreeNode): The root of the binary search tree.\n",
    "Output:\n",
    "The root of the corrected binary search tree.\n",
    "Example:\n",
    "Input:\n",
    "      3\n",
    "     / \\\n",
    "    1   4\n",
    "       /\n",
    "      2\n",
    " Output:\n",
    "      2\n",
    "     / \\\n",
    "    1   4\n",
    "       /\n",
    "      3\n",
    " \n",
    "Explanation: The original tree has 2 and 3 swapped. The corrected tree is a valid BST."
   ]
  },
  {
   "cell_type": "code",
   "execution_count": 184,
   "id": "16acafaf-7513-427d-9d4d-c99d5c08828d",
   "metadata": {},
   "outputs": [
    {
     "name": "stdout",
     "output_type": "stream",
     "text": [
      "20: L->10, R->30\n",
      "10: L->5, R->15\n",
      "5: L->None, R->None\n",
      "15: L->None, R->None\n",
      "30: L->25, R->35\n",
      "25: L->None, R->None\n",
      "35: L->None, R->None\n"
     ]
    }
   ],
   "source": [
    "class TreeNode:\n",
    "    def __init__(self, val=0, left=None, right=None):\n",
    "        self.val = val\n",
    "        self.left = left\n",
    "        self.right = right\n",
    "\n",
    "def recover_tree(root):\n",
    "    \"\"\"\n",
    "    Function to recover a BST where two nodes were swapped by mistake.\n",
    "    \n",
    "    :param root: TreeNode -> The root of the binary search tree\n",
    "    :return: TreeNode -> The root of the corrected binary search tree\n",
    "    \"\"\"\n",
    "    # TODO: Implement the logic to recover the BST\n",
    "    if root is None:\n",
    "        return\n",
    "    def inorder_traversal(root):\n",
    "\n",
    "        def inorder_traversal_helper(root,res=[]):\n",
    "            if root is None:\n",
    "                return res\n",
    "            inorder_traversal_helper(root.left)\n",
    "            res.append(root.val)\n",
    "            inorder_traversal_helper(root.right)\n",
    "            return res\n",
    "        return inorder_traversal_helper(root)\n",
    "\n",
    "    #main_swapping in tree\n",
    "    def value_swapper_in_BianryTree(root,elems_to_be_swapped):\n",
    "        if len(elems_to_be_swapped)==0:\n",
    "            return root\n",
    "        if root is None:\n",
    "            return \n",
    "        if root.val in elems_to_be_swapped:\n",
    "            idx=elems_to_be_swapped.index(root.val)\n",
    "            if idx==0:\n",
    "                root.val=elems_to_be_swapped[1]\n",
    "            else:\n",
    "                root.val=elems_to_be_swapped[0]\n",
    "        value_swapper_in_BianryTree(root.left,elems_to_be_swapped)\n",
    "        value_swapper_in_BianryTree(root.right,elems_to_be_swapped)\n",
    "        return root\n",
    "\n",
    "    inorderArray=inorder_traversal(root2)\n",
    "    sorted_inorderArray=inorderArray.copy()\n",
    "    sorted_inorderArray.sort()\n",
    "\n",
    "    elems_to_be_swapped=[]\n",
    "    for i in range(len(sorted_inorderArray)):\n",
    "        if sorted_inorderArray[i]!=inorderArray[i]:\n",
    "            elems_to_be_swapped.append(sorted_inorderArray[i])\n",
    "            break\n",
    "    for j in range(len(sorted_inorderArray)-1,-1,-1):\n",
    "        if sorted_inorderArray[j]!=inorderArray[j]:\n",
    "            elems_to_be_swapped.append(sorted_inorderArray[j])\n",
    "            break\n",
    "\n",
    "    return value_swapper_in_BianryTree(root,elems_to_be_swapped)\n",
    "\n",
    "\n",
    "print_binary_tree(recover_tree(root2))"
   ]
  },
  {
   "cell_type": "markdown",
   "id": "58cc63e0-e9d1-4512-ac60-5f0d50629b28",
   "metadata": {},
   "source": [
    "<h2><b>Question-4</b></h2>\n",
    "You are given the root of a binary search tree (BST) and an integer k. Your task is to return the k-th smallest value of all the values of the nodes in the tree.\n",
    "Input:\n",
    "root: The root of the binary search tree (BST).\n",
    "k: An integer representing the rank (1-indexed) of the smallest element to find.\n",
    "Output:\n",
    "Return the k-th smallest value from the BST.\n",
    "Example:\n",
    "Input:\n",
    "root = [3,1,4,null,2], k = 1\n",
    "Output:\n",
    "1\n",
    "Explanation:\n",
    "The in-order traversal of the tree is [1, 2, 3, 4], and the 1st smallest element is 1."
   ]
  },
  {
   "cell_type": "code",
   "execution_count": 196,
   "id": "52e15f7f-44d1-41d4-8435-30968df2dc3b",
   "metadata": {},
   "outputs": [
    {
     "data": {
      "text/plain": [
       "15"
      ]
     },
     "execution_count": 196,
     "metadata": {},
     "output_type": "execute_result"
    }
   ],
   "source": [
    "class TreeNode:\n",
    "    def __init__(self, val=0, left=None, right=None):\n",
    "        self.val = val\n",
    "        self.left = left\n",
    "        self.right = right\n",
    "\n",
    "def kth_smallest(root, k):\n",
    "    # Core logic for the learner to implement\n",
    "    def inorder_traversal(root):\n",
    "\n",
    "        def inorder_traversal_helper(root,res=[]):\n",
    "            if root is None:\n",
    "                return res\n",
    "            inorder_traversal_helper(root.left)\n",
    "            res.append(root.val)\n",
    "            inorder_traversal_helper(root.right)\n",
    "            return res\n",
    "        return inorder_traversal_helper(root)\n",
    "    if root is None:\n",
    "        return None\n",
    "    return inorder_traversal(root)[k-1]\n",
    "\n",
    "kth_smallest(root2,3)"
   ]
  },
  {
   "cell_type": "markdown",
   "id": "690facb9-f1a4-422a-931b-177d70d39ae2",
   "metadata": {},
   "source": [
    "<h2><b>Question-5</b></h2>\n",
    "You are given an arbitrary binary search tree (BST) with N nodes numbered from 1 to N. Each node has a value, and you are given Q queries. Each query is of the form [L, R], where L and R are integers representing the range. Your task is to find the number of nodes in the BST whose values lie within the range [L, R] for each query.\n",
    "Input:\n",
    "root: The root node of the binary search tree (BST).\n",
    "queries: A list of Q queries where each query is a list [L, R] representing the range.\n",
    "Output:\n",
    "A list of integers where each integer represents the count of nodes within the given range for each query.\n",
    "Example:\n",
    "Input:\n",
    "root = [10,5,15,1,7,null,20]\n",
    "queries = [[1, 5], [6, 10], [10, 20]]\n",
    "Output:\n",
    "[2, 1, 2]\n",
    "Explanation:\n",
    "- For query [1, 5], nodes within the range are [1, 5] (2 nodes).\n",
    "- For query [6, 10], nodes within the range are [7, 10] (1 node).\n",
    "- For query [10, 20], nodes within the range are [10, 15, 20] (2 nodes)."
   ]
  },
  {
   "cell_type": "code",
   "execution_count": 209,
   "id": "673654e6-6ec0-4792-be1f-d0d90b23edc0",
   "metadata": {},
   "outputs": [
    {
     "data": {
      "text/plain": [
       "[4, 2]"
      ]
     },
     "execution_count": 209,
     "metadata": {},
     "output_type": "execute_result"
    }
   ],
   "source": [
    "class TreeNode:\n",
    "    def __init__(self, val=0, left=None, right=None):\n",
    "        self.val = val\n",
    "        self.left = left\n",
    "        self.right = right\n",
    "\n",
    "def count_nodes_in_range(root, queries):\n",
    "    # Core logic for the learner to implement\n",
    "    def inorder_traversal(root):\n",
    "   \n",
    "        def inorder_traversal_helper(root,res=[]):\n",
    "            if root is None:\n",
    "                return res\n",
    "            inorder_traversal_helper(root.left)\n",
    "            res.append(root.val)\n",
    "            inorder_traversal_helper(root.right)\n",
    "            return res\n",
    "        return inorder_traversal_helper(root)\n",
    "    \n",
    "    if root is None:\n",
    "        return None\n",
    "    inorderArray=inorder_traversal(root)\n",
    "    nodes_in_range=[]\n",
    "    for query in queries:\n",
    "        for i,elem in enumerate(inorderArray):\n",
    "            if elem>=query[0]:\n",
    "                starting_idx=i\n",
    "                break\n",
    "        for j in range(len(inorderArray)-1,-1,-1):\n",
    "            if inorderArray[j]<=query[1]:\n",
    "                ending_idx=j\n",
    "                break \n",
    "        nodes_in_range.append(j-i+1)\n",
    "    return nodes_in_range\n",
    "\n",
    "count_nodes_in_range(root3,[[20,35],[59,69]])"
   ]
  }
 ],
 "metadata": {
  "kernelspec": {
   "display_name": "Python 3 (ipykernel)",
   "language": "python",
   "name": "python3"
  },
  "language_info": {
   "codemirror_mode": {
    "name": "ipython",
    "version": 3
   },
   "file_extension": ".py",
   "mimetype": "text/x-python",
   "name": "python",
   "nbconvert_exporter": "python",
   "pygments_lexer": "ipython3",
   "version": "3.12.7"
  }
 },
 "nbformat": 4,
 "nbformat_minor": 5
}
